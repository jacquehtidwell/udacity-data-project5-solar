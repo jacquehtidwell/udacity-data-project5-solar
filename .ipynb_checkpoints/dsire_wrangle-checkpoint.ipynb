{
 "cells": [
  {
   "cell_type": "code",
   "execution_count": 1,
   "metadata": {},
   "outputs": [],
   "source": [
    "import requests\n",
    "import numpy as np\n",
    "import pandas as pd\n",
    "import os\n",
    "\n",
    "import matplotlib.pyplot as plt\n",
    "%matplotlib inline\n",
    "from matplotlib import cm as cm\n",
    "\n",
    "import seaborn as sns \n",
    "import datetime\n",
    "from datetime import datetime"
   ]
  },
  {
   "cell_type": "markdown",
   "metadata": {},
   "source": [
    "# 1 Data Gathering - SolarView\n",
    "\n",
    "https://github.com/social-energy-atlas/solarview-data\n",
    "\n",
    "## 1.1 Installations"
   ]
  },
  {
   "cell_type": "code",
   "execution_count": 2,
   "metadata": {},
   "outputs": [
    {
     "data": {
      "text/html": [
       "<div>\n",
       "<style scoped>\n",
       "    .dataframe tbody tr th:only-of-type {\n",
       "        vertical-align: middle;\n",
       "    }\n",
       "\n",
       "    .dataframe tbody tr th {\n",
       "        vertical-align: top;\n",
       "    }\n",
       "\n",
       "    .dataframe thead th {\n",
       "        text-align: right;\n",
       "    }\n",
       "</style>\n",
       "<table border=\"1\" class=\"dataframe\">\n",
       "  <thead>\n",
       "    <tr style=\"text-align: right;\">\n",
       "      <th></th>\n",
       "      <th>sea-install-id</th>\n",
       "      <th>oiriginal-db</th>\n",
       "      <th>zip</th>\n",
       "      <th>fips</th>\n",
       "      <th>town</th>\n",
       "      <th>state</th>\n",
       "      <th>system-type</th>\n",
       "      <th>sector</th>\n",
       "      <th>install-date</th>\n",
       "      <th>utility</th>\n",
       "      <th>federal-cong-dist</th>\n",
       "      <th>state-senate-dist</th>\n",
       "      <th>state-house-dist</th>\n",
       "      <th>lat</th>\n",
       "      <th>long</th>\n",
       "    </tr>\n",
       "  </thead>\n",
       "  <tbody>\n",
       "    <tr>\n",
       "      <th>0</th>\n",
       "      <td>southface_S53</td>\n",
       "      <td>Southface</td>\n",
       "      <td>31408.0</td>\n",
       "      <td>13051</td>\n",
       "      <td>Garden City</td>\n",
       "      <td>Georgia</td>\n",
       "      <td>Solar Hot Water</td>\n",
       "      <td>Residential</td>\n",
       "      <td>2008-01-01</td>\n",
       "      <td>Georgia Power Company</td>\n",
       "      <td>1.0</td>\n",
       "      <td>2.0</td>\n",
       "      <td>162.0</td>\n",
       "      <td>32.119290</td>\n",
       "      <td>-81.151748</td>\n",
       "    </tr>\n",
       "    <tr>\n",
       "      <th>1</th>\n",
       "      <td>southface_S55</td>\n",
       "      <td>Southface</td>\n",
       "      <td>30601.0</td>\n",
       "      <td>13059</td>\n",
       "      <td>Athens</td>\n",
       "      <td>Georgia</td>\n",
       "      <td>Solar Hot Water</td>\n",
       "      <td>Residential</td>\n",
       "      <td>2008-01-01</td>\n",
       "      <td>Georgia Power Company</td>\n",
       "      <td>10.0</td>\n",
       "      <td>46.0</td>\n",
       "      <td>118.0</td>\n",
       "      <td>33.976445</td>\n",
       "      <td>-83.368683</td>\n",
       "    </tr>\n",
       "    <tr>\n",
       "      <th>2</th>\n",
       "      <td>southface_S59</td>\n",
       "      <td>Southface</td>\n",
       "      <td>30030.0</td>\n",
       "      <td>13089</td>\n",
       "      <td>Decatur</td>\n",
       "      <td>Georgia</td>\n",
       "      <td>Solar Hot Water</td>\n",
       "      <td>Residential</td>\n",
       "      <td>2008-01-01</td>\n",
       "      <td>Georgia Power Company</td>\n",
       "      <td>5.0</td>\n",
       "      <td>42.0</td>\n",
       "      <td>83.0</td>\n",
       "      <td>33.767515</td>\n",
       "      <td>-84.308954</td>\n",
       "    </tr>\n",
       "    <tr>\n",
       "      <th>3</th>\n",
       "      <td>southface_S52</td>\n",
       "      <td>Southface</td>\n",
       "      <td>30005.0</td>\n",
       "      <td>13121</td>\n",
       "      <td>Alpharetta</td>\n",
       "      <td>Georgia</td>\n",
       "      <td>Solar Hot Water</td>\n",
       "      <td>Residential</td>\n",
       "      <td>2008-01-01</td>\n",
       "      <td>Sawnee EMC</td>\n",
       "      <td>6.0</td>\n",
       "      <td>48.0</td>\n",
       "      <td>25.0</td>\n",
       "      <td>34.070288</td>\n",
       "      <td>-84.202196</td>\n",
       "    </tr>\n",
       "    <tr>\n",
       "      <th>4</th>\n",
       "      <td>southface_S49</td>\n",
       "      <td>Southface</td>\n",
       "      <td>30281.0</td>\n",
       "      <td>13151</td>\n",
       "      <td>Stockbridge</td>\n",
       "      <td>Georgia</td>\n",
       "      <td>Solar Hot Water</td>\n",
       "      <td>Residential</td>\n",
       "      <td>2008-01-01</td>\n",
       "      <td>Georgia Power Company</td>\n",
       "      <td>13.0</td>\n",
       "      <td>10.0</td>\n",
       "      <td>111.0</td>\n",
       "      <td>33.501071</td>\n",
       "      <td>-84.257491</td>\n",
       "    </tr>\n",
       "  </tbody>\n",
       "</table>\n",
       "</div>"
      ],
      "text/plain": [
       "  sea-install-id oiriginal-db      zip   fips         town    state  \\\n",
       "0  southface_S53    Southface  31408.0  13051  Garden City  Georgia   \n",
       "1  southface_S55    Southface  30601.0  13059       Athens  Georgia   \n",
       "2  southface_S59    Southface  30030.0  13089      Decatur  Georgia   \n",
       "3  southface_S52    Southface  30005.0  13121   Alpharetta  Georgia   \n",
       "4  southface_S49    Southface  30281.0  13151  Stockbridge  Georgia   \n",
       "\n",
       "       system-type       sector install-date                utility  \\\n",
       "0  Solar Hot Water  Residential   2008-01-01  Georgia Power Company   \n",
       "1  Solar Hot Water  Residential   2008-01-01  Georgia Power Company   \n",
       "2  Solar Hot Water  Residential   2008-01-01  Georgia Power Company   \n",
       "3  Solar Hot Water  Residential   2008-01-01             Sawnee EMC   \n",
       "4  Solar Hot Water  Residential   2008-01-01  Georgia Power Company   \n",
       "\n",
       "   federal-cong-dist  state-senate-dist  state-house-dist        lat  \\\n",
       "0                1.0                2.0             162.0  32.119290   \n",
       "1               10.0               46.0             118.0  33.976445   \n",
       "2                5.0               42.0              83.0  33.767515   \n",
       "3                6.0               48.0              25.0  34.070288   \n",
       "4               13.0               10.0             111.0  33.501071   \n",
       "\n",
       "        long  \n",
       "0 -81.151748  \n",
       "1 -83.368683  \n",
       "2 -84.308954  \n",
       "3 -84.202196  \n",
       "4 -84.257491  "
      ]
     },
     "execution_count": 2,
     "metadata": {},
     "output_type": "execute_result"
    }
   ],
   "source": [
    "installs = pd.read_csv('data/sea-solar-installations.csv', encoding='utf-8')\n",
    "installs.head(5)"
   ]
  },
  {
   "cell_type": "code",
   "execution_count": 3,
   "metadata": {},
   "outputs": [
    {
     "name": "stdout",
     "output_type": "stream",
     "text": [
      "<class 'pandas.core.frame.DataFrame'>\n",
      "RangeIndex: 2147 entries, 0 to 2146\n",
      "Data columns (total 15 columns):\n",
      "sea-install-id       2147 non-null object\n",
      "oiriginal-db         2147 non-null object\n",
      "zip                  2146 non-null float64\n",
      "fips                 2147 non-null int64\n",
      "town                 2107 non-null object\n",
      "state                2147 non-null object\n",
      "system-type          2147 non-null object\n",
      "sector               2147 non-null object\n",
      "install-date         2147 non-null object\n",
      "utility              603 non-null object\n",
      "federal-cong-dist    767 non-null float64\n",
      "state-senate-dist    767 non-null float64\n",
      "state-house-dist     767 non-null float64\n",
      "lat                  2125 non-null float64\n",
      "long                 2125 non-null float64\n",
      "dtypes: float64(6), int64(1), object(8)\n",
      "memory usage: 251.7+ KB\n"
     ]
    }
   ],
   "source": [
    "installs.info()"
   ]
  },
  {
   "cell_type": "markdown",
   "metadata": {},
   "source": [
    "## 1.2 County-level Census Data"
   ]
  },
  {
   "cell_type": "code",
   "execution_count": 4,
   "metadata": {},
   "outputs": [
    {
     "data": {
      "text/html": [
       "<div>\n",
       "<style scoped>\n",
       "    .dataframe tbody tr th:only-of-type {\n",
       "        vertical-align: middle;\n",
       "    }\n",
       "\n",
       "    .dataframe tbody tr th {\n",
       "        vertical-align: top;\n",
       "    }\n",
       "\n",
       "    .dataframe thead th {\n",
       "        text-align: right;\n",
       "    }\n",
       "</style>\n",
       "<table border=\"1\" class=\"dataframe\">\n",
       "  <thead>\n",
       "    <tr style=\"text-align: right;\">\n",
       "      <th></th>\n",
       "      <th>fips</th>\n",
       "      <th>med-income</th>\n",
       "      <th>owner-occ</th>\n",
       "      <th>pop-tot</th>\n",
       "      <th>dem-fem-pct</th>\n",
       "      <th>dem-male-pct</th>\n",
       "      <th>dem-white-pct</th>\n",
       "      <th>dem-baa-pct</th>\n",
       "      <th>dem-aian-pct</th>\n",
       "      <th>dem-a-pct</th>\n",
       "      <th>dem-nhpi-pct</th>\n",
       "      <th>dem-two-pct</th>\n",
       "      <th>dem-hl-pct</th>\n",
       "      <th>dem-vet</th>\n",
       "      <th>dem-hh</th>\n",
       "    </tr>\n",
       "  </thead>\n",
       "  <tbody>\n",
       "    <tr>\n",
       "      <th>0</th>\n",
       "      <td>13001</td>\n",
       "      <td>$37,135.00</td>\n",
       "      <td>71.10%</td>\n",
       "      <td>18428</td>\n",
       "      <td>50.10%</td>\n",
       "      <td>49.90%</td>\n",
       "      <td>69.50%</td>\n",
       "      <td>19.40%</td>\n",
       "      <td>0.60%</td>\n",
       "      <td>0.90%</td>\n",
       "      <td>0.20%</td>\n",
       "      <td>1.20%</td>\n",
       "      <td>9.60%</td>\n",
       "      <td>1053</td>\n",
       "      <td>8381</td>\n",
       "    </tr>\n",
       "    <tr>\n",
       "      <th>1</th>\n",
       "      <td>13003</td>\n",
       "      <td>$30,933.00</td>\n",
       "      <td>72.00%</td>\n",
       "      <td>8273</td>\n",
       "      <td>49.90%</td>\n",
       "      <td>50.10%</td>\n",
       "      <td>56.20%</td>\n",
       "      <td>17.50%</td>\n",
       "      <td>1.40%</td>\n",
       "      <td>0.90%</td>\n",
       "      <td>1.10%</td>\n",
       "      <td>2.10%</td>\n",
       "      <td>25.20%</td>\n",
       "      <td>385</td>\n",
       "      <td>3429</td>\n",
       "    </tr>\n",
       "    <tr>\n",
       "      <th>2</th>\n",
       "      <td>13005</td>\n",
       "      <td>$37,162.00</td>\n",
       "      <td>68.60%</td>\n",
       "      <td>11372</td>\n",
       "      <td>50.70%</td>\n",
       "      <td>49.30%</td>\n",
       "      <td>73.10%</td>\n",
       "      <td>16.60%</td>\n",
       "      <td>0.30%</td>\n",
       "      <td>0.60%</td>\n",
       "      <td>0.20%</td>\n",
       "      <td>1.60%</td>\n",
       "      <td>8.70%</td>\n",
       "      <td>559</td>\n",
       "      <td>4715</td>\n",
       "    </tr>\n",
       "    <tr>\n",
       "      <th>3</th>\n",
       "      <td>13007</td>\n",
       "      <td>$44,297.00</td>\n",
       "      <td>73.60%</td>\n",
       "      <td>3150</td>\n",
       "      <td>51.40%</td>\n",
       "      <td>48.60%</td>\n",
       "      <td>47.00%</td>\n",
       "      <td>45.90%</td>\n",
       "      <td>0.40%</td>\n",
       "      <td>1.10%</td>\n",
       "      <td>0.10%</td>\n",
       "      <td>1.10%</td>\n",
       "      <td>5.60%</td>\n",
       "      <td>178</td>\n",
       "      <td>1620</td>\n",
       "    </tr>\n",
       "    <tr>\n",
       "      <th>4</th>\n",
       "      <td>13009</td>\n",
       "      <td>$32,460.00</td>\n",
       "      <td>53.80%</td>\n",
       "      <td>45144</td>\n",
       "      <td>49.40%</td>\n",
       "      <td>50.60%</td>\n",
       "      <td>52.60%</td>\n",
       "      <td>42.40%</td>\n",
       "      <td>0.30%</td>\n",
       "      <td>1.80%</td>\n",
       "      <td>0.10%</td>\n",
       "      <td>1.20%</td>\n",
       "      <td>2.20%</td>\n",
       "      <td>2911</td>\n",
       "      <td>20277</td>\n",
       "    </tr>\n",
       "  </tbody>\n",
       "</table>\n",
       "</div>"
      ],
      "text/plain": [
       "    fips med-income  owner-occ pop-tot dem-fem-pct dem-male-pct dem-white-pct  \\\n",
       "0  13001  $37,135.00    71.10%   18428      50.10%       49.90%        69.50%   \n",
       "1  13003  $30,933.00    72.00%    8273      49.90%       50.10%        56.20%   \n",
       "2  13005  $37,162.00    68.60%   11372      50.70%       49.30%        73.10%   \n",
       "3  13007  $44,297.00    73.60%    3150      51.40%       48.60%        47.00%   \n",
       "4  13009  $32,460.00    53.80%   45144      49.40%       50.60%        52.60%   \n",
       "\n",
       "  dem-baa-pct dem-aian-pct dem-a-pct dem-nhpi-pct dem-two-pct dem-hl-pct  \\\n",
       "0      19.40%        0.60%     0.90%        0.20%       1.20%      9.60%   \n",
       "1      17.50%        1.40%     0.90%        1.10%       2.10%     25.20%   \n",
       "2      16.60%        0.30%     0.60%        0.20%       1.60%      8.70%   \n",
       "3      45.90%        0.40%     1.10%        0.10%       1.10%      5.60%   \n",
       "4      42.40%        0.30%     1.80%        0.10%       1.20%      2.20%   \n",
       "\n",
       "  dem-vet dem-hh  \n",
       "0    1053   8381  \n",
       "1     385   3429  \n",
       "2     559   4715  \n",
       "3     178   1620  \n",
       "4    2911  20277  "
      ]
     },
     "execution_count": 4,
     "metadata": {},
     "output_type": "execute_result"
    }
   ],
   "source": [
    "census = pd.read_csv('data/sea-county-census.csv', encoding='utf-8')\n",
    "census.head(5)"
   ]
  },
  {
   "cell_type": "markdown",
   "metadata": {},
   "source": [
    "## 1.3 County Name-Fips Map"
   ]
  },
  {
   "cell_type": "code",
   "execution_count": 5,
   "metadata": {},
   "outputs": [
    {
     "data": {
      "text/html": [
       "<div>\n",
       "<style scoped>\n",
       "    .dataframe tbody tr th:only-of-type {\n",
       "        vertical-align: middle;\n",
       "    }\n",
       "\n",
       "    .dataframe tbody tr th {\n",
       "        vertical-align: top;\n",
       "    }\n",
       "\n",
       "    .dataframe thead th {\n",
       "        text-align: right;\n",
       "    }\n",
       "</style>\n",
       "<table border=\"1\" class=\"dataframe\">\n",
       "  <thead>\n",
       "    <tr style=\"text-align: right;\">\n",
       "      <th></th>\n",
       "      <th>fips</th>\n",
       "      <th>county</th>\n",
       "    </tr>\n",
       "  </thead>\n",
       "  <tbody>\n",
       "    <tr>\n",
       "      <th>0</th>\n",
       "      <td>13001</td>\n",
       "      <td>Appling</td>\n",
       "    </tr>\n",
       "    <tr>\n",
       "      <th>1</th>\n",
       "      <td>13003</td>\n",
       "      <td>Atkinson</td>\n",
       "    </tr>\n",
       "    <tr>\n",
       "      <th>2</th>\n",
       "      <td>13005</td>\n",
       "      <td>Bacon</td>\n",
       "    </tr>\n",
       "    <tr>\n",
       "      <th>3</th>\n",
       "      <td>13007</td>\n",
       "      <td>Baker</td>\n",
       "    </tr>\n",
       "    <tr>\n",
       "      <th>4</th>\n",
       "      <td>13009</td>\n",
       "      <td>Baldwin</td>\n",
       "    </tr>\n",
       "  </tbody>\n",
       "</table>\n",
       "</div>"
      ],
      "text/plain": [
       "    fips    county\n",
       "0  13001   Appling\n",
       "1  13003  Atkinson\n",
       "2  13005     Bacon\n",
       "3  13007     Baker\n",
       "4  13009   Baldwin"
      ]
     },
     "execution_count": 5,
     "metadata": {},
     "output_type": "execute_result"
    }
   ],
   "source": [
    "fips = pd.read_csv('data/sea-county-name.csv', encoding='utf-8')\n",
    "fips.head(5)"
   ]
  },
  {
   "cell_type": "markdown",
   "metadata": {},
   "source": [
    "## 1.4 Zillow Valuation Information"
   ]
  },
  {
   "cell_type": "code",
   "execution_count": 6,
   "metadata": {},
   "outputs": [
    {
     "data": {
      "text/html": [
       "<div>\n",
       "<style scoped>\n",
       "    .dataframe tbody tr th:only-of-type {\n",
       "        vertical-align: middle;\n",
       "    }\n",
       "\n",
       "    .dataframe tbody tr th {\n",
       "        vertical-align: top;\n",
       "    }\n",
       "\n",
       "    .dataframe thead th {\n",
       "        text-align: right;\n",
       "    }\n",
       "</style>\n",
       "<table border=\"1\" class=\"dataframe\">\n",
       "  <thead>\n",
       "    <tr style=\"text-align: right;\">\n",
       "      <th></th>\n",
       "      <th>fips</th>\n",
       "      <th>med-zhvi</th>\n",
       "      <th>med-zrvi</th>\n",
       "    </tr>\n",
       "  </thead>\n",
       "  <tbody>\n",
       "    <tr>\n",
       "      <th>0</th>\n",
       "      <td>13001</td>\n",
       "      <td>NaN</td>\n",
       "      <td>NaN</td>\n",
       "    </tr>\n",
       "    <tr>\n",
       "      <th>1</th>\n",
       "      <td>13003</td>\n",
       "      <td>NaN</td>\n",
       "      <td>NaN</td>\n",
       "    </tr>\n",
       "    <tr>\n",
       "      <th>2</th>\n",
       "      <td>13005</td>\n",
       "      <td>NaN</td>\n",
       "      <td>NaN</td>\n",
       "    </tr>\n",
       "    <tr>\n",
       "      <th>3</th>\n",
       "      <td>13007</td>\n",
       "      <td>NaN</td>\n",
       "      <td>NaN</td>\n",
       "    </tr>\n",
       "    <tr>\n",
       "      <th>4</th>\n",
       "      <td>13009</td>\n",
       "      <td>$66.08</td>\n",
       "      <td>$0.62</td>\n",
       "    </tr>\n",
       "  </tbody>\n",
       "</table>\n",
       "</div>"
      ],
      "text/plain": [
       "    fips med-zhvi med-zrvi\n",
       "0  13001      NaN      NaN\n",
       "1  13003      NaN      NaN\n",
       "2  13005      NaN      NaN\n",
       "3  13007      NaN      NaN\n",
       "4  13009  $66.08    $0.62 "
      ]
     },
     "execution_count": 6,
     "metadata": {},
     "output_type": "execute_result"
    }
   ],
   "source": [
    "zillow = pd.read_csv('data/sea-county-zillow.csv', encoding='utf-8')\n",
    "zillow.head(5)"
   ]
  },
  {
   "cell_type": "markdown",
   "metadata": {},
   "source": [
    "## 1.5 DSIRE Incentive Counts"
   ]
  },
  {
   "cell_type": "code",
   "execution_count": 7,
   "metadata": {},
   "outputs": [
    {
     "data": {
      "text/html": [
       "<div>\n",
       "<style scoped>\n",
       "    .dataframe tbody tr th:only-of-type {\n",
       "        vertical-align: middle;\n",
       "    }\n",
       "\n",
       "    .dataframe tbody tr th {\n",
       "        vertical-align: top;\n",
       "    }\n",
       "\n",
       "    .dataframe thead th {\n",
       "        text-align: right;\n",
       "    }\n",
       "</style>\n",
       "<table border=\"1\" class=\"dataframe\">\n",
       "  <thead>\n",
       "    <tr style=\"text-align: right;\">\n",
       "      <th></th>\n",
       "      <th>fips</th>\n",
       "      <th>fed-total</th>\n",
       "      <th>fed-fin-incent-total</th>\n",
       "      <th>fed-fin-incent-corp-deprec</th>\n",
       "      <th>fed-fin-incent-corp-tax-credit</th>\n",
       "      <th>fed-fin-incent-corp-tax-deduction</th>\n",
       "      <th>fed-fin-incent-corp-tax-exemption</th>\n",
       "      <th>fed-fin-incent-grant-prog</th>\n",
       "      <th>fed-fin-incent-loan-prog</th>\n",
       "      <th>fed-fin-incent-pers-tax-credit</th>\n",
       "      <th>...</th>\n",
       "      <th>state-reg-policy</th>\n",
       "      <th>state-reg-policy-build-energy-code</th>\n",
       "      <th>state-reg-policy-energy-stand-build</th>\n",
       "      <th>state-reg-policy-interconn</th>\n",
       "      <th>state-reg-policy-net-metering</th>\n",
       "      <th>state-reg-policy-solar-wind-access</th>\n",
       "      <th>state-tech-res</th>\n",
       "      <th>state-tech-res-energy-analysis</th>\n",
       "      <th>state-tech-res-other</th>\n",
       "      <th>state-tech-res-training-info</th>\n",
       "    </tr>\n",
       "  </thead>\n",
       "  <tbody>\n",
       "    <tr>\n",
       "      <th>0</th>\n",
       "      <td>13001</td>\n",
       "      <td>41</td>\n",
       "      <td>24</td>\n",
       "      <td>1</td>\n",
       "      <td>2</td>\n",
       "      <td>1</td>\n",
       "      <td>2</td>\n",
       "      <td>7</td>\n",
       "      <td>8</td>\n",
       "      <td>2</td>\n",
       "      <td>...</td>\n",
       "      <td>4</td>\n",
       "      <td>1</td>\n",
       "      <td>NaN</td>\n",
       "      <td>1</td>\n",
       "      <td>1</td>\n",
       "      <td>1</td>\n",
       "      <td>5</td>\n",
       "      <td>4</td>\n",
       "      <td>0</td>\n",
       "      <td>1</td>\n",
       "    </tr>\n",
       "    <tr>\n",
       "      <th>1</th>\n",
       "      <td>13003</td>\n",
       "      <td>41</td>\n",
       "      <td>24</td>\n",
       "      <td>1</td>\n",
       "      <td>2</td>\n",
       "      <td>1</td>\n",
       "      <td>2</td>\n",
       "      <td>7</td>\n",
       "      <td>8</td>\n",
       "      <td>2</td>\n",
       "      <td>...</td>\n",
       "      <td>4</td>\n",
       "      <td>1</td>\n",
       "      <td>NaN</td>\n",
       "      <td>1</td>\n",
       "      <td>1</td>\n",
       "      <td>1</td>\n",
       "      <td>5</td>\n",
       "      <td>4</td>\n",
       "      <td>0</td>\n",
       "      <td>1</td>\n",
       "    </tr>\n",
       "    <tr>\n",
       "      <th>2</th>\n",
       "      <td>13005</td>\n",
       "      <td>41</td>\n",
       "      <td>24</td>\n",
       "      <td>1</td>\n",
       "      <td>2</td>\n",
       "      <td>1</td>\n",
       "      <td>2</td>\n",
       "      <td>7</td>\n",
       "      <td>8</td>\n",
       "      <td>2</td>\n",
       "      <td>...</td>\n",
       "      <td>4</td>\n",
       "      <td>1</td>\n",
       "      <td>NaN</td>\n",
       "      <td>1</td>\n",
       "      <td>1</td>\n",
       "      <td>1</td>\n",
       "      <td>5</td>\n",
       "      <td>4</td>\n",
       "      <td>0</td>\n",
       "      <td>1</td>\n",
       "    </tr>\n",
       "    <tr>\n",
       "      <th>3</th>\n",
       "      <td>13007</td>\n",
       "      <td>41</td>\n",
       "      <td>24</td>\n",
       "      <td>1</td>\n",
       "      <td>2</td>\n",
       "      <td>1</td>\n",
       "      <td>2</td>\n",
       "      <td>7</td>\n",
       "      <td>8</td>\n",
       "      <td>2</td>\n",
       "      <td>...</td>\n",
       "      <td>4</td>\n",
       "      <td>1</td>\n",
       "      <td>NaN</td>\n",
       "      <td>1</td>\n",
       "      <td>1</td>\n",
       "      <td>1</td>\n",
       "      <td>5</td>\n",
       "      <td>4</td>\n",
       "      <td>0</td>\n",
       "      <td>1</td>\n",
       "    </tr>\n",
       "    <tr>\n",
       "      <th>4</th>\n",
       "      <td>13009</td>\n",
       "      <td>41</td>\n",
       "      <td>24</td>\n",
       "      <td>1</td>\n",
       "      <td>2</td>\n",
       "      <td>1</td>\n",
       "      <td>2</td>\n",
       "      <td>7</td>\n",
       "      <td>8</td>\n",
       "      <td>2</td>\n",
       "      <td>...</td>\n",
       "      <td>4</td>\n",
       "      <td>1</td>\n",
       "      <td>NaN</td>\n",
       "      <td>1</td>\n",
       "      <td>1</td>\n",
       "      <td>1</td>\n",
       "      <td>5</td>\n",
       "      <td>4</td>\n",
       "      <td>0</td>\n",
       "      <td>1</td>\n",
       "    </tr>\n",
       "  </tbody>\n",
       "</table>\n",
       "<p>5 rows × 38 columns</p>\n",
       "</div>"
      ],
      "text/plain": [
       "    fips  fed-total  fed-fin-incent-total  fed-fin-incent-corp-deprec  \\\n",
       "0  13001         41                    24                           1   \n",
       "1  13003         41                    24                           1   \n",
       "2  13005         41                    24                           1   \n",
       "3  13007         41                    24                           1   \n",
       "4  13009         41                    24                           1   \n",
       "\n",
       "   fed-fin-incent-corp-tax-credit  fed-fin-incent-corp-tax-deduction  \\\n",
       "0                               2                                  1   \n",
       "1                               2                                  1   \n",
       "2                               2                                  1   \n",
       "3                               2                                  1   \n",
       "4                               2                                  1   \n",
       "\n",
       "   fed-fin-incent-corp-tax-exemption  fed-fin-incent-grant-prog  \\\n",
       "0                                  2                          7   \n",
       "1                                  2                          7   \n",
       "2                                  2                          7   \n",
       "3                                  2                          7   \n",
       "4                                  2                          7   \n",
       "\n",
       "   fed-fin-incent-loan-prog  fed-fin-incent-pers-tax-credit  ...  \\\n",
       "0                         8                               2  ...   \n",
       "1                         8                               2  ...   \n",
       "2                         8                               2  ...   \n",
       "3                         8                               2  ...   \n",
       "4                         8                               2  ...   \n",
       "\n",
       "   state-reg-policy  state-reg-policy-build-energy-code  \\\n",
       "0                 4                                   1   \n",
       "1                 4                                   1   \n",
       "2                 4                                   1   \n",
       "3                 4                                   1   \n",
       "4                 4                                   1   \n",
       "\n",
       "   state-reg-policy-energy-stand-build  state-reg-policy-interconn  \\\n",
       "0                                  NaN                           1   \n",
       "1                                  NaN                           1   \n",
       "2                                  NaN                           1   \n",
       "3                                  NaN                           1   \n",
       "4                                  NaN                           1   \n",
       "\n",
       "   state-reg-policy-net-metering  state-reg-policy-solar-wind-access  \\\n",
       "0                              1                                   1   \n",
       "1                              1                                   1   \n",
       "2                              1                                   1   \n",
       "3                              1                                   1   \n",
       "4                              1                                   1   \n",
       "\n",
       "   state-tech-res  state-tech-res-energy-analysis  state-tech-res-other  \\\n",
       "0               5                               4                     0   \n",
       "1               5                               4                     0   \n",
       "2               5                               4                     0   \n",
       "3               5                               4                     0   \n",
       "4               5                               4                     0   \n",
       "\n",
       "   state-tech-res-training-info  \n",
       "0                             1  \n",
       "1                             1  \n",
       "2                             1  \n",
       "3                             1  \n",
       "4                             1  \n",
       "\n",
       "[5 rows x 38 columns]"
      ]
     },
     "execution_count": 7,
     "metadata": {},
     "output_type": "execute_result"
    }
   ],
   "source": [
    "dsire = pd.read_csv('data/sea-dsire-incentives.csv', encoding='utf-8')\n",
    "dsire.head(5)"
   ]
  },
  {
   "cell_type": "markdown",
   "metadata": {},
   "source": [
    "## 1.6 Solar Suitability"
   ]
  },
  {
   "cell_type": "code",
   "execution_count": 8,
   "metadata": {},
   "outputs": [
    {
     "data": {
      "text/html": [
       "<div>\n",
       "<style scoped>\n",
       "    .dataframe tbody tr th:only-of-type {\n",
       "        vertical-align: middle;\n",
       "    }\n",
       "\n",
       "    .dataframe tbody tr th {\n",
       "        vertical-align: top;\n",
       "    }\n",
       "\n",
       "    .dataframe thead th {\n",
       "        text-align: right;\n",
       "    }\n",
       "</style>\n",
       "<table border=\"1\" class=\"dataframe\">\n",
       "  <thead>\n",
       "    <tr style=\"text-align: right;\">\n",
       "      <th></th>\n",
       "      <th>zip</th>\n",
       "      <th>locale</th>\n",
       "      <th>nbld</th>\n",
       "      <th>pct-suitable</th>\n",
       "    </tr>\n",
       "  </thead>\n",
       "  <tbody>\n",
       "    <tr>\n",
       "      <th>0</th>\n",
       "      <td>30002</td>\n",
       "      <td>Suburb Large</td>\n",
       "      <td>1607.0</td>\n",
       "      <td>0.634723</td>\n",
       "    </tr>\n",
       "    <tr>\n",
       "      <th>1</th>\n",
       "      <td>30004</td>\n",
       "      <td>Suburb Large</td>\n",
       "      <td>13273.0</td>\n",
       "      <td>0.820359</td>\n",
       "    </tr>\n",
       "    <tr>\n",
       "      <th>2</th>\n",
       "      <td>30005</td>\n",
       "      <td>Suburb Large</td>\n",
       "      <td>8411.0</td>\n",
       "      <td>0.841822</td>\n",
       "    </tr>\n",
       "    <tr>\n",
       "      <th>3</th>\n",
       "      <td>30008</td>\n",
       "      <td>Suburb Large</td>\n",
       "      <td>5849.0</td>\n",
       "      <td>0.819148</td>\n",
       "    </tr>\n",
       "    <tr>\n",
       "      <th>4</th>\n",
       "      <td>30009</td>\n",
       "      <td>Suburb Large</td>\n",
       "      <td>3358.0</td>\n",
       "      <td>0.824698</td>\n",
       "    </tr>\n",
       "  </tbody>\n",
       "</table>\n",
       "</div>"
      ],
      "text/plain": [
       "     zip        locale     nbld  pct-suitable\n",
       "0  30002  Suburb Large   1607.0      0.634723\n",
       "1  30004  Suburb Large  13273.0      0.820359\n",
       "2  30005  Suburb Large   8411.0      0.841822\n",
       "3  30008  Suburb Large   5849.0      0.819148\n",
       "4  30009  Suburb Large   3358.0      0.824698"
      ]
     },
     "execution_count": 8,
     "metadata": {},
     "output_type": "execute_result"
    }
   ],
   "source": [
    "suit = pd.read_csv('data/sea-solar-suitability.csv', encoding='utf-8')\n",
    "suit.head(5)"
   ]
  },
  {
   "cell_type": "markdown",
   "metadata": {},
   "source": [
    "## 1.7 Utility List and Ownership Type"
   ]
  },
  {
   "cell_type": "code",
   "execution_count": 9,
   "metadata": {},
   "outputs": [
    {
     "data": {
      "text/html": [
       "<div>\n",
       "<style scoped>\n",
       "    .dataframe tbody tr th:only-of-type {\n",
       "        vertical-align: middle;\n",
       "    }\n",
       "\n",
       "    .dataframe tbody tr th {\n",
       "        vertical-align: top;\n",
       "    }\n",
       "\n",
       "    .dataframe thead th {\n",
       "        text-align: right;\n",
       "    }\n",
       "</style>\n",
       "<table border=\"1\" class=\"dataframe\">\n",
       "  <thead>\n",
       "    <tr style=\"text-align: right;\">\n",
       "      <th></th>\n",
       "      <th>utility-id</th>\n",
       "      <th>name</th>\n",
       "      <th>ownership</th>\n",
       "    </tr>\n",
       "  </thead>\n",
       "  <tbody>\n",
       "    <tr>\n",
       "      <th>0</th>\n",
       "      <td>sea-util-1</td>\n",
       "      <td>Albany Water Gas &amp; Light Comm</td>\n",
       "      <td>Municipal</td>\n",
       "    </tr>\n",
       "    <tr>\n",
       "      <th>1</th>\n",
       "      <td>sea-util-2</td>\n",
       "      <td>Altamaha Electric Member Corp</td>\n",
       "      <td>Cooperative</td>\n",
       "    </tr>\n",
       "    <tr>\n",
       "      <th>2</th>\n",
       "      <td>sea-util-3</td>\n",
       "      <td>Amicalola Electric Member Corp</td>\n",
       "      <td>Cooperative</td>\n",
       "    </tr>\n",
       "    <tr>\n",
       "      <th>3</th>\n",
       "      <td>sea-util-4</td>\n",
       "      <td>Blue Ridge Mountain EMC - (GA)</td>\n",
       "      <td>Cooperative</td>\n",
       "    </tr>\n",
       "    <tr>\n",
       "      <th>4</th>\n",
       "      <td>sea-util-5</td>\n",
       "      <td>Canoochee Electric Member Corp</td>\n",
       "      <td>Cooperative</td>\n",
       "    </tr>\n",
       "  </tbody>\n",
       "</table>\n",
       "</div>"
      ],
      "text/plain": [
       "   utility-id                            name    ownership\n",
       "0  sea-util-1   Albany Water Gas & Light Comm    Municipal\n",
       "1  sea-util-2   Altamaha Electric Member Corp  Cooperative\n",
       "2  sea-util-3  Amicalola Electric Member Corp  Cooperative\n",
       "3  sea-util-4  Blue Ridge Mountain EMC - (GA)  Cooperative\n",
       "4  sea-util-5  Canoochee Electric Member Corp  Cooperative"
      ]
     },
     "execution_count": 9,
     "metadata": {},
     "output_type": "execute_result"
    }
   ],
   "source": [
    "util = pd.read_csv('data/sea-utility-id.csv', encoding='utf-8')\n",
    "util.head(5)"
   ]
  },
  {
   "cell_type": "markdown",
   "metadata": {},
   "source": [
    "## 1.8 Utility Rates"
   ]
  },
  {
   "cell_type": "code",
   "execution_count": 10,
   "metadata": {},
   "outputs": [
    {
     "data": {
      "text/html": [
       "<div>\n",
       "<style scoped>\n",
       "    .dataframe tbody tr th:only-of-type {\n",
       "        vertical-align: middle;\n",
       "    }\n",
       "\n",
       "    .dataframe tbody tr th {\n",
       "        vertical-align: top;\n",
       "    }\n",
       "\n",
       "    .dataframe thead th {\n",
       "        text-align: right;\n",
       "    }\n",
       "</style>\n",
       "<table border=\"1\" class=\"dataframe\">\n",
       "  <thead>\n",
       "    <tr style=\"text-align: right;\">\n",
       "      <th></th>\n",
       "      <th>sea-rate-id</th>\n",
       "      <th>year</th>\n",
       "      <th>zip</th>\n",
       "      <th>utility-id</th>\n",
       "      <th>service-type</th>\n",
       "      <th>comm-rate</th>\n",
       "      <th>ind-rate</th>\n",
       "      <th>res-rate</th>\n",
       "    </tr>\n",
       "  </thead>\n",
       "  <tbody>\n",
       "    <tr>\n",
       "      <th>0</th>\n",
       "      <td>sea-util-1-rate-31702</td>\n",
       "      <td>2015</td>\n",
       "      <td>31702</td>\n",
       "      <td>sea-util-1</td>\n",
       "      <td>Bundled</td>\n",
       "      <td>0.105766</td>\n",
       "      <td>0.0</td>\n",
       "      <td>0.108669</td>\n",
       "    </tr>\n",
       "    <tr>\n",
       "      <th>1</th>\n",
       "      <td>sea-util-1-rate-31703</td>\n",
       "      <td>2015</td>\n",
       "      <td>31703</td>\n",
       "      <td>sea-util-1</td>\n",
       "      <td>Bundled</td>\n",
       "      <td>0.105766</td>\n",
       "      <td>0.0</td>\n",
       "      <td>0.108669</td>\n",
       "    </tr>\n",
       "    <tr>\n",
       "      <th>2</th>\n",
       "      <td>sea-util-1-rate-31706</td>\n",
       "      <td>2015</td>\n",
       "      <td>31706</td>\n",
       "      <td>sea-util-1</td>\n",
       "      <td>Bundled</td>\n",
       "      <td>0.105766</td>\n",
       "      <td>0.0</td>\n",
       "      <td>0.108669</td>\n",
       "    </tr>\n",
       "    <tr>\n",
       "      <th>3</th>\n",
       "      <td>sea-util-1-rate-31705</td>\n",
       "      <td>2015</td>\n",
       "      <td>31705</td>\n",
       "      <td>sea-util-1</td>\n",
       "      <td>Bundled</td>\n",
       "      <td>0.105766</td>\n",
       "      <td>0.0</td>\n",
       "      <td>0.108669</td>\n",
       "    </tr>\n",
       "    <tr>\n",
       "      <th>4</th>\n",
       "      <td>sea-util-1-rate-31701</td>\n",
       "      <td>2015</td>\n",
       "      <td>31701</td>\n",
       "      <td>sea-util-1</td>\n",
       "      <td>Bundled</td>\n",
       "      <td>0.105766</td>\n",
       "      <td>0.0</td>\n",
       "      <td>0.108669</td>\n",
       "    </tr>\n",
       "  </tbody>\n",
       "</table>\n",
       "</div>"
      ],
      "text/plain": [
       "             sea-rate-id  year    zip  utility-id service-type  comm-rate  \\\n",
       "0  sea-util-1-rate-31702  2015  31702  sea-util-1      Bundled   0.105766   \n",
       "1  sea-util-1-rate-31703  2015  31703  sea-util-1      Bundled   0.105766   \n",
       "2  sea-util-1-rate-31706  2015  31706  sea-util-1      Bundled   0.105766   \n",
       "3  sea-util-1-rate-31705  2015  31705  sea-util-1      Bundled   0.105766   \n",
       "4  sea-util-1-rate-31701  2015  31701  sea-util-1      Bundled   0.105766   \n",
       "\n",
       "   ind-rate  res-rate  \n",
       "0       0.0  0.108669  \n",
       "1       0.0  0.108669  \n",
       "2       0.0  0.108669  \n",
       "3       0.0  0.108669  \n",
       "4       0.0  0.108669  "
      ]
     },
     "execution_count": 10,
     "metadata": {},
     "output_type": "execute_result"
    }
   ],
   "source": [
    "util_rates = pd.read_csv('data/sea-utility-rates.csv', encoding='utf-8')\n",
    "util_rates.head(5)"
   ]
  },
  {
   "cell_type": "markdown",
   "metadata": {},
   "source": [
    "## 1.9 Zipcode Table"
   ]
  },
  {
   "cell_type": "code",
   "execution_count": 11,
   "metadata": {},
   "outputs": [
    {
     "data": {
      "text/html": [
       "<div>\n",
       "<style scoped>\n",
       "    .dataframe tbody tr th:only-of-type {\n",
       "        vertical-align: middle;\n",
       "    }\n",
       "\n",
       "    .dataframe tbody tr th {\n",
       "        vertical-align: top;\n",
       "    }\n",
       "\n",
       "    .dataframe thead th {\n",
       "        text-align: right;\n",
       "    }\n",
       "</style>\n",
       "<table border=\"1\" class=\"dataframe\">\n",
       "  <thead>\n",
       "    <tr style=\"text-align: right;\">\n",
       "      <th></th>\n",
       "      <th>sea-zip-id</th>\n",
       "      <th>zip</th>\n",
       "      <th>fips</th>\n",
       "      <th>year</th>\n",
       "    </tr>\n",
       "  </thead>\n",
       "  <tbody>\n",
       "    <tr>\n",
       "      <th>0</th>\n",
       "      <td>zip-2018-1</td>\n",
       "      <td>31557</td>\n",
       "      <td>13001</td>\n",
       "      <td>2018</td>\n",
       "    </tr>\n",
       "    <tr>\n",
       "      <th>1</th>\n",
       "      <td>zip-2018-2</td>\n",
       "      <td>31513</td>\n",
       "      <td>13001</td>\n",
       "      <td>2018</td>\n",
       "    </tr>\n",
       "    <tr>\n",
       "      <th>2</th>\n",
       "      <td>zip-2018-3</td>\n",
       "      <td>31518</td>\n",
       "      <td>13001</td>\n",
       "      <td>2018</td>\n",
       "    </tr>\n",
       "    <tr>\n",
       "      <th>3</th>\n",
       "      <td>zip-2018-4</td>\n",
       "      <td>31539</td>\n",
       "      <td>13001</td>\n",
       "      <td>2018</td>\n",
       "    </tr>\n",
       "    <tr>\n",
       "      <th>4</th>\n",
       "      <td>zip-2018-5</td>\n",
       "      <td>31560</td>\n",
       "      <td>13001</td>\n",
       "      <td>2018</td>\n",
       "    </tr>\n",
       "  </tbody>\n",
       "</table>\n",
       "</div>"
      ],
      "text/plain": [
       "   sea-zip-id    zip   fips  year\n",
       "0  zip-2018-1  31557  13001  2018\n",
       "1  zip-2018-2  31513  13001  2018\n",
       "2  zip-2018-3  31518  13001  2018\n",
       "3  zip-2018-4  31539  13001  2018\n",
       "4  zip-2018-5  31560  13001  2018"
      ]
     },
     "execution_count": 11,
     "metadata": {},
     "output_type": "execute_result"
    }
   ],
   "source": [
    "zipcode = pd.read_csv('data/sea-zipcode-county.csv', encoding='utf-8')\n",
    "zipcode.head(5)"
   ]
  },
  {
   "cell_type": "markdown",
   "metadata": {},
   "source": [
    "# 2 Data Assessment\n",
    "## 2.1 Installations"
   ]
  },
  {
   "cell_type": "code",
   "execution_count": 12,
   "metadata": {},
   "outputs": [
    {
     "name": "stdout",
     "output_type": "stream",
     "text": [
      "<class 'pandas.core.frame.DataFrame'>\n",
      "RangeIndex: 2147 entries, 0 to 2146\n",
      "Data columns (total 15 columns):\n",
      "sea-install-id       2147 non-null object\n",
      "oiriginal-db         2147 non-null object\n",
      "zip                  2146 non-null float64\n",
      "fips                 2147 non-null int64\n",
      "town                 2107 non-null object\n",
      "state                2147 non-null object\n",
      "system-type          2147 non-null object\n",
      "sector               2147 non-null object\n",
      "install-date         2147 non-null object\n",
      "utility              603 non-null object\n",
      "federal-cong-dist    767 non-null float64\n",
      "state-senate-dist    767 non-null float64\n",
      "state-house-dist     767 non-null float64\n",
      "lat                  2125 non-null float64\n",
      "long                 2125 non-null float64\n",
      "dtypes: float64(6), int64(1), object(8)\n",
      "memory usage: 251.7+ KB\n"
     ]
    }
   ],
   "source": [
    "installs.info()"
   ]
  },
  {
   "cell_type": "markdown",
   "metadata": {},
   "source": [
    "- install-date is not in datetime format\n",
    "- fips is not a string\n",
    "- error in spelling of original database column"
   ]
  },
  {
   "cell_type": "code",
   "execution_count": 13,
   "metadata": {},
   "outputs": [
    {
     "data": {
      "text/html": [
       "<div>\n",
       "<style scoped>\n",
       "    .dataframe tbody tr th:only-of-type {\n",
       "        vertical-align: middle;\n",
       "    }\n",
       "\n",
       "    .dataframe tbody tr th {\n",
       "        vertical-align: top;\n",
       "    }\n",
       "\n",
       "    .dataframe thead th {\n",
       "        text-align: right;\n",
       "    }\n",
       "</style>\n",
       "<table border=\"1\" class=\"dataframe\">\n",
       "  <thead>\n",
       "    <tr style=\"text-align: right;\">\n",
       "      <th></th>\n",
       "      <th>sea-install-id</th>\n",
       "      <th>oiriginal-db</th>\n",
       "      <th>zip</th>\n",
       "      <th>fips</th>\n",
       "      <th>town</th>\n",
       "      <th>state</th>\n",
       "      <th>system-type</th>\n",
       "      <th>sector</th>\n",
       "      <th>install-date</th>\n",
       "      <th>utility</th>\n",
       "      <th>federal-cong-dist</th>\n",
       "      <th>state-senate-dist</th>\n",
       "      <th>state-house-dist</th>\n",
       "      <th>lat</th>\n",
       "      <th>long</th>\n",
       "    </tr>\n",
       "  </thead>\n",
       "  <tbody>\n",
       "    <tr>\n",
       "      <th>1904</th>\n",
       "      <td>southface_AES061</td>\n",
       "      <td>Southface</td>\n",
       "      <td>30606.0</td>\n",
       "      <td>13059</td>\n",
       "      <td>Athens</td>\n",
       "      <td>Georgia</td>\n",
       "      <td>Solar Electric</td>\n",
       "      <td>Residential</td>\n",
       "      <td>2016-08-30</td>\n",
       "      <td>NaN</td>\n",
       "      <td>NaN</td>\n",
       "      <td>NaN</td>\n",
       "      <td>NaN</td>\n",
       "      <td>33.926032</td>\n",
       "      <td>-83.421936</td>\n",
       "    </tr>\n",
       "    <tr>\n",
       "      <th>1483</th>\n",
       "      <td>southface_SF124</td>\n",
       "      <td>Southface</td>\n",
       "      <td>31409.0</td>\n",
       "      <td>13051</td>\n",
       "      <td>NaN</td>\n",
       "      <td>Georgia</td>\n",
       "      <td>Solar Electric</td>\n",
       "      <td>Non-Residential</td>\n",
       "      <td>2014-03-25</td>\n",
       "      <td>NaN</td>\n",
       "      <td>NaN</td>\n",
       "      <td>NaN</td>\n",
       "      <td>NaN</td>\n",
       "      <td>32.028773</td>\n",
       "      <td>-81.126069</td>\n",
       "    </tr>\n",
       "    <tr>\n",
       "      <th>1673</th>\n",
       "      <td>southface_AES006</td>\n",
       "      <td>Southface</td>\n",
       "      <td>30329.0</td>\n",
       "      <td>13089</td>\n",
       "      <td>Atlanta</td>\n",
       "      <td>Georgia</td>\n",
       "      <td>Solar Electric</td>\n",
       "      <td>Residential</td>\n",
       "      <td>2015-06-08</td>\n",
       "      <td>NaN</td>\n",
       "      <td>NaN</td>\n",
       "      <td>NaN</td>\n",
       "      <td>NaN</td>\n",
       "      <td>33.812353</td>\n",
       "      <td>-84.334551</td>\n",
       "    </tr>\n",
       "    <tr>\n",
       "      <th>1011</th>\n",
       "      <td>southface_M415</td>\n",
       "      <td>Southface</td>\n",
       "      <td>30153.0</td>\n",
       "      <td>13233</td>\n",
       "      <td>Rockmart</td>\n",
       "      <td>Georgia</td>\n",
       "      <td>Solar Electric</td>\n",
       "      <td>Residential</td>\n",
       "      <td>2011-12-17</td>\n",
       "      <td>NaN</td>\n",
       "      <td>NaN</td>\n",
       "      <td>NaN</td>\n",
       "      <td>NaN</td>\n",
       "      <td>33.999967</td>\n",
       "      <td>-85.057720</td>\n",
       "    </tr>\n",
       "    <tr>\n",
       "      <th>277</th>\n",
       "      <td>southface_S198</td>\n",
       "      <td>Southface</td>\n",
       "      <td>30349.0</td>\n",
       "      <td>13121</td>\n",
       "      <td>Atlanta</td>\n",
       "      <td>Georgia</td>\n",
       "      <td>Solar Hot Water</td>\n",
       "      <td>Residential</td>\n",
       "      <td>2009-09-12</td>\n",
       "      <td>Unknown</td>\n",
       "      <td>13.0</td>\n",
       "      <td>39.0</td>\n",
       "      <td>64.0</td>\n",
       "      <td>33.629506</td>\n",
       "      <td>-84.522003</td>\n",
       "    </tr>\n",
       "  </tbody>\n",
       "</table>\n",
       "</div>"
      ],
      "text/plain": [
       "        sea-install-id oiriginal-db      zip   fips      town    state  \\\n",
       "1904  southface_AES061    Southface  30606.0  13059    Athens  Georgia   \n",
       "1483   southface_SF124    Southface  31409.0  13051       NaN  Georgia   \n",
       "1673  southface_AES006    Southface  30329.0  13089   Atlanta  Georgia   \n",
       "1011    southface_M415    Southface  30153.0  13233  Rockmart  Georgia   \n",
       "277     southface_S198    Southface  30349.0  13121   Atlanta  Georgia   \n",
       "\n",
       "          system-type           sector install-date  utility  \\\n",
       "1904   Solar Electric      Residential   2016-08-30      NaN   \n",
       "1483   Solar Electric  Non-Residential   2014-03-25      NaN   \n",
       "1673   Solar Electric      Residential   2015-06-08      NaN   \n",
       "1011   Solar Electric      Residential   2011-12-17      NaN   \n",
       "277   Solar Hot Water      Residential   2009-09-12  Unknown   \n",
       "\n",
       "      federal-cong-dist  state-senate-dist  state-house-dist        lat  \\\n",
       "1904                NaN                NaN               NaN  33.926032   \n",
       "1483                NaN                NaN               NaN  32.028773   \n",
       "1673                NaN                NaN               NaN  33.812353   \n",
       "1011                NaN                NaN               NaN  33.999967   \n",
       "277                13.0               39.0              64.0  33.629506   \n",
       "\n",
       "           long  \n",
       "1904 -83.421936  \n",
       "1483 -81.126069  \n",
       "1673 -84.334551  \n",
       "1011 -85.057720  \n",
       "277  -84.522003  "
      ]
     },
     "execution_count": 13,
     "metadata": {},
     "output_type": "execute_result"
    }
   ],
   "source": [
    "installs.sample(5)"
   ]
  },
  {
   "cell_type": "code",
   "execution_count": 14,
   "metadata": {},
   "outputs": [
    {
     "data": {
      "text/plain": [
       "(2147, 15)"
      ]
     },
     "execution_count": 14,
     "metadata": {},
     "output_type": "execute_result"
    }
   ],
   "source": [
    "installs.shape"
   ]
  },
  {
   "cell_type": "code",
   "execution_count": 15,
   "metadata": {},
   "outputs": [
    {
     "data": {
      "text/plain": [
       "sea-install-id          0\n",
       "oiriginal-db            0\n",
       "zip                     1\n",
       "fips                    0\n",
       "town                   40\n",
       "state                   0\n",
       "system-type             0\n",
       "sector                  0\n",
       "install-date            0\n",
       "utility              1544\n",
       "federal-cong-dist    1380\n",
       "state-senate-dist    1380\n",
       "state-house-dist     1380\n",
       "lat                    22\n",
       "long                   22\n",
       "dtype: int64"
      ]
     },
     "execution_count": 15,
     "metadata": {},
     "output_type": "execute_result"
    }
   ],
   "source": [
    "installs.isnull().sum()"
   ]
  },
  {
   "cell_type": "code",
   "execution_count": 16,
   "metadata": {},
   "outputs": [
    {
     "data": {
      "text/plain": [
       "1"
      ]
     },
     "execution_count": 16,
     "metadata": {},
     "output_type": "execute_result"
    }
   ],
   "source": [
    "installs.duplicated().sum()"
   ]
  },
  {
   "cell_type": "markdown",
   "metadata": {},
   "source": [
    "- NaN present in zip, town, lat, utility, federal-cong-dist, state-senate-dist, state-house-dist, lat, and long.\n",
    "- Can't check for duplicated id because of column name.\n",
    "- zip is an integer and not a string"
   ]
  },
  {
   "cell_type": "markdown",
   "metadata": {},
   "source": [
    "## 2.2 County-level Census Data"
   ]
  },
  {
   "cell_type": "code",
   "execution_count": 17,
   "metadata": {},
   "outputs": [
    {
     "name": "stdout",
     "output_type": "stream",
     "text": [
      "<class 'pandas.core.frame.DataFrame'>\n",
      "RangeIndex: 159 entries, 0 to 158\n",
      "Data columns (total 15 columns):\n",
      "fips             159 non-null int64\n",
      "med-income       159 non-null object\n",
      "owner-occ        159 non-null object\n",
      "pop-tot          159 non-null object\n",
      "dem-fem-pct      159 non-null object\n",
      "dem-male-pct     159 non-null object\n",
      "dem-white-pct    159 non-null object\n",
      "dem-baa-pct      159 non-null object\n",
      "dem-aian-pct     159 non-null object\n",
      "dem-a-pct        159 non-null object\n",
      "dem-nhpi-pct     159 non-null object\n",
      "dem-two-pct      159 non-null object\n",
      "dem-hl-pct       159 non-null object\n",
      "dem-vet          159 non-null object\n",
      "dem-hh           159 non-null object\n",
      "dtypes: int64(1), object(14)\n",
      "memory usage: 18.7+ KB\n"
     ]
    }
   ],
   "source": [
    "census.info()"
   ]
  },
  {
   "cell_type": "markdown",
   "metadata": {},
   "source": [
    "- owner-occ,, dem-vet, and all pct columns are objects/strings and not floats\n",
    "- median income, pop-tot, dem-hh, and dem-vet are objects/strings and not integers."
   ]
  },
  {
   "cell_type": "code",
   "execution_count": 18,
   "metadata": {},
   "outputs": [
    {
     "data": {
      "text/html": [
       "<div>\n",
       "<style scoped>\n",
       "    .dataframe tbody tr th:only-of-type {\n",
       "        vertical-align: middle;\n",
       "    }\n",
       "\n",
       "    .dataframe tbody tr th {\n",
       "        vertical-align: top;\n",
       "    }\n",
       "\n",
       "    .dataframe thead th {\n",
       "        text-align: right;\n",
       "    }\n",
       "</style>\n",
       "<table border=\"1\" class=\"dataframe\">\n",
       "  <thead>\n",
       "    <tr style=\"text-align: right;\">\n",
       "      <th></th>\n",
       "      <th>fips</th>\n",
       "      <th>med-income</th>\n",
       "      <th>owner-occ</th>\n",
       "      <th>pop-tot</th>\n",
       "      <th>dem-fem-pct</th>\n",
       "      <th>dem-male-pct</th>\n",
       "      <th>dem-white-pct</th>\n",
       "      <th>dem-baa-pct</th>\n",
       "      <th>dem-aian-pct</th>\n",
       "      <th>dem-a-pct</th>\n",
       "      <th>dem-nhpi-pct</th>\n",
       "      <th>dem-two-pct</th>\n",
       "      <th>dem-hl-pct</th>\n",
       "      <th>dem-vet</th>\n",
       "      <th>dem-hh</th>\n",
       "    </tr>\n",
       "  </thead>\n",
       "  <tbody>\n",
       "    <tr>\n",
       "      <th>60</th>\n",
       "      <td>13123</td>\n",
       "      <td>$43,775.00</td>\n",
       "      <td>75.20%</td>\n",
       "      <td>29,733</td>\n",
       "      <td>50.60%</td>\n",
       "      <td>49.40%</td>\n",
       "      <td>88.60%</td>\n",
       "      <td>9.20%</td>\n",
       "      <td>0.50%</td>\n",
       "      <td>0.10%</td>\n",
       "      <td>0</td>\n",
       "      <td>1.50%</td>\n",
       "      <td>1.50%</td>\n",
       "      <td>165</td>\n",
       "      <td>1,497</td>\n",
       "    </tr>\n",
       "    <tr>\n",
       "      <th>96</th>\n",
       "      <td>13189</td>\n",
       "      <td>$37,021.00</td>\n",
       "      <td>61.60%</td>\n",
       "      <td>21,490</td>\n",
       "      <td>51.00%</td>\n",
       "      <td>49.00%</td>\n",
       "      <td>61.80%</td>\n",
       "      <td>34.10%</td>\n",
       "      <td>0.60%</td>\n",
       "      <td>0.40%</td>\n",
       "      <td>0.10%</td>\n",
       "      <td>1.50%</td>\n",
       "      <td>2.10%</td>\n",
       "      <td>1,480</td>\n",
       "      <td>5,207</td>\n",
       "    </tr>\n",
       "    <tr>\n",
       "      <th>119</th>\n",
       "      <td>13243</td>\n",
       "      <td>$30,358.00</td>\n",
       "      <td>57.60%</td>\n",
       "      <td>7,177</td>\n",
       "      <td>51.60%</td>\n",
       "      <td>48.40%</td>\n",
       "      <td>35.20%</td>\n",
       "      <td>56.50%</td>\n",
       "      <td>0.40%</td>\n",
       "      <td>1.80%</td>\n",
       "      <td>0.20%</td>\n",
       "      <td>2.60%</td>\n",
       "      <td>4.90%</td>\n",
       "      <td>20,497</td>\n",
       "      <td>72,470</td>\n",
       "    </tr>\n",
       "    <tr>\n",
       "      <th>130</th>\n",
       "      <td>13265</td>\n",
       "      <td>$28,152.00</td>\n",
       "      <td>69.00%</td>\n",
       "      <td>1,593</td>\n",
       "      <td>42.50%</td>\n",
       "      <td>57.50%</td>\n",
       "      <td>58.40%</td>\n",
       "      <td>29.50%</td>\n",
       "      <td>0.70%</td>\n",
       "      <td>0.60%</td>\n",
       "      <td>0.20%</td>\n",
       "      <td>1.10%</td>\n",
       "      <td>11.10%</td>\n",
       "      <td>1,892</td>\n",
       "      <td>7,899</td>\n",
       "    </tr>\n",
       "    <tr>\n",
       "      <th>85</th>\n",
       "      <td>13173</td>\n",
       "      <td>$31,682.00</td>\n",
       "      <td>63.50%</td>\n",
       "      <td>10,399</td>\n",
       "      <td>52.70%</td>\n",
       "      <td>47.30%</td>\n",
       "      <td>58.70%</td>\n",
       "      <td>36.50%</td>\n",
       "      <td>0.30%</td>\n",
       "      <td>1.10%</td>\n",
       "      <td>0</td>\n",
       "      <td>1.20%</td>\n",
       "      <td>2.70%</td>\n",
       "      <td>3,427</td>\n",
       "      <td>17,622</td>\n",
       "    </tr>\n",
       "  </tbody>\n",
       "</table>\n",
       "</div>"
      ],
      "text/plain": [
       "      fips med-income  owner-occ pop-tot dem-fem-pct dem-male-pct  \\\n",
       "60   13123  $43,775.00    75.20%  29,733      50.60%       49.40%   \n",
       "96   13189  $37,021.00    61.60%  21,490      51.00%       49.00%   \n",
       "119  13243  $30,358.00    57.60%   7,177      51.60%       48.40%   \n",
       "130  13265  $28,152.00    69.00%   1,593      42.50%       57.50%   \n",
       "85   13173  $31,682.00    63.50%  10,399      52.70%       47.30%   \n",
       "\n",
       "    dem-white-pct dem-baa-pct dem-aian-pct dem-a-pct dem-nhpi-pct dem-two-pct  \\\n",
       "60         88.60%       9.20%        0.50%     0.10%            0       1.50%   \n",
       "96         61.80%      34.10%        0.60%     0.40%        0.10%       1.50%   \n",
       "119        35.20%      56.50%        0.40%     1.80%        0.20%       2.60%   \n",
       "130        58.40%      29.50%        0.70%     0.60%        0.20%       1.10%   \n",
       "85         58.70%      36.50%        0.30%     1.10%            0       1.20%   \n",
       "\n",
       "    dem-hl-pct dem-vet  dem-hh  \n",
       "60       1.50%     165   1,497  \n",
       "96       2.10%   1,480   5,207  \n",
       "119      4.90%  20,497  72,470  \n",
       "130     11.10%   1,892   7,899  \n",
       "85       2.70%   3,427  17,622  "
      ]
     },
     "execution_count": 18,
     "metadata": {},
     "output_type": "execute_result"
    }
   ],
   "source": [
    "census.sample(5)"
   ]
  },
  {
   "cell_type": "code",
   "execution_count": null,
   "metadata": {},
   "outputs": [],
   "source": [
    "census.isnull().sum()"
   ]
  },
  {
   "cell_type": "code",
   "execution_count": null,
   "metadata": {},
   "outputs": [],
   "source": [
    "census.duplicated().sum()"
   ]
  },
  {
   "cell_type": "markdown",
   "metadata": {},
   "source": [
    "## 2.3 County Name-FIPS Map"
   ]
  },
  {
   "cell_type": "code",
   "execution_count": null,
   "metadata": {},
   "outputs": [],
   "source": [
    "fips.info()"
   ]
  },
  {
   "cell_type": "markdown",
   "metadata": {},
   "source": [
    "- fips should be a string and not an integer"
   ]
  },
  {
   "cell_type": "code",
   "execution_count": null,
   "metadata": {},
   "outputs": [],
   "source": [
    "fips.head(5)"
   ]
  },
  {
   "cell_type": "code",
   "execution_count": null,
   "metadata": {},
   "outputs": [],
   "source": [
    "fips.isnull().sum()"
   ]
  },
  {
   "cell_type": "code",
   "execution_count": null,
   "metadata": {},
   "outputs": [],
   "source": [
    "fips.duplicated().sum()"
   ]
  },
  {
   "cell_type": "markdown",
   "metadata": {},
   "source": [
    "## 2.4 Zillow Valuation Information"
   ]
  },
  {
   "cell_type": "code",
   "execution_count": null,
   "metadata": {},
   "outputs": [],
   "source": [
    "zillow.info()"
   ]
  },
  {
   "cell_type": "code",
   "execution_count": null,
   "metadata": {},
   "outputs": [],
   "source": [
    "zillow.head(5)"
   ]
  },
  {
   "cell_type": "markdown",
   "metadata": {},
   "source": [
    "- med-zhvi and med-zrvi should both be floats\n",
    "- Multiple NaN values exist for med-zhvi and med-zrvi"
   ]
  },
  {
   "cell_type": "code",
   "execution_count": null,
   "metadata": {},
   "outputs": [],
   "source": [
    "zillow.isnull().sum()"
   ]
  },
  {
   "cell_type": "code",
   "execution_count": null,
   "metadata": {},
   "outputs": [],
   "source": [
    "zillow.duplicated().sum()"
   ]
  },
  {
   "cell_type": "markdown",
   "metadata": {},
   "source": [
    "## 2.5 DSIRE Incentive Counts"
   ]
  },
  {
   "cell_type": "code",
   "execution_count": null,
   "metadata": {},
   "outputs": [],
   "source": [
    "dsire.info()"
   ]
  },
  {
   "cell_type": "markdown",
   "metadata": {},
   "source": [
    "- Naming issues in columns must be taken care of (- should be replaced with _)\n",
    "- After naming, investigate float for state-reg-policy-energy-stand-build\n",
    "- fips should be string and not integer\n",
    "- state-reg-policy-energy-stand-build looks to be an incomplete column for most observations."
   ]
  },
  {
   "cell_type": "code",
   "execution_count": null,
   "metadata": {},
   "outputs": [],
   "source": [
    "dsire.head(5)"
   ]
  },
  {
   "cell_type": "markdown",
   "metadata": {},
   "source": [
    "## 2.6 Solar Suitability"
   ]
  },
  {
   "cell_type": "code",
   "execution_count": null,
   "metadata": {},
   "outputs": [],
   "source": [
    "suit.info()"
   ]
  },
  {
   "cell_type": "code",
   "execution_count": null,
   "metadata": {},
   "outputs": [],
   "source": [
    "suit.head(5)"
   ]
  },
  {
   "cell_type": "code",
   "execution_count": null,
   "metadata": {},
   "outputs": [],
   "source": [
    "suit.isnull().sum()"
   ]
  },
  {
   "cell_type": "code",
   "execution_count": null,
   "metadata": {},
   "outputs": [],
   "source": [
    "suit.duplicated().sum()"
   ]
  },
  {
   "cell_type": "markdown",
   "metadata": {},
   "source": [
    "## 2.7 Utility List and Ownership Type"
   ]
  },
  {
   "cell_type": "code",
   "execution_count": null,
   "metadata": {},
   "outputs": [],
   "source": [
    "util.info()"
   ]
  },
  {
   "cell_type": "code",
   "execution_count": null,
   "metadata": {},
   "outputs": [],
   "source": [
    "util.head(5)"
   ]
  },
  {
   "cell_type": "code",
   "execution_count": null,
   "metadata": {},
   "outputs": [],
   "source": [
    "util.isnull().sum()"
   ]
  },
  {
   "cell_type": "code",
   "execution_count": null,
   "metadata": {},
   "outputs": [],
   "source": [
    "util.duplicated().sum()"
   ]
  },
  {
   "cell_type": "markdown",
   "metadata": {},
   "source": [
    "- Need to modify utility-id column heading"
   ]
  },
  {
   "cell_type": "markdown",
   "metadata": {},
   "source": [
    "## 2.8 Utility Rates"
   ]
  },
  {
   "cell_type": "code",
   "execution_count": null,
   "metadata": {},
   "outputs": [],
   "source": [
    "util_rates.info()"
   ]
  },
  {
   "cell_type": "code",
   "execution_count": null,
   "metadata": {},
   "outputs": [],
   "source": [
    "util_rates.head(5)"
   ]
  },
  {
   "cell_type": "code",
   "execution_count": null,
   "metadata": {},
   "outputs": [],
   "source": [
    "util_rates.isnull().sum()"
   ]
  },
  {
   "cell_type": "code",
   "execution_count": null,
   "metadata": {},
   "outputs": [],
   "source": [
    "util.duplicated().sum()"
   ]
  },
  {
   "cell_type": "markdown",
   "metadata": {},
   "source": [
    "- zip is integer and not string\n",
    "- Need to modify column name for sea-rate-id, utlity-id, service-type, comm-rate, ind-rate, and res-rate"
   ]
  },
  {
   "cell_type": "markdown",
   "metadata": {},
   "source": [
    "## 2.9 Zipcode Table"
   ]
  },
  {
   "cell_type": "code",
   "execution_count": null,
   "metadata": {},
   "outputs": [],
   "source": [
    "zipcode.info()"
   ]
  },
  {
   "cell_type": "code",
   "execution_count": null,
   "metadata": {},
   "outputs": [],
   "source": [
    "zipcode.head(5)"
   ]
  },
  {
   "cell_type": "code",
   "execution_count": null,
   "metadata": {},
   "outputs": [],
   "source": [
    "zipcode.isnull().sum()"
   ]
  },
  {
   "cell_type": "code",
   "execution_count": null,
   "metadata": {},
   "outputs": [],
   "source": [
    "zipcode.duplicated().sum()"
   ]
  },
  {
   "cell_type": "markdown",
   "metadata": {},
   "source": [
    "- zip and fips are integers and not strings\n",
    "- sea-zip-id needs to be renamed"
   ]
  },
  {
   "cell_type": "markdown",
   "metadata": {},
   "source": [
    "# 3 Data Cleaning\n",
    "\n",
    "## 3.1 Copy All Dataframes\n",
    "\n",
    "### 3.1.1 Define\n",
    "Copy all dataframes for cleaning purposes.\n",
    "\n",
    "#### 3.1.1.2 Code"
   ]
  },
  {
   "cell_type": "code",
   "execution_count": null,
   "metadata": {},
   "outputs": [],
   "source": [
    "installs_clean = installs.copy()\n",
    "census_clean = census.copy()\n",
    "fips_clean = fips.copy()\n",
    "zillow_clean = zillow.copy()\n",
    "dsire_clean = dsire.copy()\n",
    "suit_clean = suit.copy()\n",
    "util_clean = util.copy()\n",
    "util_rates_clean = util_rates.copy()\n",
    "zipcode_clean = zipcode.copy()"
   ]
  },
  {
   "cell_type": "markdown",
   "metadata": {},
   "source": [
    "#### 3.1.1.3 Test"
   ]
  },
  {
   "cell_type": "code",
   "execution_count": null,
   "metadata": {},
   "outputs": [],
   "source": [
    "installs_clean.info()"
   ]
  },
  {
   "cell_type": "code",
   "execution_count": null,
   "metadata": {},
   "outputs": [],
   "source": [
    "census_clean.info()"
   ]
  },
  {
   "cell_type": "code",
   "execution_count": null,
   "metadata": {},
   "outputs": [],
   "source": [
    "fips_clean.info()"
   ]
  },
  {
   "cell_type": "code",
   "execution_count": null,
   "metadata": {},
   "outputs": [],
   "source": [
    "zillow_clean.info()"
   ]
  },
  {
   "cell_type": "code",
   "execution_count": null,
   "metadata": {},
   "outputs": [],
   "source": [
    "dsire_clean.info()"
   ]
  },
  {
   "cell_type": "code",
   "execution_count": null,
   "metadata": {},
   "outputs": [],
   "source": [
    "suit_clean.info()"
   ]
  },
  {
   "cell_type": "code",
   "execution_count": null,
   "metadata": {},
   "outputs": [],
   "source": [
    "util_clean.info()"
   ]
  },
  {
   "cell_type": "code",
   "execution_count": null,
   "metadata": {},
   "outputs": [],
   "source": [
    "util_rates_clean.info()"
   ]
  },
  {
   "cell_type": "code",
   "execution_count": null,
   "metadata": {},
   "outputs": [],
   "source": [
    "zipcode_clean.info()"
   ]
  },
  {
   "cell_type": "markdown",
   "metadata": {},
   "source": [
    "## 3.2 Column Naming\n",
    "### 3.2.1 Installations\n",
    "#### 3.2.1.1 Define\n",
    "Rename all columns so that hyphens are replaced with underscores so that future codes can be run successfully, as well as correcting any spelling errors.\n",
    "\n",
    "#### 3.2.1.2 Code"
   ]
  },
  {
   "cell_type": "code",
   "execution_count": null,
   "metadata": {},
   "outputs": [],
   "source": [
    "installs_clean = installs_clean.rename(columns={\"sea-install-id\": \"sea_install_id\", \n",
    "                                                \"oiriginal-db\": \"original_db\", \n",
    "                                                \"system-type\": \"system_type\", \n",
    "                                                \"install-date\": \"install_date\", \n",
    "                                                \"federal-cong-dist\": \"fed_congressional_district\", \n",
    "                                                \"state-senate-dist\": \"state_senate_district\", \n",
    "                                                \"state-house-dist\": \"state_house_district\"})"
   ]
  },
  {
   "cell_type": "markdown",
   "metadata": {},
   "source": [
    "#### 3.2.1.3 Test"
   ]
  },
  {
   "cell_type": "code",
   "execution_count": null,
   "metadata": {},
   "outputs": [],
   "source": [
    "installs_clean.head()"
   ]
  },
  {
   "cell_type": "markdown",
   "metadata": {},
   "source": [
    "### 3.2.2 Census\n",
    "#### 3.2.2.1 Define\n",
    "Rename all columns so that hyphens are replaced with underscores so that future codes can be run successfully.\n",
    "\n",
    "#### 3.2.2.2 Code"
   ]
  },
  {
   "cell_type": "code",
   "execution_count": null,
   "metadata": {},
   "outputs": [],
   "source": [
    "census_clean.info()"
   ]
  },
  {
   "cell_type": "code",
   "execution_count": null,
   "metadata": {},
   "outputs": [],
   "source": [
    "census_clean = census_clean.rename(columns={\"med-income\": \"med_income\",\n",
    "                                            \"owner-occ\": \"owner_occ\", \n",
    "                                            \"pop-tot\": \"pop_tot\", \n",
    "                                            \"dem-fem-pct\": \"dem_fem_pct\", \n",
    "                                            \"dem-male-pct\": \"dem_male_pct\", \n",
    "                                            \"dem-white-pct\": \"dem_white_pct\",\n",
    "                                            \"dem-baa-pct\": \"dem_baa_pct\",\n",
    "                                            \"dem-aian-pct\": \"dem_aian_pct\",\n",
    "                                            \"dem-a-pct\": \"dem_a_pct\",\n",
    "                                            \"dem-nhpi-pct\": \"dem_nhpi_pct\",\n",
    "                                            \"dem-two-pct\": \"dem_two_pct\",\n",
    "                                            \"dem-hl-pct\": \"dem_hl_pct\",\n",
    "                                            \"dem-vet\": \"dem_vet\",\n",
    "                                            \"dem-hh\": \"dem_hh\"\n",
    "                                           })"
   ]
  },
  {
   "cell_type": "markdown",
   "metadata": {},
   "source": [
    "#### 3.2.2.3 Test"
   ]
  },
  {
   "cell_type": "code",
   "execution_count": null,
   "metadata": {},
   "outputs": [],
   "source": [
    "census_clean.head()"
   ]
  },
  {
   "cell_type": "markdown",
   "metadata": {},
   "source": [
    "### 3.2.2 Convert install_date to datetime format\n",
    "#### 3.2.2.1 Define\n",
    "The install_date column should be in datetime format. Drop any unknown dates and convert those values to datetime.\n",
    "\n",
    "#### 3.2.2.2 Code"
   ]
  },
  {
   "cell_type": "code",
   "execution_count": null,
   "metadata": {},
   "outputs": [],
   "source": [
    "installs_clean.info()"
   ]
  },
  {
   "cell_type": "code",
   "execution_count": null,
   "metadata": {},
   "outputs": [],
   "source": [
    "installs_clean['install_date'] = datetime.strptime('Jun 1 2005  1:33PM', '%b %d %Y %I:%M%p')"
   ]
  },
  {
   "cell_type": "markdown",
   "metadata": {},
   "source": [
    "#### 3.2.2.3 Test"
   ]
  },
  {
   "cell_type": "code",
   "execution_count": null,
   "metadata": {},
   "outputs": [],
   "source": [
    "installs_clean.info()"
   ]
  },
  {
   "cell_type": "markdown",
   "metadata": {},
   "source": [
    "### 3.2.3 Convert fips, zip, and congressional district columns to strings\n",
    "#### 3.2.3.1 Define\n",
    "Convert the fips, zip, fed_congressional_district, state_senate_district, and state_house_district columns to string format all columns.\n",
    "\n",
    "#### 3.2.3.2 Code"
   ]
  },
  {
   "cell_type": "code",
   "execution_count": null,
   "metadata": {},
   "outputs": [],
   "source": [
    "print(installs_clean[installs_clean['zip'].isnull()])"
   ]
  },
  {
   "cell_type": "code",
   "execution_count": null,
   "metadata": {},
   "outputs": [],
   "source": [
    "installs_clean.drop([1833], inplace=True)\n",
    "installs_clean['zip'] = installs_clean['zip'].round(0).astype(int)"
   ]
  },
  {
   "cell_type": "markdown",
   "metadata": {},
   "source": [
    "#### 3.2.3.3 Test"
   ]
  },
  {
   "cell_type": "code",
   "execution_count": null,
   "metadata": {},
   "outputs": [],
   "source": [
    "installs_clean.info()"
   ]
  },
  {
   "cell_type": "code",
   "execution_count": null,
   "metadata": {},
   "outputs": [],
   "source": [
    "installs_clean.head(5)"
   ]
  },
  {
   "cell_type": "markdown",
   "metadata": {},
   "source": [
    "### 3.2.4 Investigate town NaN values\n",
    "#### 3.2.4.1 Define\n",
    "Query the dataset and investigate NaN values for the town column to see if data can be retrieved to complete. Otherwise, remove observations from the dataset.\n",
    "\n",
    "#### 3.2.4.2 Code"
   ]
  },
  {
   "cell_type": "code",
   "execution_count": null,
   "metadata": {},
   "outputs": [],
   "source": [
    "installs_clean[installs_clean['town'].isnull()]"
   ]
  },
  {
   "cell_type": "code",
   "execution_count": null,
   "metadata": {},
   "outputs": [],
   "source": [
    "print(installs_clean['zip'][36])\n",
    "print(installs_clean['zip'][43])\n",
    "print(installs_clean['zip'][684])\n",
    "print(installs_clean['zip'][885])\n",
    "print(installs_clean['zip'][1349])"
   ]
  },
  {
   "cell_type": "code",
   "execution_count": null,
   "metadata": {},
   "outputs": [],
   "source": [
    "installs_clean.town[36] = 'Atlanta'\n",
    "installs_clean.town[43] = 'Atlanta'\n",
    "installs_clean.town[684] = 'Woodstock'\n",
    "installs_clean.town[885] = 'Columbus'\n",
    "installs_clean.town[1349] = 'Oxford'"
   ]
  },
  {
   "cell_type": "code",
   "execution_count": null,
   "metadata": {},
   "outputs": [],
   "source": [
    "print(installs_clean['zip'][1353])\n",
    "print(installs_clean['zip'][1370])\n",
    "print(installs_clean['zip'][1382])\n",
    "print(installs_clean['zip'][1415])\n",
    "print(installs_clean['zip'][1451])"
   ]
  },
  {
   "cell_type": "code",
   "execution_count": null,
   "metadata": {},
   "outputs": [],
   "source": [
    "installs_clean.town[1382] = 'Savannah'\n",
    "installs_clean.town[1451] = 'Peachtree City'\n",
    "installs_clean.town[1353] = 'Cumming'\n",
    "installs_clean.town[1370] = 'Jasper'\n",
    "installs_clean.town[1415] = 'Davisboro'"
   ]
  },
  {
   "cell_type": "code",
   "execution_count": null,
   "metadata": {},
   "outputs": [],
   "source": [
    "print(installs_clean['zip'][1472])\n",
    "print(installs_clean['zip'][1473])\n",
    "print(installs_clean['zip'][1483])\n",
    "print(installs_clean['zip'][1490])\n",
    "print(installs_clean['zip'][1493])"
   ]
  },
  {
   "cell_type": "code",
   "execution_count": null,
   "metadata": {},
   "outputs": [],
   "source": [
    "installs_clean.town[1472] = 'Metter'\n",
    "installs_clean.town[1473] = 'Butler'\n",
    "installs_clean.town[1483] = 'Savannah'\n",
    "installs_clean.town[1490] = 'Hogansville'\n",
    "installs_clean.town[1493] = 'Madison'"
   ]
  },
  {
   "cell_type": "code",
   "execution_count": null,
   "metadata": {},
   "outputs": [],
   "source": [
    "print(installs_clean['zip'][1497])\n",
    "print(installs_clean['zip'][1506])\n",
    "print(installs_clean['zip'][1507])\n",
    "print(installs_clean['zip'][1508])\n",
    "print(installs_clean['zip'][1509])"
   ]
  },
  {
   "cell_type": "code",
   "execution_count": null,
   "metadata": {},
   "outputs": [],
   "source": [
    "installs_clean.town[1497] = 'Lawrenceville'\n",
    "installs_clean.town[1506] = 'Newborn'\n",
    "installs_clean.town[1507] = 'Cartersville'\n",
    "installs_clean.town[1508] = 'Greenville'\n",
    "installs_clean.town[1509] = 'Dahlonega'"
   ]
  },
  {
   "cell_type": "code",
   "execution_count": null,
   "metadata": {},
   "outputs": [],
   "source": [
    "print(installs_clean['zip'][1517])\n",
    "print(installs_clean['zip'][1518])\n",
    "print(installs_clean['zip'][1529])\n",
    "print(installs_clean['zip'][1551])\n",
    "print(installs_clean['zip'][1552])"
   ]
  },
  {
   "cell_type": "code",
   "execution_count": null,
   "metadata": {},
   "outputs": [],
   "source": [
    "installs_clean.town[1517] = 'Augusta'\n",
    "installs_clean.town[1518] = 'Lavonia'\n",
    "installs_clean.town[1529] = 'Buckhead'\n",
    "installs_clean.town[1551] = 'Decatur'\n",
    "installs_clean.town[1552] = 'Claxton'"
   ]
  },
  {
   "cell_type": "code",
   "execution_count": null,
   "metadata": {},
   "outputs": [],
   "source": [
    "print(installs_clean['zip'][1558])\n",
    "print(installs_clean['zip'][1561])\n",
    "print(installs_clean['zip'][1562])\n",
    "print(installs_clean['zip'][1565])\n",
    "print(installs_clean['zip'][1577])"
   ]
  },
  {
   "cell_type": "code",
   "execution_count": null,
   "metadata": {},
   "outputs": [],
   "source": [
    "installs_clean.town[1558] = 'Decatur'\n",
    "installs_clean.town[1561] = 'Decatur'\n",
    "installs_clean.town[1562] = 'Brunswick'\n",
    "installs_clean.town[1565] = 'Jefferson'\n",
    "installs_clean.town[1577] = 'Cave Spring'"
   ]
  },
  {
   "cell_type": "code",
   "execution_count": null,
   "metadata": {},
   "outputs": [],
   "source": [
    "print(installs_clean['zip'][1581])\n",
    "print(installs_clean['zip'][1583])\n",
    "print(installs_clean['zip'][1584])\n",
    "print(installs_clean['zip'][1585])\n",
    "print(installs_clean['zip'][1587])"
   ]
  },
  {
   "cell_type": "code",
   "execution_count": null,
   "metadata": {},
   "outputs": [],
   "source": [
    "installs_clean.town[1581] = 'Augusta'\n",
    "installs_clean.town[1583] = 'Donalsonville'\n",
    "installs_clean.town[1584] = 'Acorn Pond'\n",
    "installs_clean.town[1585] = 'Chester'\n",
    "installs_clean.town[1587] = 'Decatur'"
   ]
  },
  {
   "cell_type": "code",
   "execution_count": null,
   "metadata": {},
   "outputs": [],
   "source": [
    "print(installs_clean['zip'][1606])\n",
    "print(installs_clean['zip'][1607])\n",
    "print(installs_clean['zip'][1611])\n",
    "print(installs_clean['zip'][1991])"
   ]
  },
  {
   "cell_type": "code",
   "execution_count": null,
   "metadata": {},
   "outputs": [],
   "source": [
    "installs_clean.town[1606] = 'Unadilla'\n",
    "installs_clean.town[1607] = 'Rome'\n",
    "installs_clean.town[1611] = 'Sandy Springs'\n",
    "installs_clean.town[1991] = 'Butler'"
   ]
  },
  {
   "cell_type": "markdown",
   "metadata": {},
   "source": [
    "#### 3.2.4.3 Test"
   ]
  },
  {
   "cell_type": "code",
   "execution_count": null,
   "metadata": {},
   "outputs": [],
   "source": [
    "print(installs_clean[installs_clean['town'].isnull()])"
   ]
  },
  {
   "cell_type": "markdown",
   "metadata": {},
   "source": [
    "### 3.2.5 Remove all observations with no latitude or longitude\n",
    "#### 3.2.5.1 Define\n",
    "Query the dataset and remove all NaN lat/long observations.\n",
    "\n",
    "#### 3.2.5.2 Code"
   ]
  },
  {
   "cell_type": "code",
   "execution_count": null,
   "metadata": {},
   "outputs": [],
   "source": [
    "installs_clean[installs_clean['lat'].isnull()]"
   ]
  },
  {
   "cell_type": "code",
   "execution_count": null,
   "metadata": {},
   "outputs": [],
   "source": [
    "installs_clean[installs_clean['lat'].isnull()].shape"
   ]
  },
  {
   "cell_type": "code",
   "execution_count": null,
   "metadata": {},
   "outputs": [],
   "source": [
    "installs_clean.drop([29,31,90,217,284,290,339,341,358,388,409,455,549,577,583,762,763,1001,1007,1260,1337,1644], inplace=True)"
   ]
  },
  {
   "cell_type": "markdown",
   "metadata": {},
   "source": [
    "#### 3.2.5.2 Test"
   ]
  },
  {
   "cell_type": "code",
   "execution_count": null,
   "metadata": {},
   "outputs": [],
   "source": [
    "installs_clean[installs_clean['lat'].isnull()]"
   ]
  },
  {
   "cell_type": "markdown",
   "metadata": {},
   "source": []
  },
  {
   "cell_type": "code",
   "execution_count": null,
   "metadata": {},
   "outputs": [],
   "source": [
    "installs_clean[installs_clean['utility'].isnull()]"
   ]
  },
  {
   "cell_type": "code",
   "execution_count": null,
   "metadata": {},
   "outputs": [],
   "source": [
    "util_rates_clean.info()"
   ]
  },
  {
   "cell_type": "code",
   "execution_count": null,
   "metadata": {},
   "outputs": [],
   "source": [
    "util_rates_clean['zip'] = util_rates_clean['zip'].round(0).astype(int)"
   ]
  },
  {
   "cell_type": "code",
   "execution_count": null,
   "metadata": {},
   "outputs": [],
   "source": [
    "util_rates_clean['zip'] = util_rates_clean['zip'].astype(str)"
   ]
  },
  {
   "cell_type": "code",
   "execution_count": null,
   "metadata": {},
   "outputs": [],
   "source": [
    "util_rates_clean.utility_id[util_rates_clean.zip =='30318']"
   ]
  },
  {
   "cell_type": "code",
   "execution_count": null,
   "metadata": {},
   "outputs": [],
   "source": []
  },
  {
   "cell_type": "markdown",
   "metadata": {},
   "source": [
    "## 3.2 Installations\n",
    "\n",
    "Installations\n",
    "\n",
    "- install-date is not in datetime format\n",
    "- fips is not a string\n",
    "- zip is an integer and not a string\n",
    "- congressional districts (federal and state) are not strings\n",
    "- NaN present in zip, town, lat, utility, federal-cong-dist, state-senate-dist, state-house-dist, lat, and long.\n",
    "- Can't check for duplicated id because of column name.\n",
    "\n",
    "\n",
    "### 3.2.1 Rename Columns\n",
    "#### 3.2.1.1 Define\n"
   ]
  }
 ],
 "metadata": {
  "kernelspec": {
   "display_name": "Python 3",
   "language": "python",
   "name": "python3"
  },
  "language_info": {
   "codemirror_mode": {
    "name": "ipython",
    "version": 3
   },
   "file_extension": ".py",
   "mimetype": "text/x-python",
   "name": "python",
   "nbconvert_exporter": "python",
   "pygments_lexer": "ipython3",
   "version": "3.7.3"
  }
 },
 "nbformat": 4,
 "nbformat_minor": 2
}
