{
 "cells": [
  {
   "cell_type": "code",
   "execution_count": 1,
   "metadata": {},
   "outputs": [],
   "source": [
    "import requests\n",
    "import numpy as np\n",
    "import pandas as pd\n",
    "import os\n",
    "\n",
    "import matplotlib.pyplot as plt\n",
    "%matplotlib inline\n",
    "from matplotlib import cm as cm\n",
    "\n",
    "import seaborn as sns \n",
    "import datetime"
   ]
  },
  {
   "cell_type": "markdown",
   "metadata": {},
   "source": [
    "# 1 Data Gathering - SolarView\n",
    "\n",
    "https://github.com/social-energy-atlas/solarview-data\n",
    "\n",
    "## 1.1 Installations"
   ]
  },
  {
   "cell_type": "code",
   "execution_count": 2,
   "metadata": {},
   "outputs": [
    {
     "data": {
      "text/html": [
       "<div>\n",
       "<style scoped>\n",
       "    .dataframe tbody tr th:only-of-type {\n",
       "        vertical-align: middle;\n",
       "    }\n",
       "\n",
       "    .dataframe tbody tr th {\n",
       "        vertical-align: top;\n",
       "    }\n",
       "\n",
       "    .dataframe thead th {\n",
       "        text-align: right;\n",
       "    }\n",
       "</style>\n",
       "<table border=\"1\" class=\"dataframe\">\n",
       "  <thead>\n",
       "    <tr style=\"text-align: right;\">\n",
       "      <th></th>\n",
       "      <th>sea-install-id</th>\n",
       "      <th>oiriginal-db</th>\n",
       "      <th>zip</th>\n",
       "      <th>fips</th>\n",
       "      <th>town</th>\n",
       "      <th>state</th>\n",
       "      <th>system-type</th>\n",
       "      <th>sector</th>\n",
       "      <th>install-date</th>\n",
       "      <th>utility</th>\n",
       "      <th>federal-cong-dist</th>\n",
       "      <th>state-senate-dist</th>\n",
       "      <th>state-house-dist</th>\n",
       "      <th>lat</th>\n",
       "      <th>long</th>\n",
       "    </tr>\n",
       "  </thead>\n",
       "  <tbody>\n",
       "    <tr>\n",
       "      <th>0</th>\n",
       "      <td>southface_S53</td>\n",
       "      <td>Southface</td>\n",
       "      <td>31408.0</td>\n",
       "      <td>13051</td>\n",
       "      <td>Garden City</td>\n",
       "      <td>Georgia</td>\n",
       "      <td>Solar Hot Water</td>\n",
       "      <td>Residential</td>\n",
       "      <td>2008-01-01</td>\n",
       "      <td>Georgia Power Company</td>\n",
       "      <td>1.0</td>\n",
       "      <td>2.0</td>\n",
       "      <td>162.0</td>\n",
       "      <td>32.119290</td>\n",
       "      <td>-81.151748</td>\n",
       "    </tr>\n",
       "    <tr>\n",
       "      <th>1</th>\n",
       "      <td>southface_S55</td>\n",
       "      <td>Southface</td>\n",
       "      <td>30601.0</td>\n",
       "      <td>13059</td>\n",
       "      <td>Athens</td>\n",
       "      <td>Georgia</td>\n",
       "      <td>Solar Hot Water</td>\n",
       "      <td>Residential</td>\n",
       "      <td>2008-01-01</td>\n",
       "      <td>Georgia Power Company</td>\n",
       "      <td>10.0</td>\n",
       "      <td>46.0</td>\n",
       "      <td>118.0</td>\n",
       "      <td>33.976445</td>\n",
       "      <td>-83.368683</td>\n",
       "    </tr>\n",
       "    <tr>\n",
       "      <th>2</th>\n",
       "      <td>southface_S59</td>\n",
       "      <td>Southface</td>\n",
       "      <td>30030.0</td>\n",
       "      <td>13089</td>\n",
       "      <td>Decatur</td>\n",
       "      <td>Georgia</td>\n",
       "      <td>Solar Hot Water</td>\n",
       "      <td>Residential</td>\n",
       "      <td>2008-01-01</td>\n",
       "      <td>Georgia Power Company</td>\n",
       "      <td>5.0</td>\n",
       "      <td>42.0</td>\n",
       "      <td>83.0</td>\n",
       "      <td>33.767515</td>\n",
       "      <td>-84.308954</td>\n",
       "    </tr>\n",
       "    <tr>\n",
       "      <th>3</th>\n",
       "      <td>southface_S52</td>\n",
       "      <td>Southface</td>\n",
       "      <td>30005.0</td>\n",
       "      <td>13121</td>\n",
       "      <td>Alpharetta</td>\n",
       "      <td>Georgia</td>\n",
       "      <td>Solar Hot Water</td>\n",
       "      <td>Residential</td>\n",
       "      <td>2008-01-01</td>\n",
       "      <td>Sawnee EMC</td>\n",
       "      <td>6.0</td>\n",
       "      <td>48.0</td>\n",
       "      <td>25.0</td>\n",
       "      <td>34.070288</td>\n",
       "      <td>-84.202196</td>\n",
       "    </tr>\n",
       "    <tr>\n",
       "      <th>4</th>\n",
       "      <td>southface_S49</td>\n",
       "      <td>Southface</td>\n",
       "      <td>30281.0</td>\n",
       "      <td>13151</td>\n",
       "      <td>Stockbridge</td>\n",
       "      <td>Georgia</td>\n",
       "      <td>Solar Hot Water</td>\n",
       "      <td>Residential</td>\n",
       "      <td>2008-01-01</td>\n",
       "      <td>Georgia Power Company</td>\n",
       "      <td>13.0</td>\n",
       "      <td>10.0</td>\n",
       "      <td>111.0</td>\n",
       "      <td>33.501071</td>\n",
       "      <td>-84.257491</td>\n",
       "    </tr>\n",
       "  </tbody>\n",
       "</table>\n",
       "</div>"
      ],
      "text/plain": [
       "  sea-install-id oiriginal-db      zip   fips         town    state  \\\n",
       "0  southface_S53    Southface  31408.0  13051  Garden City  Georgia   \n",
       "1  southface_S55    Southface  30601.0  13059       Athens  Georgia   \n",
       "2  southface_S59    Southface  30030.0  13089      Decatur  Georgia   \n",
       "3  southface_S52    Southface  30005.0  13121   Alpharetta  Georgia   \n",
       "4  southface_S49    Southface  30281.0  13151  Stockbridge  Georgia   \n",
       "\n",
       "       system-type       sector install-date                utility  \\\n",
       "0  Solar Hot Water  Residential   2008-01-01  Georgia Power Company   \n",
       "1  Solar Hot Water  Residential   2008-01-01  Georgia Power Company   \n",
       "2  Solar Hot Water  Residential   2008-01-01  Georgia Power Company   \n",
       "3  Solar Hot Water  Residential   2008-01-01             Sawnee EMC   \n",
       "4  Solar Hot Water  Residential   2008-01-01  Georgia Power Company   \n",
       "\n",
       "   federal-cong-dist  state-senate-dist  state-house-dist        lat  \\\n",
       "0                1.0                2.0             162.0  32.119290   \n",
       "1               10.0               46.0             118.0  33.976445   \n",
       "2                5.0               42.0              83.0  33.767515   \n",
       "3                6.0               48.0              25.0  34.070288   \n",
       "4               13.0               10.0             111.0  33.501071   \n",
       "\n",
       "        long  \n",
       "0 -81.151748  \n",
       "1 -83.368683  \n",
       "2 -84.308954  \n",
       "3 -84.202196  \n",
       "4 -84.257491  "
      ]
     },
     "execution_count": 2,
     "metadata": {},
     "output_type": "execute_result"
    }
   ],
   "source": [
    "installs = pd.read_csv('data/sea-solar-installations.csv', encoding='utf-8')\n",
    "installs.head(5)"
   ]
  },
  {
   "cell_type": "code",
   "execution_count": 3,
   "metadata": {},
   "outputs": [
    {
     "name": "stdout",
     "output_type": "stream",
     "text": [
      "<class 'pandas.core.frame.DataFrame'>\n",
      "RangeIndex: 2147 entries, 0 to 2146\n",
      "Data columns (total 15 columns):\n",
      "sea-install-id       2147 non-null object\n",
      "oiriginal-db         2147 non-null object\n",
      "zip                  2146 non-null float64\n",
      "fips                 2147 non-null int64\n",
      "town                 2107 non-null object\n",
      "state                2147 non-null object\n",
      "system-type          2147 non-null object\n",
      "sector               2147 non-null object\n",
      "install-date         2147 non-null object\n",
      "utility              603 non-null object\n",
      "federal-cong-dist    767 non-null float64\n",
      "state-senate-dist    767 non-null float64\n",
      "state-house-dist     767 non-null float64\n",
      "lat                  2125 non-null float64\n",
      "long                 2125 non-null float64\n",
      "dtypes: float64(6), int64(1), object(8)\n",
      "memory usage: 251.7+ KB\n"
     ]
    }
   ],
   "source": [
    "installs.info()"
   ]
  },
  {
   "cell_type": "markdown",
   "metadata": {},
   "source": [
    "## 1.2 County-level Census Data"
   ]
  },
  {
   "cell_type": "code",
   "execution_count": 4,
   "metadata": {},
   "outputs": [
    {
     "data": {
      "text/html": [
       "<div>\n",
       "<style scoped>\n",
       "    .dataframe tbody tr th:only-of-type {\n",
       "        vertical-align: middle;\n",
       "    }\n",
       "\n",
       "    .dataframe tbody tr th {\n",
       "        vertical-align: top;\n",
       "    }\n",
       "\n",
       "    .dataframe thead th {\n",
       "        text-align: right;\n",
       "    }\n",
       "</style>\n",
       "<table border=\"1\" class=\"dataframe\">\n",
       "  <thead>\n",
       "    <tr style=\"text-align: right;\">\n",
       "      <th></th>\n",
       "      <th>fips</th>\n",
       "      <th>med-income</th>\n",
       "      <th>owner-occ</th>\n",
       "      <th>pop-tot</th>\n",
       "      <th>dem-fem-pct</th>\n",
       "      <th>dem-male-pct</th>\n",
       "      <th>dem-white-pct</th>\n",
       "      <th>dem-baa-pct</th>\n",
       "      <th>dem-aian-pct</th>\n",
       "      <th>dem-a-pct</th>\n",
       "      <th>dem-nhpi-pct</th>\n",
       "      <th>dem-two-pct</th>\n",
       "      <th>dem-hl-pct</th>\n",
       "      <th>dem-vet</th>\n",
       "      <th>dem-hh</th>\n",
       "    </tr>\n",
       "  </thead>\n",
       "  <tbody>\n",
       "    <tr>\n",
       "      <th>0</th>\n",
       "      <td>13001</td>\n",
       "      <td>$37,135</td>\n",
       "      <td>71.10%</td>\n",
       "      <td>18428</td>\n",
       "      <td>50.10%</td>\n",
       "      <td>49.90%</td>\n",
       "      <td>69.50%</td>\n",
       "      <td>19.40%</td>\n",
       "      <td>0.60%</td>\n",
       "      <td>0.90%</td>\n",
       "      <td>0.20%</td>\n",
       "      <td>1.20%</td>\n",
       "      <td>9.60%</td>\n",
       "      <td>1053</td>\n",
       "      <td>8381</td>\n",
       "    </tr>\n",
       "    <tr>\n",
       "      <th>1</th>\n",
       "      <td>13003</td>\n",
       "      <td>$30,933</td>\n",
       "      <td>72.00%</td>\n",
       "      <td>8273</td>\n",
       "      <td>49.90%</td>\n",
       "      <td>50.10%</td>\n",
       "      <td>56.20%</td>\n",
       "      <td>17.50%</td>\n",
       "      <td>1.40%</td>\n",
       "      <td>0.90%</td>\n",
       "      <td>1.10%</td>\n",
       "      <td>2.10%</td>\n",
       "      <td>25.20%</td>\n",
       "      <td>385</td>\n",
       "      <td>3429</td>\n",
       "    </tr>\n",
       "    <tr>\n",
       "      <th>2</th>\n",
       "      <td>13005</td>\n",
       "      <td>$37,162</td>\n",
       "      <td>68.60%</td>\n",
       "      <td>11372</td>\n",
       "      <td>50.70%</td>\n",
       "      <td>49.30%</td>\n",
       "      <td>73.10%</td>\n",
       "      <td>16.60%</td>\n",
       "      <td>0.30%</td>\n",
       "      <td>0.60%</td>\n",
       "      <td>0.20%</td>\n",
       "      <td>1.60%</td>\n",
       "      <td>8.70%</td>\n",
       "      <td>559</td>\n",
       "      <td>4715</td>\n",
       "    </tr>\n",
       "    <tr>\n",
       "      <th>3</th>\n",
       "      <td>13007</td>\n",
       "      <td>$44,297</td>\n",
       "      <td>73.60%</td>\n",
       "      <td>3150</td>\n",
       "      <td>51.40%</td>\n",
       "      <td>48.60%</td>\n",
       "      <td>47.00%</td>\n",
       "      <td>45.90%</td>\n",
       "      <td>0.40%</td>\n",
       "      <td>1.10%</td>\n",
       "      <td>0.10%</td>\n",
       "      <td>1.10%</td>\n",
       "      <td>5.60%</td>\n",
       "      <td>178</td>\n",
       "      <td>1620</td>\n",
       "    </tr>\n",
       "    <tr>\n",
       "      <th>4</th>\n",
       "      <td>13009</td>\n",
       "      <td>$32,460</td>\n",
       "      <td>53.80%</td>\n",
       "      <td>45144</td>\n",
       "      <td>49.40%</td>\n",
       "      <td>50.60%</td>\n",
       "      <td>52.60%</td>\n",
       "      <td>42.40%</td>\n",
       "      <td>0.30%</td>\n",
       "      <td>1.80%</td>\n",
       "      <td>0.10%</td>\n",
       "      <td>1.20%</td>\n",
       "      <td>2.20%</td>\n",
       "      <td>2911</td>\n",
       "      <td>20277</td>\n",
       "    </tr>\n",
       "  </tbody>\n",
       "</table>\n",
       "</div>"
      ],
      "text/plain": [
       "    fips  med-income  owner-occ pop-tot dem-fem-pct dem-male-pct  \\\n",
       "0  13001     $37,135     71.10%   18428      50.10%       49.90%   \n",
       "1  13003     $30,933     72.00%    8273      49.90%       50.10%   \n",
       "2  13005     $37,162     68.60%   11372      50.70%       49.30%   \n",
       "3  13007     $44,297     73.60%    3150      51.40%       48.60%   \n",
       "4  13009     $32,460     53.80%   45144      49.40%       50.60%   \n",
       "\n",
       "  dem-white-pct dem-baa-pct dem-aian-pct dem-a-pct dem-nhpi-pct dem-two-pct  \\\n",
       "0        69.50%      19.40%        0.60%     0.90%        0.20%       1.20%   \n",
       "1        56.20%      17.50%        1.40%     0.90%        1.10%       2.10%   \n",
       "2        73.10%      16.60%        0.30%     0.60%        0.20%       1.60%   \n",
       "3        47.00%      45.90%        0.40%     1.10%        0.10%       1.10%   \n",
       "4        52.60%      42.40%        0.30%     1.80%        0.10%       1.20%   \n",
       "\n",
       "  dem-hl-pct dem-vet dem-hh  \n",
       "0      9.60%    1053   8381  \n",
       "1     25.20%     385   3429  \n",
       "2      8.70%     559   4715  \n",
       "3      5.60%     178   1620  \n",
       "4      2.20%    2911  20277  "
      ]
     },
     "execution_count": 4,
     "metadata": {},
     "output_type": "execute_result"
    }
   ],
   "source": [
    "census = pd.read_csv('data/sea-county-census.csv', encoding='utf-8')\n",
    "census.head(5)"
   ]
  },
  {
   "cell_type": "markdown",
   "metadata": {},
   "source": [
    "## 1.3 County Name-Fips Map"
   ]
  },
  {
   "cell_type": "code",
   "execution_count": 5,
   "metadata": {},
   "outputs": [
    {
     "data": {
      "text/html": [
       "<div>\n",
       "<style scoped>\n",
       "    .dataframe tbody tr th:only-of-type {\n",
       "        vertical-align: middle;\n",
       "    }\n",
       "\n",
       "    .dataframe tbody tr th {\n",
       "        vertical-align: top;\n",
       "    }\n",
       "\n",
       "    .dataframe thead th {\n",
       "        text-align: right;\n",
       "    }\n",
       "</style>\n",
       "<table border=\"1\" class=\"dataframe\">\n",
       "  <thead>\n",
       "    <tr style=\"text-align: right;\">\n",
       "      <th></th>\n",
       "      <th>fips</th>\n",
       "      <th>county</th>\n",
       "    </tr>\n",
       "  </thead>\n",
       "  <tbody>\n",
       "    <tr>\n",
       "      <th>0</th>\n",
       "      <td>13001</td>\n",
       "      <td>Appling</td>\n",
       "    </tr>\n",
       "    <tr>\n",
       "      <th>1</th>\n",
       "      <td>13003</td>\n",
       "      <td>Atkinson</td>\n",
       "    </tr>\n",
       "    <tr>\n",
       "      <th>2</th>\n",
       "      <td>13005</td>\n",
       "      <td>Bacon</td>\n",
       "    </tr>\n",
       "    <tr>\n",
       "      <th>3</th>\n",
       "      <td>13007</td>\n",
       "      <td>Baker</td>\n",
       "    </tr>\n",
       "    <tr>\n",
       "      <th>4</th>\n",
       "      <td>13009</td>\n",
       "      <td>Baldwin</td>\n",
       "    </tr>\n",
       "  </tbody>\n",
       "</table>\n",
       "</div>"
      ],
      "text/plain": [
       "    fips    county\n",
       "0  13001   Appling\n",
       "1  13003  Atkinson\n",
       "2  13005     Bacon\n",
       "3  13007     Baker\n",
       "4  13009   Baldwin"
      ]
     },
     "execution_count": 5,
     "metadata": {},
     "output_type": "execute_result"
    }
   ],
   "source": [
    "fips = pd.read_csv('data/sea-county-name.csv', encoding='utf-8')\n",
    "fips.head(5)"
   ]
  },
  {
   "cell_type": "markdown",
   "metadata": {},
   "source": [
    "## 1.4 Zillow Valuation Information"
   ]
  },
  {
   "cell_type": "code",
   "execution_count": 6,
   "metadata": {},
   "outputs": [
    {
     "data": {
      "text/html": [
       "<div>\n",
       "<style scoped>\n",
       "    .dataframe tbody tr th:only-of-type {\n",
       "        vertical-align: middle;\n",
       "    }\n",
       "\n",
       "    .dataframe tbody tr th {\n",
       "        vertical-align: top;\n",
       "    }\n",
       "\n",
       "    .dataframe thead th {\n",
       "        text-align: right;\n",
       "    }\n",
       "</style>\n",
       "<table border=\"1\" class=\"dataframe\">\n",
       "  <thead>\n",
       "    <tr style=\"text-align: right;\">\n",
       "      <th></th>\n",
       "      <th>fips</th>\n",
       "      <th>med-zhvi</th>\n",
       "      <th>med-zrvi</th>\n",
       "    </tr>\n",
       "  </thead>\n",
       "  <tbody>\n",
       "    <tr>\n",
       "      <th>0</th>\n",
       "      <td>13001</td>\n",
       "      <td>NaN</td>\n",
       "      <td>NaN</td>\n",
       "    </tr>\n",
       "    <tr>\n",
       "      <th>1</th>\n",
       "      <td>13003</td>\n",
       "      <td>NaN</td>\n",
       "      <td>NaN</td>\n",
       "    </tr>\n",
       "    <tr>\n",
       "      <th>2</th>\n",
       "      <td>13005</td>\n",
       "      <td>NaN</td>\n",
       "      <td>NaN</td>\n",
       "    </tr>\n",
       "    <tr>\n",
       "      <th>3</th>\n",
       "      <td>13007</td>\n",
       "      <td>NaN</td>\n",
       "      <td>NaN</td>\n",
       "    </tr>\n",
       "    <tr>\n",
       "      <th>4</th>\n",
       "      <td>13009</td>\n",
       "      <td>$66.08</td>\n",
       "      <td>$0.62</td>\n",
       "    </tr>\n",
       "  </tbody>\n",
       "</table>\n",
       "</div>"
      ],
      "text/plain": [
       "    fips med-zhvi med-zrvi\n",
       "0  13001      NaN      NaN\n",
       "1  13003      NaN      NaN\n",
       "2  13005      NaN      NaN\n",
       "3  13007      NaN      NaN\n",
       "4  13009  $66.08    $0.62 "
      ]
     },
     "execution_count": 6,
     "metadata": {},
     "output_type": "execute_result"
    }
   ],
   "source": [
    "zillow = pd.read_csv('data/sea-county-zillow.csv', encoding='utf-8')\n",
    "zillow.head(5)"
   ]
  },
  {
   "cell_type": "markdown",
   "metadata": {},
   "source": [
    "## 1.5 DSIRE Incentive Counts"
   ]
  },
  {
   "cell_type": "code",
   "execution_count": 7,
   "metadata": {},
   "outputs": [
    {
     "data": {
      "text/html": [
       "<div>\n",
       "<style scoped>\n",
       "    .dataframe tbody tr th:only-of-type {\n",
       "        vertical-align: middle;\n",
       "    }\n",
       "\n",
       "    .dataframe tbody tr th {\n",
       "        vertical-align: top;\n",
       "    }\n",
       "\n",
       "    .dataframe thead th {\n",
       "        text-align: right;\n",
       "    }\n",
       "</style>\n",
       "<table border=\"1\" class=\"dataframe\">\n",
       "  <thead>\n",
       "    <tr style=\"text-align: right;\">\n",
       "      <th></th>\n",
       "      <th>fips</th>\n",
       "      <th>fed-total</th>\n",
       "      <th>fed-fin-incent-total</th>\n",
       "      <th>fed-fin-incent-corp-deprec</th>\n",
       "      <th>fed-fin-incent-corp-tax-credit</th>\n",
       "      <th>fed-fin-incent-corp-tax-deduction</th>\n",
       "      <th>fed-fin-incent-corp-tax-exemption</th>\n",
       "      <th>fed-fin-incent-grant-prog</th>\n",
       "      <th>fed-fin-incent-loan-prog</th>\n",
       "      <th>fed-fin-incent-pers-tax-credit</th>\n",
       "      <th>...</th>\n",
       "      <th>state-reg-policy</th>\n",
       "      <th>state-reg-policy-build-energy-code</th>\n",
       "      <th>state-reg-policy-energy-stand-build</th>\n",
       "      <th>state-reg-policy-interconn</th>\n",
       "      <th>state-reg-policy-net-metering</th>\n",
       "      <th>state-reg-policy-solar-wind-access</th>\n",
       "      <th>state-tech-res</th>\n",
       "      <th>state-tech-res-energy-analysis</th>\n",
       "      <th>state-tech-res-other</th>\n",
       "      <th>state-tech-res-training-info</th>\n",
       "    </tr>\n",
       "  </thead>\n",
       "  <tbody>\n",
       "    <tr>\n",
       "      <th>0</th>\n",
       "      <td>13001</td>\n",
       "      <td>41</td>\n",
       "      <td>24</td>\n",
       "      <td>1</td>\n",
       "      <td>2</td>\n",
       "      <td>1</td>\n",
       "      <td>2</td>\n",
       "      <td>7</td>\n",
       "      <td>8</td>\n",
       "      <td>2</td>\n",
       "      <td>...</td>\n",
       "      <td>4</td>\n",
       "      <td>1</td>\n",
       "      <td>NaN</td>\n",
       "      <td>1</td>\n",
       "      <td>1</td>\n",
       "      <td>1</td>\n",
       "      <td>5</td>\n",
       "      <td>4</td>\n",
       "      <td>0</td>\n",
       "      <td>1</td>\n",
       "    </tr>\n",
       "    <tr>\n",
       "      <th>1</th>\n",
       "      <td>13003</td>\n",
       "      <td>41</td>\n",
       "      <td>24</td>\n",
       "      <td>1</td>\n",
       "      <td>2</td>\n",
       "      <td>1</td>\n",
       "      <td>2</td>\n",
       "      <td>7</td>\n",
       "      <td>8</td>\n",
       "      <td>2</td>\n",
       "      <td>...</td>\n",
       "      <td>4</td>\n",
       "      <td>1</td>\n",
       "      <td>NaN</td>\n",
       "      <td>1</td>\n",
       "      <td>1</td>\n",
       "      <td>1</td>\n",
       "      <td>5</td>\n",
       "      <td>4</td>\n",
       "      <td>0</td>\n",
       "      <td>1</td>\n",
       "    </tr>\n",
       "    <tr>\n",
       "      <th>2</th>\n",
       "      <td>13005</td>\n",
       "      <td>41</td>\n",
       "      <td>24</td>\n",
       "      <td>1</td>\n",
       "      <td>2</td>\n",
       "      <td>1</td>\n",
       "      <td>2</td>\n",
       "      <td>7</td>\n",
       "      <td>8</td>\n",
       "      <td>2</td>\n",
       "      <td>...</td>\n",
       "      <td>4</td>\n",
       "      <td>1</td>\n",
       "      <td>NaN</td>\n",
       "      <td>1</td>\n",
       "      <td>1</td>\n",
       "      <td>1</td>\n",
       "      <td>5</td>\n",
       "      <td>4</td>\n",
       "      <td>0</td>\n",
       "      <td>1</td>\n",
       "    </tr>\n",
       "    <tr>\n",
       "      <th>3</th>\n",
       "      <td>13007</td>\n",
       "      <td>41</td>\n",
       "      <td>24</td>\n",
       "      <td>1</td>\n",
       "      <td>2</td>\n",
       "      <td>1</td>\n",
       "      <td>2</td>\n",
       "      <td>7</td>\n",
       "      <td>8</td>\n",
       "      <td>2</td>\n",
       "      <td>...</td>\n",
       "      <td>4</td>\n",
       "      <td>1</td>\n",
       "      <td>NaN</td>\n",
       "      <td>1</td>\n",
       "      <td>1</td>\n",
       "      <td>1</td>\n",
       "      <td>5</td>\n",
       "      <td>4</td>\n",
       "      <td>0</td>\n",
       "      <td>1</td>\n",
       "    </tr>\n",
       "    <tr>\n",
       "      <th>4</th>\n",
       "      <td>13009</td>\n",
       "      <td>41</td>\n",
       "      <td>24</td>\n",
       "      <td>1</td>\n",
       "      <td>2</td>\n",
       "      <td>1</td>\n",
       "      <td>2</td>\n",
       "      <td>7</td>\n",
       "      <td>8</td>\n",
       "      <td>2</td>\n",
       "      <td>...</td>\n",
       "      <td>4</td>\n",
       "      <td>1</td>\n",
       "      <td>NaN</td>\n",
       "      <td>1</td>\n",
       "      <td>1</td>\n",
       "      <td>1</td>\n",
       "      <td>5</td>\n",
       "      <td>4</td>\n",
       "      <td>0</td>\n",
       "      <td>1</td>\n",
       "    </tr>\n",
       "  </tbody>\n",
       "</table>\n",
       "<p>5 rows × 38 columns</p>\n",
       "</div>"
      ],
      "text/plain": [
       "    fips  fed-total  fed-fin-incent-total  fed-fin-incent-corp-deprec  \\\n",
       "0  13001         41                    24                           1   \n",
       "1  13003         41                    24                           1   \n",
       "2  13005         41                    24                           1   \n",
       "3  13007         41                    24                           1   \n",
       "4  13009         41                    24                           1   \n",
       "\n",
       "   fed-fin-incent-corp-tax-credit  fed-fin-incent-corp-tax-deduction  \\\n",
       "0                               2                                  1   \n",
       "1                               2                                  1   \n",
       "2                               2                                  1   \n",
       "3                               2                                  1   \n",
       "4                               2                                  1   \n",
       "\n",
       "   fed-fin-incent-corp-tax-exemption  fed-fin-incent-grant-prog  \\\n",
       "0                                  2                          7   \n",
       "1                                  2                          7   \n",
       "2                                  2                          7   \n",
       "3                                  2                          7   \n",
       "4                                  2                          7   \n",
       "\n",
       "   fed-fin-incent-loan-prog  fed-fin-incent-pers-tax-credit  ...  \\\n",
       "0                         8                               2  ...   \n",
       "1                         8                               2  ...   \n",
       "2                         8                               2  ...   \n",
       "3                         8                               2  ...   \n",
       "4                         8                               2  ...   \n",
       "\n",
       "   state-reg-policy  state-reg-policy-build-energy-code  \\\n",
       "0                 4                                   1   \n",
       "1                 4                                   1   \n",
       "2                 4                                   1   \n",
       "3                 4                                   1   \n",
       "4                 4                                   1   \n",
       "\n",
       "   state-reg-policy-energy-stand-build  state-reg-policy-interconn  \\\n",
       "0                                  NaN                           1   \n",
       "1                                  NaN                           1   \n",
       "2                                  NaN                           1   \n",
       "3                                  NaN                           1   \n",
       "4                                  NaN                           1   \n",
       "\n",
       "   state-reg-policy-net-metering  state-reg-policy-solar-wind-access  \\\n",
       "0                              1                                   1   \n",
       "1                              1                                   1   \n",
       "2                              1                                   1   \n",
       "3                              1                                   1   \n",
       "4                              1                                   1   \n",
       "\n",
       "   state-tech-res  state-tech-res-energy-analysis  state-tech-res-other  \\\n",
       "0               5                               4                     0   \n",
       "1               5                               4                     0   \n",
       "2               5                               4                     0   \n",
       "3               5                               4                     0   \n",
       "4               5                               4                     0   \n",
       "\n",
       "   state-tech-res-training-info  \n",
       "0                             1  \n",
       "1                             1  \n",
       "2                             1  \n",
       "3                             1  \n",
       "4                             1  \n",
       "\n",
       "[5 rows x 38 columns]"
      ]
     },
     "execution_count": 7,
     "metadata": {},
     "output_type": "execute_result"
    }
   ],
   "source": [
    "dsire = pd.read_csv('data/sea-dsire-incentives.csv', encoding='utf-8')\n",
    "dsire.head(5)"
   ]
  },
  {
   "cell_type": "markdown",
   "metadata": {},
   "source": [
    "## 1.6 Solar Suitability"
   ]
  },
  {
   "cell_type": "code",
   "execution_count": 8,
   "metadata": {},
   "outputs": [
    {
     "data": {
      "text/html": [
       "<div>\n",
       "<style scoped>\n",
       "    .dataframe tbody tr th:only-of-type {\n",
       "        vertical-align: middle;\n",
       "    }\n",
       "\n",
       "    .dataframe tbody tr th {\n",
       "        vertical-align: top;\n",
       "    }\n",
       "\n",
       "    .dataframe thead th {\n",
       "        text-align: right;\n",
       "    }\n",
       "</style>\n",
       "<table border=\"1\" class=\"dataframe\">\n",
       "  <thead>\n",
       "    <tr style=\"text-align: right;\">\n",
       "      <th></th>\n",
       "      <th>zip</th>\n",
       "      <th>locale</th>\n",
       "      <th>nbld</th>\n",
       "      <th>pct-suitable</th>\n",
       "    </tr>\n",
       "  </thead>\n",
       "  <tbody>\n",
       "    <tr>\n",
       "      <th>0</th>\n",
       "      <td>30002</td>\n",
       "      <td>Suburb Large</td>\n",
       "      <td>1607.0</td>\n",
       "      <td>0.634723</td>\n",
       "    </tr>\n",
       "    <tr>\n",
       "      <th>1</th>\n",
       "      <td>30004</td>\n",
       "      <td>Suburb Large</td>\n",
       "      <td>13273.0</td>\n",
       "      <td>0.820359</td>\n",
       "    </tr>\n",
       "    <tr>\n",
       "      <th>2</th>\n",
       "      <td>30005</td>\n",
       "      <td>Suburb Large</td>\n",
       "      <td>8411.0</td>\n",
       "      <td>0.841822</td>\n",
       "    </tr>\n",
       "    <tr>\n",
       "      <th>3</th>\n",
       "      <td>30008</td>\n",
       "      <td>Suburb Large</td>\n",
       "      <td>5849.0</td>\n",
       "      <td>0.819148</td>\n",
       "    </tr>\n",
       "    <tr>\n",
       "      <th>4</th>\n",
       "      <td>30009</td>\n",
       "      <td>Suburb Large</td>\n",
       "      <td>3358.0</td>\n",
       "      <td>0.824698</td>\n",
       "    </tr>\n",
       "  </tbody>\n",
       "</table>\n",
       "</div>"
      ],
      "text/plain": [
       "     zip        locale     nbld  pct-suitable\n",
       "0  30002  Suburb Large   1607.0      0.634723\n",
       "1  30004  Suburb Large  13273.0      0.820359\n",
       "2  30005  Suburb Large   8411.0      0.841822\n",
       "3  30008  Suburb Large   5849.0      0.819148\n",
       "4  30009  Suburb Large   3358.0      0.824698"
      ]
     },
     "execution_count": 8,
     "metadata": {},
     "output_type": "execute_result"
    }
   ],
   "source": [
    "suit = pd.read_csv('data/sea-solar-suitability.csv', encoding='utf-8')\n",
    "suit.head(5)"
   ]
  },
  {
   "cell_type": "markdown",
   "metadata": {},
   "source": [
    "## 1.7 Utility List and Ownership Type"
   ]
  },
  {
   "cell_type": "code",
   "execution_count": 9,
   "metadata": {},
   "outputs": [
    {
     "data": {
      "text/html": [
       "<div>\n",
       "<style scoped>\n",
       "    .dataframe tbody tr th:only-of-type {\n",
       "        vertical-align: middle;\n",
       "    }\n",
       "\n",
       "    .dataframe tbody tr th {\n",
       "        vertical-align: top;\n",
       "    }\n",
       "\n",
       "    .dataframe thead th {\n",
       "        text-align: right;\n",
       "    }\n",
       "</style>\n",
       "<table border=\"1\" class=\"dataframe\">\n",
       "  <thead>\n",
       "    <tr style=\"text-align: right;\">\n",
       "      <th></th>\n",
       "      <th>utility-id</th>\n",
       "      <th>name</th>\n",
       "      <th>ownership</th>\n",
       "    </tr>\n",
       "  </thead>\n",
       "  <tbody>\n",
       "    <tr>\n",
       "      <th>0</th>\n",
       "      <td>sea-util-1</td>\n",
       "      <td>Albany Water Gas &amp; Light Comm</td>\n",
       "      <td>Municipal</td>\n",
       "    </tr>\n",
       "    <tr>\n",
       "      <th>1</th>\n",
       "      <td>sea-util-2</td>\n",
       "      <td>Altamaha Electric Member Corp</td>\n",
       "      <td>Cooperative</td>\n",
       "    </tr>\n",
       "    <tr>\n",
       "      <th>2</th>\n",
       "      <td>sea-util-3</td>\n",
       "      <td>Amicalola Electric Member Corp</td>\n",
       "      <td>Cooperative</td>\n",
       "    </tr>\n",
       "    <tr>\n",
       "      <th>3</th>\n",
       "      <td>sea-util-4</td>\n",
       "      <td>Blue Ridge Mountain EMC - (GA)</td>\n",
       "      <td>Cooperative</td>\n",
       "    </tr>\n",
       "    <tr>\n",
       "      <th>4</th>\n",
       "      <td>sea-util-5</td>\n",
       "      <td>Canoochee Electric Member Corp</td>\n",
       "      <td>Cooperative</td>\n",
       "    </tr>\n",
       "  </tbody>\n",
       "</table>\n",
       "</div>"
      ],
      "text/plain": [
       "   utility-id                            name    ownership\n",
       "0  sea-util-1   Albany Water Gas & Light Comm    Municipal\n",
       "1  sea-util-2   Altamaha Electric Member Corp  Cooperative\n",
       "2  sea-util-3  Amicalola Electric Member Corp  Cooperative\n",
       "3  sea-util-4  Blue Ridge Mountain EMC - (GA)  Cooperative\n",
       "4  sea-util-5  Canoochee Electric Member Corp  Cooperative"
      ]
     },
     "execution_count": 9,
     "metadata": {},
     "output_type": "execute_result"
    }
   ],
   "source": [
    "util = pd.read_csv('data/sea-utility-id.csv', encoding='utf-8')\n",
    "util.head(5)"
   ]
  },
  {
   "cell_type": "markdown",
   "metadata": {},
   "source": [
    "## 1.8 Utility Rates"
   ]
  },
  {
   "cell_type": "code",
   "execution_count": 10,
   "metadata": {},
   "outputs": [
    {
     "data": {
      "text/html": [
       "<div>\n",
       "<style scoped>\n",
       "    .dataframe tbody tr th:only-of-type {\n",
       "        vertical-align: middle;\n",
       "    }\n",
       "\n",
       "    .dataframe tbody tr th {\n",
       "        vertical-align: top;\n",
       "    }\n",
       "\n",
       "    .dataframe thead th {\n",
       "        text-align: right;\n",
       "    }\n",
       "</style>\n",
       "<table border=\"1\" class=\"dataframe\">\n",
       "  <thead>\n",
       "    <tr style=\"text-align: right;\">\n",
       "      <th></th>\n",
       "      <th>sea-rate-id</th>\n",
       "      <th>year</th>\n",
       "      <th>zip</th>\n",
       "      <th>utility-id</th>\n",
       "      <th>service-type</th>\n",
       "      <th>comm-rate</th>\n",
       "      <th>ind-rate</th>\n",
       "      <th>res-rate</th>\n",
       "    </tr>\n",
       "  </thead>\n",
       "  <tbody>\n",
       "    <tr>\n",
       "      <th>0</th>\n",
       "      <td>sea-util-1-rate-31702</td>\n",
       "      <td>2015</td>\n",
       "      <td>31702</td>\n",
       "      <td>sea-util-1</td>\n",
       "      <td>Bundled</td>\n",
       "      <td>0.105766</td>\n",
       "      <td>0.0</td>\n",
       "      <td>0.108669</td>\n",
       "    </tr>\n",
       "    <tr>\n",
       "      <th>1</th>\n",
       "      <td>sea-util-1-rate-31703</td>\n",
       "      <td>2015</td>\n",
       "      <td>31703</td>\n",
       "      <td>sea-util-1</td>\n",
       "      <td>Bundled</td>\n",
       "      <td>0.105766</td>\n",
       "      <td>0.0</td>\n",
       "      <td>0.108669</td>\n",
       "    </tr>\n",
       "    <tr>\n",
       "      <th>2</th>\n",
       "      <td>sea-util-1-rate-31706</td>\n",
       "      <td>2015</td>\n",
       "      <td>31706</td>\n",
       "      <td>sea-util-1</td>\n",
       "      <td>Bundled</td>\n",
       "      <td>0.105766</td>\n",
       "      <td>0.0</td>\n",
       "      <td>0.108669</td>\n",
       "    </tr>\n",
       "    <tr>\n",
       "      <th>3</th>\n",
       "      <td>sea-util-1-rate-31705</td>\n",
       "      <td>2015</td>\n",
       "      <td>31705</td>\n",
       "      <td>sea-util-1</td>\n",
       "      <td>Bundled</td>\n",
       "      <td>0.105766</td>\n",
       "      <td>0.0</td>\n",
       "      <td>0.108669</td>\n",
       "    </tr>\n",
       "    <tr>\n",
       "      <th>4</th>\n",
       "      <td>sea-util-1-rate-31701</td>\n",
       "      <td>2015</td>\n",
       "      <td>31701</td>\n",
       "      <td>sea-util-1</td>\n",
       "      <td>Bundled</td>\n",
       "      <td>0.105766</td>\n",
       "      <td>0.0</td>\n",
       "      <td>0.108669</td>\n",
       "    </tr>\n",
       "  </tbody>\n",
       "</table>\n",
       "</div>"
      ],
      "text/plain": [
       "             sea-rate-id  year    zip  utility-id service-type  comm-rate  \\\n",
       "0  sea-util-1-rate-31702  2015  31702  sea-util-1      Bundled   0.105766   \n",
       "1  sea-util-1-rate-31703  2015  31703  sea-util-1      Bundled   0.105766   \n",
       "2  sea-util-1-rate-31706  2015  31706  sea-util-1      Bundled   0.105766   \n",
       "3  sea-util-1-rate-31705  2015  31705  sea-util-1      Bundled   0.105766   \n",
       "4  sea-util-1-rate-31701  2015  31701  sea-util-1      Bundled   0.105766   \n",
       "\n",
       "   ind-rate  res-rate  \n",
       "0       0.0  0.108669  \n",
       "1       0.0  0.108669  \n",
       "2       0.0  0.108669  \n",
       "3       0.0  0.108669  \n",
       "4       0.0  0.108669  "
      ]
     },
     "execution_count": 10,
     "metadata": {},
     "output_type": "execute_result"
    }
   ],
   "source": [
    "util_rates = pd.read_csv('data/sea-utility-rates.csv', encoding='utf-8')\n",
    "util_rates.head(5)"
   ]
  },
  {
   "cell_type": "markdown",
   "metadata": {},
   "source": [
    "## 1.9 Zipcode Table"
   ]
  },
  {
   "cell_type": "code",
   "execution_count": 11,
   "metadata": {},
   "outputs": [
    {
     "data": {
      "text/html": [
       "<div>\n",
       "<style scoped>\n",
       "    .dataframe tbody tr th:only-of-type {\n",
       "        vertical-align: middle;\n",
       "    }\n",
       "\n",
       "    .dataframe tbody tr th {\n",
       "        vertical-align: top;\n",
       "    }\n",
       "\n",
       "    .dataframe thead th {\n",
       "        text-align: right;\n",
       "    }\n",
       "</style>\n",
       "<table border=\"1\" class=\"dataframe\">\n",
       "  <thead>\n",
       "    <tr style=\"text-align: right;\">\n",
       "      <th></th>\n",
       "      <th>sea-zip-id</th>\n",
       "      <th>zip</th>\n",
       "      <th>fips</th>\n",
       "      <th>year</th>\n",
       "    </tr>\n",
       "  </thead>\n",
       "  <tbody>\n",
       "    <tr>\n",
       "      <th>0</th>\n",
       "      <td>zip-2018-1</td>\n",
       "      <td>31557</td>\n",
       "      <td>13001</td>\n",
       "      <td>2018</td>\n",
       "    </tr>\n",
       "    <tr>\n",
       "      <th>1</th>\n",
       "      <td>zip-2018-2</td>\n",
       "      <td>31513</td>\n",
       "      <td>13001</td>\n",
       "      <td>2018</td>\n",
       "    </tr>\n",
       "    <tr>\n",
       "      <th>2</th>\n",
       "      <td>zip-2018-3</td>\n",
       "      <td>31518</td>\n",
       "      <td>13001</td>\n",
       "      <td>2018</td>\n",
       "    </tr>\n",
       "    <tr>\n",
       "      <th>3</th>\n",
       "      <td>zip-2018-4</td>\n",
       "      <td>31539</td>\n",
       "      <td>13001</td>\n",
       "      <td>2018</td>\n",
       "    </tr>\n",
       "    <tr>\n",
       "      <th>4</th>\n",
       "      <td>zip-2018-5</td>\n",
       "      <td>31560</td>\n",
       "      <td>13001</td>\n",
       "      <td>2018</td>\n",
       "    </tr>\n",
       "  </tbody>\n",
       "</table>\n",
       "</div>"
      ],
      "text/plain": [
       "   sea-zip-id    zip   fips  year\n",
       "0  zip-2018-1  31557  13001  2018\n",
       "1  zip-2018-2  31513  13001  2018\n",
       "2  zip-2018-3  31518  13001  2018\n",
       "3  zip-2018-4  31539  13001  2018\n",
       "4  zip-2018-5  31560  13001  2018"
      ]
     },
     "execution_count": 11,
     "metadata": {},
     "output_type": "execute_result"
    }
   ],
   "source": [
    "zipcode = pd.read_csv('data/sea-zipcode-county.csv', encoding='utf-8')\n",
    "zipcode.head(5)"
   ]
  },
  {
   "cell_type": "markdown",
   "metadata": {},
   "source": [
    "# 2 Data Assessment\n",
    "## 2.1 Installations"
   ]
  },
  {
   "cell_type": "code",
   "execution_count": 12,
   "metadata": {},
   "outputs": [
    {
     "name": "stdout",
     "output_type": "stream",
     "text": [
      "<class 'pandas.core.frame.DataFrame'>\n",
      "RangeIndex: 2147 entries, 0 to 2146\n",
      "Data columns (total 15 columns):\n",
      "sea-install-id       2147 non-null object\n",
      "oiriginal-db         2147 non-null object\n",
      "zip                  2146 non-null float64\n",
      "fips                 2147 non-null int64\n",
      "town                 2107 non-null object\n",
      "state                2147 non-null object\n",
      "system-type          2147 non-null object\n",
      "sector               2147 non-null object\n",
      "install-date         2147 non-null object\n",
      "utility              603 non-null object\n",
      "federal-cong-dist    767 non-null float64\n",
      "state-senate-dist    767 non-null float64\n",
      "state-house-dist     767 non-null float64\n",
      "lat                  2125 non-null float64\n",
      "long                 2125 non-null float64\n",
      "dtypes: float64(6), int64(1), object(8)\n",
      "memory usage: 251.7+ KB\n"
     ]
    }
   ],
   "source": [
    "installs.info()"
   ]
  },
  {
   "cell_type": "markdown",
   "metadata": {},
   "source": [
    "- install-date is not in datetime format\n",
    "- lat and long are not strings\n",
    "- fips is not a string\n",
    "- error in spelling of original database column"
   ]
  },
  {
   "cell_type": "code",
   "execution_count": 13,
   "metadata": {},
   "outputs": [
    {
     "data": {
      "text/html": [
       "<div>\n",
       "<style scoped>\n",
       "    .dataframe tbody tr th:only-of-type {\n",
       "        vertical-align: middle;\n",
       "    }\n",
       "\n",
       "    .dataframe tbody tr th {\n",
       "        vertical-align: top;\n",
       "    }\n",
       "\n",
       "    .dataframe thead th {\n",
       "        text-align: right;\n",
       "    }\n",
       "</style>\n",
       "<table border=\"1\" class=\"dataframe\">\n",
       "  <thead>\n",
       "    <tr style=\"text-align: right;\">\n",
       "      <th></th>\n",
       "      <th>sea-install-id</th>\n",
       "      <th>oiriginal-db</th>\n",
       "      <th>zip</th>\n",
       "      <th>fips</th>\n",
       "      <th>town</th>\n",
       "      <th>state</th>\n",
       "      <th>system-type</th>\n",
       "      <th>sector</th>\n",
       "      <th>install-date</th>\n",
       "      <th>utility</th>\n",
       "      <th>federal-cong-dist</th>\n",
       "      <th>state-senate-dist</th>\n",
       "      <th>state-house-dist</th>\n",
       "      <th>lat</th>\n",
       "      <th>long</th>\n",
       "    </tr>\n",
       "  </thead>\n",
       "  <tbody>\n",
       "    <tr>\n",
       "      <th>846</th>\n",
       "      <td>southface_M119</td>\n",
       "      <td>Southface</td>\n",
       "      <td>30677.0</td>\n",
       "      <td>13133</td>\n",
       "      <td>Watkinsville</td>\n",
       "      <td>Georgia</td>\n",
       "      <td>Solar Hot Water</td>\n",
       "      <td>Residential</td>\n",
       "      <td>2011-06-02</td>\n",
       "      <td>Walton EMC</td>\n",
       "      <td>10.0</td>\n",
       "      <td>25.0</td>\n",
       "      <td>120.0</td>\n",
       "      <td>33.711257</td>\n",
       "      <td>-83.340185</td>\n",
       "    </tr>\n",
       "    <tr>\n",
       "      <th>162</th>\n",
       "      <td>southface_S124</td>\n",
       "      <td>Southface</td>\n",
       "      <td>31328.0</td>\n",
       "      <td>13051</td>\n",
       "      <td>Tybee Island</td>\n",
       "      <td>Georgia</td>\n",
       "      <td>Solar Electric</td>\n",
       "      <td>Residential</td>\n",
       "      <td>2009-02-13</td>\n",
       "      <td>NaN</td>\n",
       "      <td>NaN</td>\n",
       "      <td>NaN</td>\n",
       "      <td>NaN</td>\n",
       "      <td>32.006704</td>\n",
       "      <td>-80.842310</td>\n",
       "    </tr>\n",
       "    <tr>\n",
       "      <th>1831</th>\n",
       "      <td>southface_GPC-24237</td>\n",
       "      <td>Southface</td>\n",
       "      <td>31642.0</td>\n",
       "      <td>13003</td>\n",
       "      <td>Pearson</td>\n",
       "      <td>Georgia</td>\n",
       "      <td>Solar Electric</td>\n",
       "      <td>Utility</td>\n",
       "      <td>2016-05-30</td>\n",
       "      <td>Georgia Power Company</td>\n",
       "      <td>8.0</td>\n",
       "      <td>7.0</td>\n",
       "      <td>176.0</td>\n",
       "      <td>31.188063</td>\n",
       "      <td>-82.794125</td>\n",
       "    </tr>\n",
       "    <tr>\n",
       "      <th>1335</th>\n",
       "      <td>southface_M993</td>\n",
       "      <td>Southface</td>\n",
       "      <td>31804.0</td>\n",
       "      <td>13145</td>\n",
       "      <td>Cataula</td>\n",
       "      <td>Georgia</td>\n",
       "      <td>Solar Hot Water</td>\n",
       "      <td>Residential</td>\n",
       "      <td>2013-01-08</td>\n",
       "      <td>Unknown</td>\n",
       "      <td>3.0</td>\n",
       "      <td>29.0</td>\n",
       "      <td>133.0</td>\n",
       "      <td>32.683231</td>\n",
       "      <td>-84.962355</td>\n",
       "    </tr>\n",
       "    <tr>\n",
       "      <th>246</th>\n",
       "      <td>southface_S179</td>\n",
       "      <td>Southface</td>\n",
       "      <td>30350.0</td>\n",
       "      <td>13121</td>\n",
       "      <td>Atlanta</td>\n",
       "      <td>Georgia</td>\n",
       "      <td>Solar Hot Water</td>\n",
       "      <td>Residential</td>\n",
       "      <td>2009-08-10</td>\n",
       "      <td>Unknown</td>\n",
       "      <td>6.0</td>\n",
       "      <td>40.0</td>\n",
       "      <td>51.0</td>\n",
       "      <td>33.973443</td>\n",
       "      <td>-84.305448</td>\n",
       "    </tr>\n",
       "  </tbody>\n",
       "</table>\n",
       "</div>"
      ],
      "text/plain": [
       "           sea-install-id oiriginal-db      zip   fips          town    state  \\\n",
       "846        southface_M119    Southface  30677.0  13133  Watkinsville  Georgia   \n",
       "162        southface_S124    Southface  31328.0  13051  Tybee Island  Georgia   \n",
       "1831  southface_GPC-24237    Southface  31642.0  13003       Pearson  Georgia   \n",
       "1335       southface_M993    Southface  31804.0  13145       Cataula  Georgia   \n",
       "246        southface_S179    Southface  30350.0  13121       Atlanta  Georgia   \n",
       "\n",
       "          system-type       sector install-date                utility  \\\n",
       "846   Solar Hot Water  Residential   2011-06-02             Walton EMC   \n",
       "162    Solar Electric  Residential   2009-02-13                    NaN   \n",
       "1831   Solar Electric      Utility   2016-05-30  Georgia Power Company   \n",
       "1335  Solar Hot Water  Residential   2013-01-08                Unknown   \n",
       "246   Solar Hot Water  Residential   2009-08-10                Unknown   \n",
       "\n",
       "      federal-cong-dist  state-senate-dist  state-house-dist        lat  \\\n",
       "846                10.0               25.0             120.0  33.711257   \n",
       "162                 NaN                NaN               NaN  32.006704   \n",
       "1831                8.0                7.0             176.0  31.188063   \n",
       "1335                3.0               29.0             133.0  32.683231   \n",
       "246                 6.0               40.0              51.0  33.973443   \n",
       "\n",
       "           long  \n",
       "846  -83.340185  \n",
       "162  -80.842310  \n",
       "1831 -82.794125  \n",
       "1335 -84.962355  \n",
       "246  -84.305448  "
      ]
     },
     "execution_count": 13,
     "metadata": {},
     "output_type": "execute_result"
    }
   ],
   "source": [
    "installs.sample(5)"
   ]
  },
  {
   "cell_type": "code",
   "execution_count": 14,
   "metadata": {},
   "outputs": [
    {
     "data": {
      "text/plain": [
       "(2147, 15)"
      ]
     },
     "execution_count": 14,
     "metadata": {},
     "output_type": "execute_result"
    }
   ],
   "source": [
    "installs.shape"
   ]
  },
  {
   "cell_type": "code",
   "execution_count": 15,
   "metadata": {},
   "outputs": [
    {
     "data": {
      "text/plain": [
       "sea-install-id          0\n",
       "oiriginal-db            0\n",
       "zip                     1\n",
       "fips                    0\n",
       "town                   40\n",
       "state                   0\n",
       "system-type             0\n",
       "sector                  0\n",
       "install-date            0\n",
       "utility              1544\n",
       "federal-cong-dist    1380\n",
       "state-senate-dist    1380\n",
       "state-house-dist     1380\n",
       "lat                    22\n",
       "long                   22\n",
       "dtype: int64"
      ]
     },
     "execution_count": 15,
     "metadata": {},
     "output_type": "execute_result"
    }
   ],
   "source": [
    "installs.isnull().sum()"
   ]
  },
  {
   "cell_type": "code",
   "execution_count": null,
   "metadata": {},
   "outputs": [],
   "source": []
  },
  {
   "cell_type": "markdown",
   "metadata": {},
   "source": [
    "- NaN present in zip, town, lat, utility, federal-cong-dist, state-senate-dist, state-house-dist, lat, and long.\n",
    "- Can't check for duplicated id because of column name.\n",
    "- zip is an integer and not a string"
   ]
  },
  {
   "cell_type": "markdown",
   "metadata": {},
   "source": [
    "## 2.2 County-level Census Data"
   ]
  },
  {
   "cell_type": "code",
   "execution_count": 16,
   "metadata": {},
   "outputs": [
    {
     "name": "stdout",
     "output_type": "stream",
     "text": [
      "<class 'pandas.core.frame.DataFrame'>\n",
      "RangeIndex: 159 entries, 0 to 158\n",
      "Data columns (total 15 columns):\n",
      "fips             159 non-null int64\n",
      " med-income      159 non-null object\n",
      "owner-occ        159 non-null object\n",
      "pop-tot          159 non-null object\n",
      "dem-fem-pct      159 non-null object\n",
      "dem-male-pct     159 non-null object\n",
      "dem-white-pct    159 non-null object\n",
      "dem-baa-pct      159 non-null object\n",
      "dem-aian-pct     159 non-null object\n",
      "dem-a-pct        159 non-null object\n",
      "dem-nhpi-pct     159 non-null object\n",
      "dem-two-pct      159 non-null object\n",
      "dem-hl-pct       159 non-null object\n",
      "dem-vet          159 non-null object\n",
      "dem-hh           159 non-null object\n",
      "dtypes: int64(1), object(14)\n",
      "memory usage: 18.7+ KB\n"
     ]
    }
   ],
   "source": [
    "census.info()"
   ]
  },
  {
   "cell_type": "markdown",
   "metadata": {},
   "source": [
    "- owner-occ,, dem-vet, and all pct columns are objects/strings and not floats\n",
    "- median income, pop-tot, dem-hh, and dem-vet are objects/strings and not integers."
   ]
  },
  {
   "cell_type": "code",
   "execution_count": 17,
   "metadata": {},
   "outputs": [
    {
     "data": {
      "text/html": [
       "<div>\n",
       "<style scoped>\n",
       "    .dataframe tbody tr th:only-of-type {\n",
       "        vertical-align: middle;\n",
       "    }\n",
       "\n",
       "    .dataframe tbody tr th {\n",
       "        vertical-align: top;\n",
       "    }\n",
       "\n",
       "    .dataframe thead th {\n",
       "        text-align: right;\n",
       "    }\n",
       "</style>\n",
       "<table border=\"1\" class=\"dataframe\">\n",
       "  <thead>\n",
       "    <tr style=\"text-align: right;\">\n",
       "      <th></th>\n",
       "      <th>fips</th>\n",
       "      <th>med-income</th>\n",
       "      <th>owner-occ</th>\n",
       "      <th>pop-tot</th>\n",
       "      <th>dem-fem-pct</th>\n",
       "      <th>dem-male-pct</th>\n",
       "      <th>dem-white-pct</th>\n",
       "      <th>dem-baa-pct</th>\n",
       "      <th>dem-aian-pct</th>\n",
       "      <th>dem-a-pct</th>\n",
       "      <th>dem-nhpi-pct</th>\n",
       "      <th>dem-two-pct</th>\n",
       "      <th>dem-hl-pct</th>\n",
       "      <th>dem-vet</th>\n",
       "      <th>dem-hh</th>\n",
       "    </tr>\n",
       "  </thead>\n",
       "  <tbody>\n",
       "    <tr>\n",
       "      <th>70</th>\n",
       "      <td>13143</td>\n",
       "      <td>$42,281</td>\n",
       "      <td>69.70%</td>\n",
       "      <td>29,042</td>\n",
       "      <td>50.10%</td>\n",
       "      <td>49.90%</td>\n",
       "      <td>77.30%</td>\n",
       "      <td>16.90%</td>\n",
       "      <td>0.40%</td>\n",
       "      <td>1.00%</td>\n",
       "      <td>0.10%</td>\n",
       "      <td>1.70%</td>\n",
       "      <td>3.30%</td>\n",
       "      <td>3,490</td>\n",
       "      <td>11,699</td>\n",
       "    </tr>\n",
       "    <tr>\n",
       "      <th>131</th>\n",
       "      <td>13267</td>\n",
       "      <td>$35,578</td>\n",
       "      <td>66.90%</td>\n",
       "      <td>25,092</td>\n",
       "      <td>52.00%</td>\n",
       "      <td>48.00%</td>\n",
       "      <td>57.50%</td>\n",
       "      <td>38.80%</td>\n",
       "      <td>0.20%</td>\n",
       "      <td>0.80%</td>\n",
       "      <td>0</td>\n",
       "      <td>1.00%</td>\n",
       "      <td>2.50%</td>\n",
       "      <td>478</td>\n",
       "      <td>3,368</td>\n",
       "    </tr>\n",
       "    <tr>\n",
       "      <th>2</th>\n",
       "      <td>13005</td>\n",
       "      <td>$37,162</td>\n",
       "      <td>68.60%</td>\n",
       "      <td>11372</td>\n",
       "      <td>50.70%</td>\n",
       "      <td>49.30%</td>\n",
       "      <td>73.10%</td>\n",
       "      <td>16.60%</td>\n",
       "      <td>0.30%</td>\n",
       "      <td>0.60%</td>\n",
       "      <td>0.20%</td>\n",
       "      <td>1.60%</td>\n",
       "      <td>8.70%</td>\n",
       "      <td>559</td>\n",
       "      <td>4715</td>\n",
       "    </tr>\n",
       "    <tr>\n",
       "      <th>24</th>\n",
       "      <td>13051</td>\n",
       "      <td>$47,218</td>\n",
       "      <td>54.60%</td>\n",
       "      <td>289082</td>\n",
       "      <td>51.80%</td>\n",
       "      <td>48.20%</td>\n",
       "      <td>49.00%</td>\n",
       "      <td>40.50%</td>\n",
       "      <td>0.30%</td>\n",
       "      <td>2.90%</td>\n",
       "      <td>0.10%</td>\n",
       "      <td>2.20%</td>\n",
       "      <td>6.30%</td>\n",
       "      <td>24548</td>\n",
       "      <td>104912</td>\n",
       "    </tr>\n",
       "    <tr>\n",
       "      <th>149</th>\n",
       "      <td>13303</td>\n",
       "      <td>$37,417</td>\n",
       "      <td>69.80%</td>\n",
       "      <td>20,457</td>\n",
       "      <td>48.50%</td>\n",
       "      <td>51.50%</td>\n",
       "      <td>71.60%</td>\n",
       "      <td>20.00%</td>\n",
       "      <td>0.60%</td>\n",
       "      <td>0.60%</td>\n",
       "      <td>0.10%</td>\n",
       "      <td>2.00%</td>\n",
       "      <td>6.30%</td>\n",
       "      <td>2,324</td>\n",
       "      <td>10,016</td>\n",
       "    </tr>\n",
       "  </tbody>\n",
       "</table>\n",
       "</div>"
      ],
      "text/plain": [
       "      fips  med-income  owner-occ pop-tot dem-fem-pct dem-male-pct  \\\n",
       "70   13143     $42,281     69.70%  29,042      50.10%       49.90%   \n",
       "131  13267     $35,578     66.90%  25,092      52.00%       48.00%   \n",
       "2    13005     $37,162     68.60%   11372      50.70%       49.30%   \n",
       "24   13051     $47,218     54.60%  289082      51.80%       48.20%   \n",
       "149  13303     $37,417     69.80%  20,457      48.50%       51.50%   \n",
       "\n",
       "    dem-white-pct dem-baa-pct dem-aian-pct dem-a-pct dem-nhpi-pct dem-two-pct  \\\n",
       "70         77.30%      16.90%        0.40%     1.00%        0.10%       1.70%   \n",
       "131        57.50%      38.80%        0.20%     0.80%            0       1.00%   \n",
       "2          73.10%      16.60%        0.30%     0.60%        0.20%       1.60%   \n",
       "24         49.00%      40.50%        0.30%     2.90%        0.10%       2.20%   \n",
       "149        71.60%      20.00%        0.60%     0.60%        0.10%       2.00%   \n",
       "\n",
       "    dem-hl-pct dem-vet  dem-hh  \n",
       "70       3.30%   3,490  11,699  \n",
       "131      2.50%     478   3,368  \n",
       "2        8.70%     559    4715  \n",
       "24       6.30%   24548  104912  \n",
       "149      6.30%   2,324  10,016  "
      ]
     },
     "execution_count": 17,
     "metadata": {},
     "output_type": "execute_result"
    }
   ],
   "source": [
    "census.sample(5)"
   ]
  },
  {
   "cell_type": "code",
   "execution_count": 18,
   "metadata": {},
   "outputs": [
    {
     "data": {
      "text/plain": [
       "fips             0\n",
       " med-income      0\n",
       "owner-occ        0\n",
       "pop-tot          0\n",
       "dem-fem-pct      0\n",
       "dem-male-pct     0\n",
       "dem-white-pct    0\n",
       "dem-baa-pct      0\n",
       "dem-aian-pct     0\n",
       "dem-a-pct        0\n",
       "dem-nhpi-pct     0\n",
       "dem-two-pct      0\n",
       "dem-hl-pct       0\n",
       "dem-vet          0\n",
       "dem-hh           0\n",
       "dtype: int64"
      ]
     },
     "execution_count": 18,
     "metadata": {},
     "output_type": "execute_result"
    }
   ],
   "source": [
    "census.isnull().sum()"
   ]
  },
  {
   "cell_type": "code",
   "execution_count": 19,
   "metadata": {},
   "outputs": [
    {
     "data": {
      "text/plain": [
       "0"
      ]
     },
     "execution_count": 19,
     "metadata": {},
     "output_type": "execute_result"
    }
   ],
   "source": [
    "census.duplicated().sum()"
   ]
  },
  {
   "cell_type": "markdown",
   "metadata": {},
   "source": [
    "## 2.3 County Name-FIPS Map"
   ]
  },
  {
   "cell_type": "code",
   "execution_count": 20,
   "metadata": {},
   "outputs": [
    {
     "name": "stdout",
     "output_type": "stream",
     "text": [
      "<class 'pandas.core.frame.DataFrame'>\n",
      "RangeIndex: 159 entries, 0 to 158\n",
      "Data columns (total 2 columns):\n",
      "fips      159 non-null int64\n",
      "county    159 non-null object\n",
      "dtypes: int64(1), object(1)\n",
      "memory usage: 2.6+ KB\n"
     ]
    }
   ],
   "source": [
    "fips.info()"
   ]
  },
  {
   "cell_type": "markdown",
   "metadata": {},
   "source": [
    "- fips should be a string and not an integer"
   ]
  },
  {
   "cell_type": "code",
   "execution_count": 21,
   "metadata": {},
   "outputs": [
    {
     "data": {
      "text/html": [
       "<div>\n",
       "<style scoped>\n",
       "    .dataframe tbody tr th:only-of-type {\n",
       "        vertical-align: middle;\n",
       "    }\n",
       "\n",
       "    .dataframe tbody tr th {\n",
       "        vertical-align: top;\n",
       "    }\n",
       "\n",
       "    .dataframe thead th {\n",
       "        text-align: right;\n",
       "    }\n",
       "</style>\n",
       "<table border=\"1\" class=\"dataframe\">\n",
       "  <thead>\n",
       "    <tr style=\"text-align: right;\">\n",
       "      <th></th>\n",
       "      <th>fips</th>\n",
       "      <th>county</th>\n",
       "    </tr>\n",
       "  </thead>\n",
       "  <tbody>\n",
       "    <tr>\n",
       "      <th>0</th>\n",
       "      <td>13001</td>\n",
       "      <td>Appling</td>\n",
       "    </tr>\n",
       "    <tr>\n",
       "      <th>1</th>\n",
       "      <td>13003</td>\n",
       "      <td>Atkinson</td>\n",
       "    </tr>\n",
       "    <tr>\n",
       "      <th>2</th>\n",
       "      <td>13005</td>\n",
       "      <td>Bacon</td>\n",
       "    </tr>\n",
       "    <tr>\n",
       "      <th>3</th>\n",
       "      <td>13007</td>\n",
       "      <td>Baker</td>\n",
       "    </tr>\n",
       "    <tr>\n",
       "      <th>4</th>\n",
       "      <td>13009</td>\n",
       "      <td>Baldwin</td>\n",
       "    </tr>\n",
       "  </tbody>\n",
       "</table>\n",
       "</div>"
      ],
      "text/plain": [
       "    fips    county\n",
       "0  13001   Appling\n",
       "1  13003  Atkinson\n",
       "2  13005     Bacon\n",
       "3  13007     Baker\n",
       "4  13009   Baldwin"
      ]
     },
     "execution_count": 21,
     "metadata": {},
     "output_type": "execute_result"
    }
   ],
   "source": [
    "fips.head(5)"
   ]
  },
  {
   "cell_type": "code",
   "execution_count": 22,
   "metadata": {},
   "outputs": [
    {
     "data": {
      "text/plain": [
       "fips      0\n",
       "county    0\n",
       "dtype: int64"
      ]
     },
     "execution_count": 22,
     "metadata": {},
     "output_type": "execute_result"
    }
   ],
   "source": [
    "fips.isnull().sum()"
   ]
  },
  {
   "cell_type": "code",
   "execution_count": 23,
   "metadata": {},
   "outputs": [
    {
     "data": {
      "text/plain": [
       "0"
      ]
     },
     "execution_count": 23,
     "metadata": {},
     "output_type": "execute_result"
    }
   ],
   "source": [
    "fips.duplicated().sum()"
   ]
  },
  {
   "cell_type": "markdown",
   "metadata": {},
   "source": [
    "## 2.4 Zillow Valuation Information"
   ]
  },
  {
   "cell_type": "code",
   "execution_count": 24,
   "metadata": {},
   "outputs": [
    {
     "name": "stdout",
     "output_type": "stream",
     "text": [
      "<class 'pandas.core.frame.DataFrame'>\n",
      "RangeIndex: 159 entries, 0 to 158\n",
      "Data columns (total 3 columns):\n",
      "fips        159 non-null int64\n",
      "med-zhvi    84 non-null object\n",
      "med-zrvi    117 non-null object\n",
      "dtypes: int64(1), object(2)\n",
      "memory usage: 3.8+ KB\n"
     ]
    }
   ],
   "source": [
    "zillow.info()"
   ]
  },
  {
   "cell_type": "code",
   "execution_count": 25,
   "metadata": {},
   "outputs": [
    {
     "data": {
      "text/html": [
       "<div>\n",
       "<style scoped>\n",
       "    .dataframe tbody tr th:only-of-type {\n",
       "        vertical-align: middle;\n",
       "    }\n",
       "\n",
       "    .dataframe tbody tr th {\n",
       "        vertical-align: top;\n",
       "    }\n",
       "\n",
       "    .dataframe thead th {\n",
       "        text-align: right;\n",
       "    }\n",
       "</style>\n",
       "<table border=\"1\" class=\"dataframe\">\n",
       "  <thead>\n",
       "    <tr style=\"text-align: right;\">\n",
       "      <th></th>\n",
       "      <th>fips</th>\n",
       "      <th>med-zhvi</th>\n",
       "      <th>med-zrvi</th>\n",
       "    </tr>\n",
       "  </thead>\n",
       "  <tbody>\n",
       "    <tr>\n",
       "      <th>0</th>\n",
       "      <td>13001</td>\n",
       "      <td>NaN</td>\n",
       "      <td>NaN</td>\n",
       "    </tr>\n",
       "    <tr>\n",
       "      <th>1</th>\n",
       "      <td>13003</td>\n",
       "      <td>NaN</td>\n",
       "      <td>NaN</td>\n",
       "    </tr>\n",
       "    <tr>\n",
       "      <th>2</th>\n",
       "      <td>13005</td>\n",
       "      <td>NaN</td>\n",
       "      <td>NaN</td>\n",
       "    </tr>\n",
       "    <tr>\n",
       "      <th>3</th>\n",
       "      <td>13007</td>\n",
       "      <td>NaN</td>\n",
       "      <td>NaN</td>\n",
       "    </tr>\n",
       "    <tr>\n",
       "      <th>4</th>\n",
       "      <td>13009</td>\n",
       "      <td>$66.08</td>\n",
       "      <td>$0.62</td>\n",
       "    </tr>\n",
       "  </tbody>\n",
       "</table>\n",
       "</div>"
      ],
      "text/plain": [
       "    fips med-zhvi med-zrvi\n",
       "0  13001      NaN      NaN\n",
       "1  13003      NaN      NaN\n",
       "2  13005      NaN      NaN\n",
       "3  13007      NaN      NaN\n",
       "4  13009  $66.08    $0.62 "
      ]
     },
     "execution_count": 25,
     "metadata": {},
     "output_type": "execute_result"
    }
   ],
   "source": [
    "zillow.head(5)"
   ]
  },
  {
   "cell_type": "markdown",
   "metadata": {},
   "source": [
    "- med-zhvi and med-zrvi should both be floats\n",
    "- Multiple NaN values exist for med-zhvi and med-zrvi"
   ]
  },
  {
   "cell_type": "code",
   "execution_count": 26,
   "metadata": {},
   "outputs": [
    {
     "data": {
      "text/plain": [
       "fips         0\n",
       "med-zhvi    75\n",
       "med-zrvi    42\n",
       "dtype: int64"
      ]
     },
     "execution_count": 26,
     "metadata": {},
     "output_type": "execute_result"
    }
   ],
   "source": [
    "zillow.isnull().sum()"
   ]
  },
  {
   "cell_type": "code",
   "execution_count": 27,
   "metadata": {},
   "outputs": [
    {
     "data": {
      "text/plain": [
       "0"
      ]
     },
     "execution_count": 27,
     "metadata": {},
     "output_type": "execute_result"
    }
   ],
   "source": [
    "zillow.duplicated().sum()"
   ]
  },
  {
   "cell_type": "markdown",
   "metadata": {},
   "source": [
    "## 2.5 DSIRE Incentive Counts"
   ]
  },
  {
   "cell_type": "code",
   "execution_count": 28,
   "metadata": {},
   "outputs": [
    {
     "name": "stdout",
     "output_type": "stream",
     "text": [
      "<class 'pandas.core.frame.DataFrame'>\n",
      "RangeIndex: 159 entries, 0 to 158\n",
      "Data columns (total 38 columns):\n",
      "fips                                   159 non-null int64\n",
      "fed-total                              159 non-null int64\n",
      "fed-fin-incent-total                   159 non-null int64\n",
      "fed-fin-incent-corp-deprec             159 non-null int64\n",
      "fed-fin-incent-corp-tax-credit         159 non-null int64\n",
      "fed-fin-incent-corp-tax-deduction      159 non-null int64\n",
      "fed-fin-incent-corp-tax-exemption      159 non-null int64\n",
      "fed-fin-incent-grant-prog              159 non-null int64\n",
      "fed-fin-incent-loan-prog               159 non-null int64\n",
      "fed-fin-incent-pers-tax-credit         159 non-null int64\n",
      "fed-fin-incent-pers-tax-exemption      159 non-null int64\n",
      "fed-reg-policy                         159 non-null int64\n",
      "fed-reg-policy-appeq-eff-stand         159 non-null int64\n",
      "fed-reg-policy-energy-stand-build      159 non-null int64\n",
      "fed-reg-policy-gpp                     159 non-null int64\n",
      "fed-reg-policy-interconn               159 non-null int64\n",
      "fed-tech-res                           159 non-null int64\n",
      "fed-tech-res-energy-analysis           159 non-null int64\n",
      "fed-tech-res-training-info             159 non-null int64\n",
      "state-total                            159 non-null int64\n",
      "state-fin-incent-total                 159 non-null int64\n",
      "state-fin-incent-grant-prog            159 non-null int64\n",
      "state-fin-incent-loan-prog             159 non-null int64\n",
      "state-fin-incent-other                 159 non-null int64\n",
      "state-fin-incent-PACE-fi               159 non-null int64\n",
      "state-fin-incent-perf-based            159 non-null int64\n",
      "state-fin-incent-rebate                159 non-null int64\n",
      "state-fin-incent-sales-tax             159 non-null int64\n",
      "state-reg-policy                       159 non-null int64\n",
      "state-reg-policy-build-energy-code     159 non-null int64\n",
      "state-reg-policy-energy-stand-build    2 non-null float64\n",
      "state-reg-policy-interconn             159 non-null int64\n",
      "state-reg-policy-net-metering          159 non-null int64\n",
      "state-reg-policy-solar-wind-access     159 non-null int64\n",
      "state-tech-res                         159 non-null int64\n",
      "state-tech-res-energy-analysis         159 non-null int64\n",
      "state-tech-res-other                   159 non-null int64\n",
      "state-tech-res-training-info           159 non-null int64\n",
      "dtypes: float64(1), int64(37)\n",
      "memory usage: 47.3 KB\n"
     ]
    }
   ],
   "source": [
    "dsire.info()"
   ]
  },
  {
   "cell_type": "markdown",
   "metadata": {},
   "source": [
    "- Naming issues in columns must be taken care of (- should be replaced with _)\n",
    "- After naming, investigate float for state-reg-policy-energy-stand-build\n",
    "- fips should be string and not integer\n",
    "- state-reg-policy-energy-stand-build looks to be an incomplete column for most observations."
   ]
  },
  {
   "cell_type": "code",
   "execution_count": 30,
   "metadata": {},
   "outputs": [
    {
     "data": {
      "text/html": [
       "<div>\n",
       "<style scoped>\n",
       "    .dataframe tbody tr th:only-of-type {\n",
       "        vertical-align: middle;\n",
       "    }\n",
       "\n",
       "    .dataframe tbody tr th {\n",
       "        vertical-align: top;\n",
       "    }\n",
       "\n",
       "    .dataframe thead th {\n",
       "        text-align: right;\n",
       "    }\n",
       "</style>\n",
       "<table border=\"1\" class=\"dataframe\">\n",
       "  <thead>\n",
       "    <tr style=\"text-align: right;\">\n",
       "      <th></th>\n",
       "      <th>fips</th>\n",
       "      <th>fed-total</th>\n",
       "      <th>fed-fin-incent-total</th>\n",
       "      <th>fed-fin-incent-corp-deprec</th>\n",
       "      <th>fed-fin-incent-corp-tax-credit</th>\n",
       "      <th>fed-fin-incent-corp-tax-deduction</th>\n",
       "      <th>fed-fin-incent-corp-tax-exemption</th>\n",
       "      <th>fed-fin-incent-grant-prog</th>\n",
       "      <th>fed-fin-incent-loan-prog</th>\n",
       "      <th>fed-fin-incent-pers-tax-credit</th>\n",
       "      <th>...</th>\n",
       "      <th>state-reg-policy</th>\n",
       "      <th>state-reg-policy-build-energy-code</th>\n",
       "      <th>state-reg-policy-energy-stand-build</th>\n",
       "      <th>state-reg-policy-interconn</th>\n",
       "      <th>state-reg-policy-net-metering</th>\n",
       "      <th>state-reg-policy-solar-wind-access</th>\n",
       "      <th>state-tech-res</th>\n",
       "      <th>state-tech-res-energy-analysis</th>\n",
       "      <th>state-tech-res-other</th>\n",
       "      <th>state-tech-res-training-info</th>\n",
       "    </tr>\n",
       "  </thead>\n",
       "  <tbody>\n",
       "    <tr>\n",
       "      <th>0</th>\n",
       "      <td>13001</td>\n",
       "      <td>41</td>\n",
       "      <td>24</td>\n",
       "      <td>1</td>\n",
       "      <td>2</td>\n",
       "      <td>1</td>\n",
       "      <td>2</td>\n",
       "      <td>7</td>\n",
       "      <td>8</td>\n",
       "      <td>2</td>\n",
       "      <td>...</td>\n",
       "      <td>4</td>\n",
       "      <td>1</td>\n",
       "      <td>NaN</td>\n",
       "      <td>1</td>\n",
       "      <td>1</td>\n",
       "      <td>1</td>\n",
       "      <td>5</td>\n",
       "      <td>4</td>\n",
       "      <td>0</td>\n",
       "      <td>1</td>\n",
       "    </tr>\n",
       "    <tr>\n",
       "      <th>1</th>\n",
       "      <td>13003</td>\n",
       "      <td>41</td>\n",
       "      <td>24</td>\n",
       "      <td>1</td>\n",
       "      <td>2</td>\n",
       "      <td>1</td>\n",
       "      <td>2</td>\n",
       "      <td>7</td>\n",
       "      <td>8</td>\n",
       "      <td>2</td>\n",
       "      <td>...</td>\n",
       "      <td>4</td>\n",
       "      <td>1</td>\n",
       "      <td>NaN</td>\n",
       "      <td>1</td>\n",
       "      <td>1</td>\n",
       "      <td>1</td>\n",
       "      <td>5</td>\n",
       "      <td>4</td>\n",
       "      <td>0</td>\n",
       "      <td>1</td>\n",
       "    </tr>\n",
       "    <tr>\n",
       "      <th>2</th>\n",
       "      <td>13005</td>\n",
       "      <td>41</td>\n",
       "      <td>24</td>\n",
       "      <td>1</td>\n",
       "      <td>2</td>\n",
       "      <td>1</td>\n",
       "      <td>2</td>\n",
       "      <td>7</td>\n",
       "      <td>8</td>\n",
       "      <td>2</td>\n",
       "      <td>...</td>\n",
       "      <td>4</td>\n",
       "      <td>1</td>\n",
       "      <td>NaN</td>\n",
       "      <td>1</td>\n",
       "      <td>1</td>\n",
       "      <td>1</td>\n",
       "      <td>5</td>\n",
       "      <td>4</td>\n",
       "      <td>0</td>\n",
       "      <td>1</td>\n",
       "    </tr>\n",
       "    <tr>\n",
       "      <th>3</th>\n",
       "      <td>13007</td>\n",
       "      <td>41</td>\n",
       "      <td>24</td>\n",
       "      <td>1</td>\n",
       "      <td>2</td>\n",
       "      <td>1</td>\n",
       "      <td>2</td>\n",
       "      <td>7</td>\n",
       "      <td>8</td>\n",
       "      <td>2</td>\n",
       "      <td>...</td>\n",
       "      <td>4</td>\n",
       "      <td>1</td>\n",
       "      <td>NaN</td>\n",
       "      <td>1</td>\n",
       "      <td>1</td>\n",
       "      <td>1</td>\n",
       "      <td>5</td>\n",
       "      <td>4</td>\n",
       "      <td>0</td>\n",
       "      <td>1</td>\n",
       "    </tr>\n",
       "    <tr>\n",
       "      <th>4</th>\n",
       "      <td>13009</td>\n",
       "      <td>41</td>\n",
       "      <td>24</td>\n",
       "      <td>1</td>\n",
       "      <td>2</td>\n",
       "      <td>1</td>\n",
       "      <td>2</td>\n",
       "      <td>7</td>\n",
       "      <td>8</td>\n",
       "      <td>2</td>\n",
       "      <td>...</td>\n",
       "      <td>4</td>\n",
       "      <td>1</td>\n",
       "      <td>NaN</td>\n",
       "      <td>1</td>\n",
       "      <td>1</td>\n",
       "      <td>1</td>\n",
       "      <td>5</td>\n",
       "      <td>4</td>\n",
       "      <td>0</td>\n",
       "      <td>1</td>\n",
       "    </tr>\n",
       "  </tbody>\n",
       "</table>\n",
       "<p>5 rows × 38 columns</p>\n",
       "</div>"
      ],
      "text/plain": [
       "    fips  fed-total  fed-fin-incent-total  fed-fin-incent-corp-deprec  \\\n",
       "0  13001         41                    24                           1   \n",
       "1  13003         41                    24                           1   \n",
       "2  13005         41                    24                           1   \n",
       "3  13007         41                    24                           1   \n",
       "4  13009         41                    24                           1   \n",
       "\n",
       "   fed-fin-incent-corp-tax-credit  fed-fin-incent-corp-tax-deduction  \\\n",
       "0                               2                                  1   \n",
       "1                               2                                  1   \n",
       "2                               2                                  1   \n",
       "3                               2                                  1   \n",
       "4                               2                                  1   \n",
       "\n",
       "   fed-fin-incent-corp-tax-exemption  fed-fin-incent-grant-prog  \\\n",
       "0                                  2                          7   \n",
       "1                                  2                          7   \n",
       "2                                  2                          7   \n",
       "3                                  2                          7   \n",
       "4                                  2                          7   \n",
       "\n",
       "   fed-fin-incent-loan-prog  fed-fin-incent-pers-tax-credit  ...  \\\n",
       "0                         8                               2  ...   \n",
       "1                         8                               2  ...   \n",
       "2                         8                               2  ...   \n",
       "3                         8                               2  ...   \n",
       "4                         8                               2  ...   \n",
       "\n",
       "   state-reg-policy  state-reg-policy-build-energy-code  \\\n",
       "0                 4                                   1   \n",
       "1                 4                                   1   \n",
       "2                 4                                   1   \n",
       "3                 4                                   1   \n",
       "4                 4                                   1   \n",
       "\n",
       "   state-reg-policy-energy-stand-build  state-reg-policy-interconn  \\\n",
       "0                                  NaN                           1   \n",
       "1                                  NaN                           1   \n",
       "2                                  NaN                           1   \n",
       "3                                  NaN                           1   \n",
       "4                                  NaN                           1   \n",
       "\n",
       "   state-reg-policy-net-metering  state-reg-policy-solar-wind-access  \\\n",
       "0                              1                                   1   \n",
       "1                              1                                   1   \n",
       "2                              1                                   1   \n",
       "3                              1                                   1   \n",
       "4                              1                                   1   \n",
       "\n",
       "   state-tech-res  state-tech-res-energy-analysis  state-tech-res-other  \\\n",
       "0               5                               4                     0   \n",
       "1               5                               4                     0   \n",
       "2               5                               4                     0   \n",
       "3               5                               4                     0   \n",
       "4               5                               4                     0   \n",
       "\n",
       "   state-tech-res-training-info  \n",
       "0                             1  \n",
       "1                             1  \n",
       "2                             1  \n",
       "3                             1  \n",
       "4                             1  \n",
       "\n",
       "[5 rows x 38 columns]"
      ]
     },
     "execution_count": 30,
     "metadata": {},
     "output_type": "execute_result"
    }
   ],
   "source": [
    "dsire.head(5)"
   ]
  },
  {
   "cell_type": "markdown",
   "metadata": {},
   "source": [
    "## 2.6 Solar Suitability"
   ]
  },
  {
   "cell_type": "code",
   "execution_count": 31,
   "metadata": {},
   "outputs": [
    {
     "name": "stdout",
     "output_type": "stream",
     "text": [
      "<class 'pandas.core.frame.DataFrame'>\n",
      "RangeIndex: 712 entries, 0 to 711\n",
      "Data columns (total 4 columns):\n",
      "zip             712 non-null int64\n",
      "locale          712 non-null object\n",
      "nbld            702 non-null float64\n",
      "pct-suitable    712 non-null float64\n",
      "dtypes: float64(2), int64(1), object(1)\n",
      "memory usage: 22.3+ KB\n"
     ]
    }
   ],
   "source": [
    "suit.info()"
   ]
  },
  {
   "cell_type": "code",
   "execution_count": 32,
   "metadata": {},
   "outputs": [
    {
     "data": {
      "text/html": [
       "<div>\n",
       "<style scoped>\n",
       "    .dataframe tbody tr th:only-of-type {\n",
       "        vertical-align: middle;\n",
       "    }\n",
       "\n",
       "    .dataframe tbody tr th {\n",
       "        vertical-align: top;\n",
       "    }\n",
       "\n",
       "    .dataframe thead th {\n",
       "        text-align: right;\n",
       "    }\n",
       "</style>\n",
       "<table border=\"1\" class=\"dataframe\">\n",
       "  <thead>\n",
       "    <tr style=\"text-align: right;\">\n",
       "      <th></th>\n",
       "      <th>zip</th>\n",
       "      <th>locale</th>\n",
       "      <th>nbld</th>\n",
       "      <th>pct-suitable</th>\n",
       "    </tr>\n",
       "  </thead>\n",
       "  <tbody>\n",
       "    <tr>\n",
       "      <th>0</th>\n",
       "      <td>30002</td>\n",
       "      <td>Suburb Large</td>\n",
       "      <td>1607.0</td>\n",
       "      <td>0.634723</td>\n",
       "    </tr>\n",
       "    <tr>\n",
       "      <th>1</th>\n",
       "      <td>30004</td>\n",
       "      <td>Suburb Large</td>\n",
       "      <td>13273.0</td>\n",
       "      <td>0.820359</td>\n",
       "    </tr>\n",
       "    <tr>\n",
       "      <th>2</th>\n",
       "      <td>30005</td>\n",
       "      <td>Suburb Large</td>\n",
       "      <td>8411.0</td>\n",
       "      <td>0.841822</td>\n",
       "    </tr>\n",
       "    <tr>\n",
       "      <th>3</th>\n",
       "      <td>30008</td>\n",
       "      <td>Suburb Large</td>\n",
       "      <td>5849.0</td>\n",
       "      <td>0.819148</td>\n",
       "    </tr>\n",
       "    <tr>\n",
       "      <th>4</th>\n",
       "      <td>30009</td>\n",
       "      <td>Suburb Large</td>\n",
       "      <td>3358.0</td>\n",
       "      <td>0.824698</td>\n",
       "    </tr>\n",
       "  </tbody>\n",
       "</table>\n",
       "</div>"
      ],
      "text/plain": [
       "     zip        locale     nbld  pct-suitable\n",
       "0  30002  Suburb Large   1607.0      0.634723\n",
       "1  30004  Suburb Large  13273.0      0.820359\n",
       "2  30005  Suburb Large   8411.0      0.841822\n",
       "3  30008  Suburb Large   5849.0      0.819148\n",
       "4  30009  Suburb Large   3358.0      0.824698"
      ]
     },
     "execution_count": 32,
     "metadata": {},
     "output_type": "execute_result"
    }
   ],
   "source": [
    "suit.head(5)"
   ]
  },
  {
   "cell_type": "code",
   "execution_count": 33,
   "metadata": {},
   "outputs": [
    {
     "data": {
      "text/plain": [
       "zip              0\n",
       "locale           0\n",
       "nbld            10\n",
       "pct-suitable     0\n",
       "dtype: int64"
      ]
     },
     "execution_count": 33,
     "metadata": {},
     "output_type": "execute_result"
    }
   ],
   "source": [
    "suit.isnull().sum()"
   ]
  },
  {
   "cell_type": "code",
   "execution_count": 34,
   "metadata": {},
   "outputs": [
    {
     "data": {
      "text/plain": [
       "0"
      ]
     },
     "execution_count": 34,
     "metadata": {},
     "output_type": "execute_result"
    }
   ],
   "source": [
    "suit.duplicated().sum()"
   ]
  },
  {
   "cell_type": "markdown",
   "metadata": {},
   "source": [
    "## 2.7 Utility List and Ownership Type"
   ]
  },
  {
   "cell_type": "code",
   "execution_count": 35,
   "metadata": {},
   "outputs": [
    {
     "name": "stdout",
     "output_type": "stream",
     "text": [
      "<class 'pandas.core.frame.DataFrame'>\n",
      "RangeIndex: 74 entries, 0 to 73\n",
      "Data columns (total 3 columns):\n",
      "utility-id    74 non-null object\n",
      "name          74 non-null object\n",
      "ownership     74 non-null object\n",
      "dtypes: object(3)\n",
      "memory usage: 1.8+ KB\n"
     ]
    }
   ],
   "source": [
    "util.info()"
   ]
  },
  {
   "cell_type": "code",
   "execution_count": 36,
   "metadata": {},
   "outputs": [
    {
     "data": {
      "text/html": [
       "<div>\n",
       "<style scoped>\n",
       "    .dataframe tbody tr th:only-of-type {\n",
       "        vertical-align: middle;\n",
       "    }\n",
       "\n",
       "    .dataframe tbody tr th {\n",
       "        vertical-align: top;\n",
       "    }\n",
       "\n",
       "    .dataframe thead th {\n",
       "        text-align: right;\n",
       "    }\n",
       "</style>\n",
       "<table border=\"1\" class=\"dataframe\">\n",
       "  <thead>\n",
       "    <tr style=\"text-align: right;\">\n",
       "      <th></th>\n",
       "      <th>utility-id</th>\n",
       "      <th>name</th>\n",
       "      <th>ownership</th>\n",
       "    </tr>\n",
       "  </thead>\n",
       "  <tbody>\n",
       "    <tr>\n",
       "      <th>0</th>\n",
       "      <td>sea-util-1</td>\n",
       "      <td>Albany Water Gas &amp; Light Comm</td>\n",
       "      <td>Municipal</td>\n",
       "    </tr>\n",
       "    <tr>\n",
       "      <th>1</th>\n",
       "      <td>sea-util-2</td>\n",
       "      <td>Altamaha Electric Member Corp</td>\n",
       "      <td>Cooperative</td>\n",
       "    </tr>\n",
       "    <tr>\n",
       "      <th>2</th>\n",
       "      <td>sea-util-3</td>\n",
       "      <td>Amicalola Electric Member Corp</td>\n",
       "      <td>Cooperative</td>\n",
       "    </tr>\n",
       "    <tr>\n",
       "      <th>3</th>\n",
       "      <td>sea-util-4</td>\n",
       "      <td>Blue Ridge Mountain EMC - (GA)</td>\n",
       "      <td>Cooperative</td>\n",
       "    </tr>\n",
       "    <tr>\n",
       "      <th>4</th>\n",
       "      <td>sea-util-5</td>\n",
       "      <td>Canoochee Electric Member Corp</td>\n",
       "      <td>Cooperative</td>\n",
       "    </tr>\n",
       "  </tbody>\n",
       "</table>\n",
       "</div>"
      ],
      "text/plain": [
       "   utility-id                            name    ownership\n",
       "0  sea-util-1   Albany Water Gas & Light Comm    Municipal\n",
       "1  sea-util-2   Altamaha Electric Member Corp  Cooperative\n",
       "2  sea-util-3  Amicalola Electric Member Corp  Cooperative\n",
       "3  sea-util-4  Blue Ridge Mountain EMC - (GA)  Cooperative\n",
       "4  sea-util-5  Canoochee Electric Member Corp  Cooperative"
      ]
     },
     "execution_count": 36,
     "metadata": {},
     "output_type": "execute_result"
    }
   ],
   "source": [
    "util.head(5)"
   ]
  },
  {
   "cell_type": "markdown",
   "metadata": {},
   "source": [
    "- Need to modify utility-id column heading"
   ]
  },
  {
   "cell_type": "markdown",
   "metadata": {},
   "source": [
    "## 2.8 Utility Rates"
   ]
  },
  {
   "cell_type": "code",
   "execution_count": 37,
   "metadata": {},
   "outputs": [
    {
     "name": "stdout",
     "output_type": "stream",
     "text": [
      "<class 'pandas.core.frame.DataFrame'>\n",
      "RangeIndex: 2000 entries, 0 to 1999\n",
      "Data columns (total 8 columns):\n",
      "sea-rate-id     2000 non-null object\n",
      "year            2000 non-null int64\n",
      "zip             2000 non-null int64\n",
      "utility-id      2000 non-null object\n",
      "service-type    2000 non-null object\n",
      "comm-rate       2000 non-null float64\n",
      "ind-rate        2000 non-null float64\n",
      "res-rate        2000 non-null float64\n",
      "dtypes: float64(3), int64(2), object(3)\n",
      "memory usage: 125.1+ KB\n"
     ]
    }
   ],
   "source": [
    "util_rates.info()"
   ]
  },
  {
   "cell_type": "code",
   "execution_count": 38,
   "metadata": {},
   "outputs": [
    {
     "data": {
      "text/html": [
       "<div>\n",
       "<style scoped>\n",
       "    .dataframe tbody tr th:only-of-type {\n",
       "        vertical-align: middle;\n",
       "    }\n",
       "\n",
       "    .dataframe tbody tr th {\n",
       "        vertical-align: top;\n",
       "    }\n",
       "\n",
       "    .dataframe thead th {\n",
       "        text-align: right;\n",
       "    }\n",
       "</style>\n",
       "<table border=\"1\" class=\"dataframe\">\n",
       "  <thead>\n",
       "    <tr style=\"text-align: right;\">\n",
       "      <th></th>\n",
       "      <th>sea-rate-id</th>\n",
       "      <th>year</th>\n",
       "      <th>zip</th>\n",
       "      <th>utility-id</th>\n",
       "      <th>service-type</th>\n",
       "      <th>comm-rate</th>\n",
       "      <th>ind-rate</th>\n",
       "      <th>res-rate</th>\n",
       "    </tr>\n",
       "  </thead>\n",
       "  <tbody>\n",
       "    <tr>\n",
       "      <th>0</th>\n",
       "      <td>sea-util-1-rate-31702</td>\n",
       "      <td>2015</td>\n",
       "      <td>31702</td>\n",
       "      <td>sea-util-1</td>\n",
       "      <td>Bundled</td>\n",
       "      <td>0.105766</td>\n",
       "      <td>0.0</td>\n",
       "      <td>0.108669</td>\n",
       "    </tr>\n",
       "    <tr>\n",
       "      <th>1</th>\n",
       "      <td>sea-util-1-rate-31703</td>\n",
       "      <td>2015</td>\n",
       "      <td>31703</td>\n",
       "      <td>sea-util-1</td>\n",
       "      <td>Bundled</td>\n",
       "      <td>0.105766</td>\n",
       "      <td>0.0</td>\n",
       "      <td>0.108669</td>\n",
       "    </tr>\n",
       "    <tr>\n",
       "      <th>2</th>\n",
       "      <td>sea-util-1-rate-31706</td>\n",
       "      <td>2015</td>\n",
       "      <td>31706</td>\n",
       "      <td>sea-util-1</td>\n",
       "      <td>Bundled</td>\n",
       "      <td>0.105766</td>\n",
       "      <td>0.0</td>\n",
       "      <td>0.108669</td>\n",
       "    </tr>\n",
       "    <tr>\n",
       "      <th>3</th>\n",
       "      <td>sea-util-1-rate-31705</td>\n",
       "      <td>2015</td>\n",
       "      <td>31705</td>\n",
       "      <td>sea-util-1</td>\n",
       "      <td>Bundled</td>\n",
       "      <td>0.105766</td>\n",
       "      <td>0.0</td>\n",
       "      <td>0.108669</td>\n",
       "    </tr>\n",
       "    <tr>\n",
       "      <th>4</th>\n",
       "      <td>sea-util-1-rate-31701</td>\n",
       "      <td>2015</td>\n",
       "      <td>31701</td>\n",
       "      <td>sea-util-1</td>\n",
       "      <td>Bundled</td>\n",
       "      <td>0.105766</td>\n",
       "      <td>0.0</td>\n",
       "      <td>0.108669</td>\n",
       "    </tr>\n",
       "  </tbody>\n",
       "</table>\n",
       "</div>"
      ],
      "text/plain": [
       "             sea-rate-id  year    zip  utility-id service-type  comm-rate  \\\n",
       "0  sea-util-1-rate-31702  2015  31702  sea-util-1      Bundled   0.105766   \n",
       "1  sea-util-1-rate-31703  2015  31703  sea-util-1      Bundled   0.105766   \n",
       "2  sea-util-1-rate-31706  2015  31706  sea-util-1      Bundled   0.105766   \n",
       "3  sea-util-1-rate-31705  2015  31705  sea-util-1      Bundled   0.105766   \n",
       "4  sea-util-1-rate-31701  2015  31701  sea-util-1      Bundled   0.105766   \n",
       "\n",
       "   ind-rate  res-rate  \n",
       "0       0.0  0.108669  \n",
       "1       0.0  0.108669  \n",
       "2       0.0  0.108669  \n",
       "3       0.0  0.108669  \n",
       "4       0.0  0.108669  "
      ]
     },
     "execution_count": 38,
     "metadata": {},
     "output_type": "execute_result"
    }
   ],
   "source": [
    "util_rates.head(5)"
   ]
  },
  {
   "cell_type": "markdown",
   "metadata": {},
   "source": [
    "- zip is integer and not string\n",
    "- Need to modify column name for sea-rate-id, utlity-id, service-type, comm-rate, ind-rate, and res-rate"
   ]
  },
  {
   "cell_type": "markdown",
   "metadata": {},
   "source": [
    "## 2.9 Zipcode Table"
   ]
  },
  {
   "cell_type": "code",
   "execution_count": 39,
   "metadata": {},
   "outputs": [
    {
     "name": "stdout",
     "output_type": "stream",
     "text": [
      "<class 'pandas.core.frame.DataFrame'>\n",
      "RangeIndex: 13051 entries, 0 to 13050\n",
      "Data columns (total 4 columns):\n",
      "sea-zip-id    13051 non-null object\n",
      "zip           13051 non-null int64\n",
      "fips          13051 non-null int64\n",
      "year          13051 non-null int64\n",
      "dtypes: int64(3), object(1)\n",
      "memory usage: 407.9+ KB\n"
     ]
    }
   ],
   "source": [
    "zipcode.info()"
   ]
  },
  {
   "cell_type": "code",
   "execution_count": 40,
   "metadata": {},
   "outputs": [
    {
     "data": {
      "text/html": [
       "<div>\n",
       "<style scoped>\n",
       "    .dataframe tbody tr th:only-of-type {\n",
       "        vertical-align: middle;\n",
       "    }\n",
       "\n",
       "    .dataframe tbody tr th {\n",
       "        vertical-align: top;\n",
       "    }\n",
       "\n",
       "    .dataframe thead th {\n",
       "        text-align: right;\n",
       "    }\n",
       "</style>\n",
       "<table border=\"1\" class=\"dataframe\">\n",
       "  <thead>\n",
       "    <tr style=\"text-align: right;\">\n",
       "      <th></th>\n",
       "      <th>sea-zip-id</th>\n",
       "      <th>zip</th>\n",
       "      <th>fips</th>\n",
       "      <th>year</th>\n",
       "    </tr>\n",
       "  </thead>\n",
       "  <tbody>\n",
       "    <tr>\n",
       "      <th>0</th>\n",
       "      <td>zip-2018-1</td>\n",
       "      <td>31557</td>\n",
       "      <td>13001</td>\n",
       "      <td>2018</td>\n",
       "    </tr>\n",
       "    <tr>\n",
       "      <th>1</th>\n",
       "      <td>zip-2018-2</td>\n",
       "      <td>31513</td>\n",
       "      <td>13001</td>\n",
       "      <td>2018</td>\n",
       "    </tr>\n",
       "    <tr>\n",
       "      <th>2</th>\n",
       "      <td>zip-2018-3</td>\n",
       "      <td>31518</td>\n",
       "      <td>13001</td>\n",
       "      <td>2018</td>\n",
       "    </tr>\n",
       "    <tr>\n",
       "      <th>3</th>\n",
       "      <td>zip-2018-4</td>\n",
       "      <td>31539</td>\n",
       "      <td>13001</td>\n",
       "      <td>2018</td>\n",
       "    </tr>\n",
       "    <tr>\n",
       "      <th>4</th>\n",
       "      <td>zip-2018-5</td>\n",
       "      <td>31560</td>\n",
       "      <td>13001</td>\n",
       "      <td>2018</td>\n",
       "    </tr>\n",
       "  </tbody>\n",
       "</table>\n",
       "</div>"
      ],
      "text/plain": [
       "   sea-zip-id    zip   fips  year\n",
       "0  zip-2018-1  31557  13001  2018\n",
       "1  zip-2018-2  31513  13001  2018\n",
       "2  zip-2018-3  31518  13001  2018\n",
       "3  zip-2018-4  31539  13001  2018\n",
       "4  zip-2018-5  31560  13001  2018"
      ]
     },
     "execution_count": 40,
     "metadata": {},
     "output_type": "execute_result"
    }
   ],
   "source": [
    "zipcode.head(5)"
   ]
  },
  {
   "cell_type": "markdown",
   "metadata": {},
   "source": [
    "- zip and fips are integers and not strings\n",
    "- sea-zip-id needs to be renamed"
   ]
  },
  {
   "cell_type": "markdown",
   "metadata": {},
   "source": [
    "# 3 Data Cleaning\n",
    "\n",
    "## 3.1 Copy All Dataframes\n",
    "\n",
    "### 3.1.1 Define\n",
    "Copy all dataframes for cleaning purposes.\n",
    "\n",
    "#### 3.1.1.2 Code"
   ]
  },
  {
   "cell_type": "code",
   "execution_count": 41,
   "metadata": {},
   "outputs": [],
   "source": [
    "installs_clean = installs.copy()\n",
    "census_clean = census.copy()\n",
    "fips_clean = fips.copy()\n",
    "zillow_clean = zillow.copy()\n",
    "dsire_clean = dsire.copy()\n",
    "suit_clean = suit.copy()\n",
    "util_clean = util.copy()\n",
    "util_rates_clean = util_rates.copy()\n",
    "zipcode_clean = zipcode.copy()"
   ]
  },
  {
   "cell_type": "markdown",
   "metadata": {},
   "source": [
    "#### 3.1.1.3 Test"
   ]
  },
  {
   "cell_type": "code",
   "execution_count": 42,
   "metadata": {},
   "outputs": [
    {
     "name": "stdout",
     "output_type": "stream",
     "text": [
      "<class 'pandas.core.frame.DataFrame'>\n",
      "RangeIndex: 2147 entries, 0 to 2146\n",
      "Data columns (total 15 columns):\n",
      "sea-install-id       2147 non-null object\n",
      "oiriginal-db         2147 non-null object\n",
      "zip                  2146 non-null float64\n",
      "fips                 2147 non-null int64\n",
      "town                 2107 non-null object\n",
      "state                2147 non-null object\n",
      "system-type          2147 non-null object\n",
      "sector               2147 non-null object\n",
      "install-date         2147 non-null object\n",
      "utility              603 non-null object\n",
      "federal-cong-dist    767 non-null float64\n",
      "state-senate-dist    767 non-null float64\n",
      "state-house-dist     767 non-null float64\n",
      "lat                  2125 non-null float64\n",
      "long                 2125 non-null float64\n",
      "dtypes: float64(6), int64(1), object(8)\n",
      "memory usage: 251.7+ KB\n"
     ]
    }
   ],
   "source": [
    "installs_clean.info()"
   ]
  },
  {
   "cell_type": "code",
   "execution_count": 43,
   "metadata": {},
   "outputs": [
    {
     "name": "stdout",
     "output_type": "stream",
     "text": [
      "<class 'pandas.core.frame.DataFrame'>\n",
      "RangeIndex: 159 entries, 0 to 158\n",
      "Data columns (total 15 columns):\n",
      "fips             159 non-null int64\n",
      " med-income      159 non-null object\n",
      "owner-occ        159 non-null object\n",
      "pop-tot          159 non-null object\n",
      "dem-fem-pct      159 non-null object\n",
      "dem-male-pct     159 non-null object\n",
      "dem-white-pct    159 non-null object\n",
      "dem-baa-pct      159 non-null object\n",
      "dem-aian-pct     159 non-null object\n",
      "dem-a-pct        159 non-null object\n",
      "dem-nhpi-pct     159 non-null object\n",
      "dem-two-pct      159 non-null object\n",
      "dem-hl-pct       159 non-null object\n",
      "dem-vet          159 non-null object\n",
      "dem-hh           159 non-null object\n",
      "dtypes: int64(1), object(14)\n",
      "memory usage: 18.7+ KB\n"
     ]
    }
   ],
   "source": [
    "census_clean.info()"
   ]
  },
  {
   "cell_type": "code",
   "execution_count": 44,
   "metadata": {},
   "outputs": [
    {
     "name": "stdout",
     "output_type": "stream",
     "text": [
      "<class 'pandas.core.frame.DataFrame'>\n",
      "RangeIndex: 159 entries, 0 to 158\n",
      "Data columns (total 2 columns):\n",
      "fips      159 non-null int64\n",
      "county    159 non-null object\n",
      "dtypes: int64(1), object(1)\n",
      "memory usage: 2.6+ KB\n"
     ]
    }
   ],
   "source": [
    "fips_clean.info()"
   ]
  },
  {
   "cell_type": "code",
   "execution_count": 45,
   "metadata": {},
   "outputs": [
    {
     "name": "stdout",
     "output_type": "stream",
     "text": [
      "<class 'pandas.core.frame.DataFrame'>\n",
      "RangeIndex: 159 entries, 0 to 158\n",
      "Data columns (total 3 columns):\n",
      "fips        159 non-null int64\n",
      "med-zhvi    84 non-null object\n",
      "med-zrvi    117 non-null object\n",
      "dtypes: int64(1), object(2)\n",
      "memory usage: 3.8+ KB\n"
     ]
    }
   ],
   "source": [
    "zillow_clean.info()"
   ]
  },
  {
   "cell_type": "code",
   "execution_count": 46,
   "metadata": {},
   "outputs": [
    {
     "name": "stdout",
     "output_type": "stream",
     "text": [
      "<class 'pandas.core.frame.DataFrame'>\n",
      "RangeIndex: 159 entries, 0 to 158\n",
      "Data columns (total 38 columns):\n",
      "fips                                   159 non-null int64\n",
      "fed-total                              159 non-null int64\n",
      "fed-fin-incent-total                   159 non-null int64\n",
      "fed-fin-incent-corp-deprec             159 non-null int64\n",
      "fed-fin-incent-corp-tax-credit         159 non-null int64\n",
      "fed-fin-incent-corp-tax-deduction      159 non-null int64\n",
      "fed-fin-incent-corp-tax-exemption      159 non-null int64\n",
      "fed-fin-incent-grant-prog              159 non-null int64\n",
      "fed-fin-incent-loan-prog               159 non-null int64\n",
      "fed-fin-incent-pers-tax-credit         159 non-null int64\n",
      "fed-fin-incent-pers-tax-exemption      159 non-null int64\n",
      "fed-reg-policy                         159 non-null int64\n",
      "fed-reg-policy-appeq-eff-stand         159 non-null int64\n",
      "fed-reg-policy-energy-stand-build      159 non-null int64\n",
      "fed-reg-policy-gpp                     159 non-null int64\n",
      "fed-reg-policy-interconn               159 non-null int64\n",
      "fed-tech-res                           159 non-null int64\n",
      "fed-tech-res-energy-analysis           159 non-null int64\n",
      "fed-tech-res-training-info             159 non-null int64\n",
      "state-total                            159 non-null int64\n",
      "state-fin-incent-total                 159 non-null int64\n",
      "state-fin-incent-grant-prog            159 non-null int64\n",
      "state-fin-incent-loan-prog             159 non-null int64\n",
      "state-fin-incent-other                 159 non-null int64\n",
      "state-fin-incent-PACE-fi               159 non-null int64\n",
      "state-fin-incent-perf-based            159 non-null int64\n",
      "state-fin-incent-rebate                159 non-null int64\n",
      "state-fin-incent-sales-tax             159 non-null int64\n",
      "state-reg-policy                       159 non-null int64\n",
      "state-reg-policy-build-energy-code     159 non-null int64\n",
      "state-reg-policy-energy-stand-build    2 non-null float64\n",
      "state-reg-policy-interconn             159 non-null int64\n",
      "state-reg-policy-net-metering          159 non-null int64\n",
      "state-reg-policy-solar-wind-access     159 non-null int64\n",
      "state-tech-res                         159 non-null int64\n",
      "state-tech-res-energy-analysis         159 non-null int64\n",
      "state-tech-res-other                   159 non-null int64\n",
      "state-tech-res-training-info           159 non-null int64\n",
      "dtypes: float64(1), int64(37)\n",
      "memory usage: 47.3 KB\n"
     ]
    }
   ],
   "source": [
    "dsire_clean.info()"
   ]
  },
  {
   "cell_type": "code",
   "execution_count": 47,
   "metadata": {},
   "outputs": [
    {
     "name": "stdout",
     "output_type": "stream",
     "text": [
      "<class 'pandas.core.frame.DataFrame'>\n",
      "RangeIndex: 712 entries, 0 to 711\n",
      "Data columns (total 4 columns):\n",
      "zip             712 non-null int64\n",
      "locale          712 non-null object\n",
      "nbld            702 non-null float64\n",
      "pct-suitable    712 non-null float64\n",
      "dtypes: float64(2), int64(1), object(1)\n",
      "memory usage: 22.3+ KB\n"
     ]
    }
   ],
   "source": [
    "suit_clean.info()"
   ]
  },
  {
   "cell_type": "code",
   "execution_count": 48,
   "metadata": {},
   "outputs": [
    {
     "name": "stdout",
     "output_type": "stream",
     "text": [
      "<class 'pandas.core.frame.DataFrame'>\n",
      "RangeIndex: 74 entries, 0 to 73\n",
      "Data columns (total 3 columns):\n",
      "utility-id    74 non-null object\n",
      "name          74 non-null object\n",
      "ownership     74 non-null object\n",
      "dtypes: object(3)\n",
      "memory usage: 1.8+ KB\n"
     ]
    }
   ],
   "source": [
    "util_clean.info()"
   ]
  },
  {
   "cell_type": "code",
   "execution_count": 49,
   "metadata": {},
   "outputs": [
    {
     "name": "stdout",
     "output_type": "stream",
     "text": [
      "<class 'pandas.core.frame.DataFrame'>\n",
      "RangeIndex: 2000 entries, 0 to 1999\n",
      "Data columns (total 8 columns):\n",
      "sea-rate-id     2000 non-null object\n",
      "year            2000 non-null int64\n",
      "zip             2000 non-null int64\n",
      "utility-id      2000 non-null object\n",
      "service-type    2000 non-null object\n",
      "comm-rate       2000 non-null float64\n",
      "ind-rate        2000 non-null float64\n",
      "res-rate        2000 non-null float64\n",
      "dtypes: float64(3), int64(2), object(3)\n",
      "memory usage: 125.1+ KB\n"
     ]
    }
   ],
   "source": [
    "util_rates_clean.info()"
   ]
  },
  {
   "cell_type": "code",
   "execution_count": 50,
   "metadata": {},
   "outputs": [
    {
     "name": "stdout",
     "output_type": "stream",
     "text": [
      "<class 'pandas.core.frame.DataFrame'>\n",
      "RangeIndex: 13051 entries, 0 to 13050\n",
      "Data columns (total 4 columns):\n",
      "sea-zip-id    13051 non-null object\n",
      "zip           13051 non-null int64\n",
      "fips          13051 non-null int64\n",
      "year          13051 non-null int64\n",
      "dtypes: int64(3), object(1)\n",
      "memory usage: 407.9+ KB\n"
     ]
    }
   ],
   "source": [
    "zipcode_clean.info()"
   ]
  },
  {
   "cell_type": "markdown",
   "metadata": {},
   "source": [
    "## 3.2 Installations\n",
    "\n",
    "Installations\n",
    "\n",
    "- install-date is not in datetime format\n",
    "- lat and long are not strings\n",
    "- fips is not a string\n",
    "- error in spelling of original database column\n",
    "- NaN present in zip, town, lat, utility, federal-cong-dist, state-senate-dist, state-house-dist, lat, and long.\n",
    "- Can't check for duplicated id because of column name.\n",
    "- zip is an integer and not a string\n",
    "- Remove duplicates of sea_install_id\n",
    "\n",
    "### 3.2.1 Rename Columns\n",
    "#### 3.2.1.1 Define\n",
    "Rename all columns so that hyphens are replaced with underscores so that future codes can be run successfully.\n",
    "\n",
    "#### 3.2.1.2 Code"
   ]
  },
  {
   "cell_type": "code",
   "execution_count": 51,
   "metadata": {},
   "outputs": [],
   "source": [
    "installs_clean = installs_clean.rename(columns={\"sea-install-id\": \"sea_install_id\", \"oiriginal-db\": \"original_db\", \"system-type\": \"system_type\", \"install-date\": \"install_date\", \"federal-cong-dist\": \"fed_congressional_district\", \"state-senate-dist\": \"state_senate_district\", \"state-house-dist\": \"state_house_district\"})"
   ]
  },
  {
   "cell_type": "code",
   "execution_count": 52,
   "metadata": {},
   "outputs": [
    {
     "data": {
      "text/html": [
       "<div>\n",
       "<style scoped>\n",
       "    .dataframe tbody tr th:only-of-type {\n",
       "        vertical-align: middle;\n",
       "    }\n",
       "\n",
       "    .dataframe tbody tr th {\n",
       "        vertical-align: top;\n",
       "    }\n",
       "\n",
       "    .dataframe thead th {\n",
       "        text-align: right;\n",
       "    }\n",
       "</style>\n",
       "<table border=\"1\" class=\"dataframe\">\n",
       "  <thead>\n",
       "    <tr style=\"text-align: right;\">\n",
       "      <th></th>\n",
       "      <th>sea_install_id</th>\n",
       "      <th>original_db</th>\n",
       "      <th>zip</th>\n",
       "      <th>fips</th>\n",
       "      <th>town</th>\n",
       "      <th>state</th>\n",
       "      <th>system_type</th>\n",
       "      <th>sector</th>\n",
       "      <th>install_date</th>\n",
       "      <th>utility</th>\n",
       "      <th>fed_congressional_district</th>\n",
       "      <th>state_senate_district</th>\n",
       "      <th>state_house_district</th>\n",
       "      <th>lat</th>\n",
       "      <th>long</th>\n",
       "    </tr>\n",
       "  </thead>\n",
       "  <tbody>\n",
       "    <tr>\n",
       "      <th>1204</th>\n",
       "      <td>southface_RS21</td>\n",
       "      <td>Southface</td>\n",
       "      <td>30368.0</td>\n",
       "      <td>13121</td>\n",
       "      <td>Palmetto</td>\n",
       "      <td>Georgia</td>\n",
       "      <td>Solar Electric</td>\n",
       "      <td>Residential</td>\n",
       "      <td>2012-07-01</td>\n",
       "      <td>NaN</td>\n",
       "      <td>NaN</td>\n",
       "      <td>NaN</td>\n",
       "      <td>NaN</td>\n",
       "      <td>33.51672</td>\n",
       "      <td>-84.734571</td>\n",
       "    </tr>\n",
       "  </tbody>\n",
       "</table>\n",
       "</div>"
      ],
      "text/plain": [
       "      sea_install_id original_db      zip   fips      town    state  \\\n",
       "1204  southface_RS21   Southface  30368.0  13121  Palmetto  Georgia   \n",
       "\n",
       "         system_type       sector install_date utility  \\\n",
       "1204  Solar Electric  Residential   2012-07-01     NaN   \n",
       "\n",
       "      fed_congressional_district  state_senate_district  state_house_district  \\\n",
       "1204                         NaN                    NaN                   NaN   \n",
       "\n",
       "           lat       long  \n",
       "1204  33.51672 -84.734571  "
      ]
     },
     "execution_count": 52,
     "metadata": {},
     "output_type": "execute_result"
    }
   ],
   "source": [
    "installs_clean"
   ]
  },
  {
   "cell_type": "markdown",
   "metadata": {},
   "source": [
    "### 3.2.2 Remove Duplicated Observations\n",
    "#### 3.2.2.1 Define\n",
    "There are six duplicated observations with the same sea_install_id that need to be removed.\n",
    "\n",
    "#### 3.2.2.2 Code"
   ]
  },
  {
   "cell_type": "code",
   "execution_count": 53,
   "metadata": {},
   "outputs": [],
   "source": [
    "installs_clean.drop([1220], inplace=True)"
   ]
  },
  {
   "cell_type": "markdown",
   "metadata": {},
   "source": [
    "#### 3.2.2.3 Test"
   ]
  },
  {
   "cell_type": "code",
   "execution_count": 54,
   "metadata": {},
   "outputs": [
    {
     "data": {
      "text/html": [
       "<div>\n",
       "<style scoped>\n",
       "    .dataframe tbody tr th:only-of-type {\n",
       "        vertical-align: middle;\n",
       "    }\n",
       "\n",
       "    .dataframe tbody tr th {\n",
       "        vertical-align: top;\n",
       "    }\n",
       "\n",
       "    .dataframe thead th {\n",
       "        text-align: right;\n",
       "    }\n",
       "</style>\n",
       "<table border=\"1\" class=\"dataframe\">\n",
       "  <thead>\n",
       "    <tr style=\"text-align: right;\">\n",
       "      <th></th>\n",
       "      <th>sea_install_id</th>\n",
       "      <th>original_db</th>\n",
       "      <th>zip</th>\n",
       "      <th>fips</th>\n",
       "      <th>town</th>\n",
       "      <th>state</th>\n",
       "      <th>system_type</th>\n",
       "      <th>sector</th>\n",
       "      <th>install_date</th>\n",
       "      <th>utility</th>\n",
       "      <th>fed_congressional_district</th>\n",
       "      <th>state_senate_district</th>\n",
       "      <th>state_house_district</th>\n",
       "      <th>lat</th>\n",
       "      <th>long</th>\n",
       "    </tr>\n",
       "  </thead>\n",
       "  <tbody>\n",
       "    <tr>\n",
       "      <th>1204</th>\n",
       "      <td>southface_RS21</td>\n",
       "      <td>Southface</td>\n",
       "      <td>30368.0</td>\n",
       "      <td>13121</td>\n",
       "      <td>Palmetto</td>\n",
       "      <td>Georgia</td>\n",
       "      <td>Solar Electric</td>\n",
       "      <td>Residential</td>\n",
       "      <td>2012-07-01</td>\n",
       "      <td>NaN</td>\n",
       "      <td>NaN</td>\n",
       "      <td>NaN</td>\n",
       "      <td>NaN</td>\n",
       "      <td>33.51672</td>\n",
       "      <td>-84.734571</td>\n",
       "    </tr>\n",
       "  </tbody>\n",
       "</table>\n",
       "</div>"
      ],
      "text/plain": [
       "      sea_install_id original_db      zip   fips      town    state  \\\n",
       "1204  southface_RS21   Southface  30368.0  13121  Palmetto  Georgia   \n",
       "\n",
       "         system_type       sector install_date utility  \\\n",
       "1204  Solar Electric  Residential   2012-07-01     NaN   \n",
       "\n",
       "      fed_congressional_district  state_senate_district  state_house_district  \\\n",
       "1204                         NaN                    NaN                   NaN   \n",
       "\n",
       "           lat       long  \n",
       "1204  33.51672 -84.734571  "
      ]
     },
     "execution_count": 54,
     "metadata": {},
     "output_type": "execute_result"
    }
   ],
   "source": [
    "installs_clean[installs_clean.duplicated()]"
   ]
  },
  {
   "cell_type": "markdown",
   "metadata": {},
   "source": [
    "### 3.2.3 Convert install_date to datetime format\n",
    "#### 3.2.3.1 Define\n",
    "The install_date column should be in datetime format.\n",
    "\n",
    "#### 3.2.3.2 Code"
   ]
  },
  {
   "cell_type": "code",
   "execution_count": null,
   "metadata": {},
   "outputs": [],
   "source": [
    "installs_clean.info()"
   ]
  },
  {
   "cell_type": "code",
   "execution_count": null,
   "metadata": {},
   "outputs": [],
   "source": [
    "installs_clean['install_year'] = installs_clean['install_date'].str.extract('(....)', expand=True)"
   ]
  },
  {
   "cell_type": "code",
   "execution_count": null,
   "metadata": {},
   "outputs": [],
   "source": [
    "installs_clean['install_year'].value_counts()"
   ]
  },
  {
   "cell_type": "code",
   "execution_count": null,
   "metadata": {},
   "outputs": [],
   "source": [
    "installs_clean['install_year'] = installs_clean['install_year'].str.replace('Unkn','Unknown')"
   ]
  },
  {
   "cell_type": "code",
   "execution_count": null,
   "metadata": {},
   "outputs": [],
   "source": [
    "installs_clean['install_year'].value_counts()"
   ]
  },
  {
   "cell_type": "code",
   "execution_count": null,
   "metadata": {},
   "outputs": [],
   "source": [
    "installs_clean.drop(['install_date'], axis=1,inplace= True)"
   ]
  },
  {
   "cell_type": "code",
   "execution_count": null,
   "metadata": {},
   "outputs": [],
   "source": [
    "installs_clean.info()"
   ]
  },
  {
   "cell_type": "code",
   "execution_count": null,
   "metadata": {},
   "outputs": [],
   "source": [
    "installs_clean['install_year'] = pd.to_numeric(installs_clean.install_year)"
   ]
  },
  {
   "cell_type": "code",
   "execution_count": null,
   "metadata": {},
   "outputs": [],
   "source": []
  }
 ],
 "metadata": {
  "kernelspec": {
   "display_name": "Python 3",
   "language": "python",
   "name": "python3"
  },
  "language_info": {
   "codemirror_mode": {
    "name": "ipython",
    "version": 3
   },
   "file_extension": ".py",
   "mimetype": "text/x-python",
   "name": "python",
   "nbconvert_exporter": "python",
   "pygments_lexer": "ipython3",
   "version": "3.7.3"
  }
 },
 "nbformat": 4,
 "nbformat_minor": 2
}
