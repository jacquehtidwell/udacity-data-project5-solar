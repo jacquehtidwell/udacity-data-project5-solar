{
 "cells": [
  {
   "cell_type": "code",
   "execution_count": 1,
   "metadata": {},
   "outputs": [],
   "source": [
    "import requests\n",
    "import numpy as np\n",
    "import pandas as pd\n",
    "import os\n",
    "\n",
    "import matplotlib.pyplot as plt\n",
    "%matplotlib inline\n",
    "from matplotlib import cm as cm\n",
    "\n",
    "import seaborn as sns \n",
    "import datetime\n",
    "from datetime import datetime"
   ]
  },
  {
   "cell_type": "markdown",
   "metadata": {},
   "source": [
    "# 1 Data Gathering - SolarView\n",
    "\n",
    "https://github.com/social-energy-atlas/solarview-data\n",
    "\n",
    "## 1.1 Installations"
   ]
  },
  {
   "cell_type": "code",
   "execution_count": 2,
   "metadata": {},
   "outputs": [
    {
     "data": {
      "text/html": [
       "<div>\n",
       "<style scoped>\n",
       "    .dataframe tbody tr th:only-of-type {\n",
       "        vertical-align: middle;\n",
       "    }\n",
       "\n",
       "    .dataframe tbody tr th {\n",
       "        vertical-align: top;\n",
       "    }\n",
       "\n",
       "    .dataframe thead th {\n",
       "        text-align: right;\n",
       "    }\n",
       "</style>\n",
       "<table border=\"1\" class=\"dataframe\">\n",
       "  <thead>\n",
       "    <tr style=\"text-align: right;\">\n",
       "      <th></th>\n",
       "      <th>sea-install-id</th>\n",
       "      <th>oiriginal-db</th>\n",
       "      <th>zip</th>\n",
       "      <th>fips</th>\n",
       "      <th>town</th>\n",
       "      <th>state</th>\n",
       "      <th>system-type</th>\n",
       "      <th>sector</th>\n",
       "      <th>install-date</th>\n",
       "      <th>utility</th>\n",
       "      <th>federal-cong-dist</th>\n",
       "      <th>state-senate-dist</th>\n",
       "      <th>state-house-dist</th>\n",
       "      <th>lat</th>\n",
       "      <th>long</th>\n",
       "    </tr>\n",
       "  </thead>\n",
       "  <tbody>\n",
       "    <tr>\n",
       "      <th>0</th>\n",
       "      <td>southface_S53</td>\n",
       "      <td>Southface</td>\n",
       "      <td>31408.0</td>\n",
       "      <td>13051</td>\n",
       "      <td>Garden City</td>\n",
       "      <td>Georgia</td>\n",
       "      <td>Solar Hot Water</td>\n",
       "      <td>Residential</td>\n",
       "      <td>2008-01-01</td>\n",
       "      <td>Georgia Power Company</td>\n",
       "      <td>1.0</td>\n",
       "      <td>2.0</td>\n",
       "      <td>162.0</td>\n",
       "      <td>32.119290</td>\n",
       "      <td>-81.151748</td>\n",
       "    </tr>\n",
       "    <tr>\n",
       "      <th>1</th>\n",
       "      <td>southface_S55</td>\n",
       "      <td>Southface</td>\n",
       "      <td>30601.0</td>\n",
       "      <td>13059</td>\n",
       "      <td>Athens</td>\n",
       "      <td>Georgia</td>\n",
       "      <td>Solar Hot Water</td>\n",
       "      <td>Residential</td>\n",
       "      <td>2008-01-01</td>\n",
       "      <td>Georgia Power Company</td>\n",
       "      <td>10.0</td>\n",
       "      <td>46.0</td>\n",
       "      <td>118.0</td>\n",
       "      <td>33.976445</td>\n",
       "      <td>-83.368683</td>\n",
       "    </tr>\n",
       "    <tr>\n",
       "      <th>2</th>\n",
       "      <td>southface_S59</td>\n",
       "      <td>Southface</td>\n",
       "      <td>30030.0</td>\n",
       "      <td>13089</td>\n",
       "      <td>Decatur</td>\n",
       "      <td>Georgia</td>\n",
       "      <td>Solar Hot Water</td>\n",
       "      <td>Residential</td>\n",
       "      <td>2008-01-01</td>\n",
       "      <td>Georgia Power Company</td>\n",
       "      <td>5.0</td>\n",
       "      <td>42.0</td>\n",
       "      <td>83.0</td>\n",
       "      <td>33.767515</td>\n",
       "      <td>-84.308954</td>\n",
       "    </tr>\n",
       "    <tr>\n",
       "      <th>3</th>\n",
       "      <td>southface_S52</td>\n",
       "      <td>Southface</td>\n",
       "      <td>30005.0</td>\n",
       "      <td>13121</td>\n",
       "      <td>Alpharetta</td>\n",
       "      <td>Georgia</td>\n",
       "      <td>Solar Hot Water</td>\n",
       "      <td>Residential</td>\n",
       "      <td>2008-01-01</td>\n",
       "      <td>Sawnee EMC</td>\n",
       "      <td>6.0</td>\n",
       "      <td>48.0</td>\n",
       "      <td>25.0</td>\n",
       "      <td>34.070288</td>\n",
       "      <td>-84.202196</td>\n",
       "    </tr>\n",
       "    <tr>\n",
       "      <th>4</th>\n",
       "      <td>southface_S49</td>\n",
       "      <td>Southface</td>\n",
       "      <td>30281.0</td>\n",
       "      <td>13151</td>\n",
       "      <td>Stockbridge</td>\n",
       "      <td>Georgia</td>\n",
       "      <td>Solar Hot Water</td>\n",
       "      <td>Residential</td>\n",
       "      <td>2008-01-01</td>\n",
       "      <td>Georgia Power Company</td>\n",
       "      <td>13.0</td>\n",
       "      <td>10.0</td>\n",
       "      <td>111.0</td>\n",
       "      <td>33.501071</td>\n",
       "      <td>-84.257491</td>\n",
       "    </tr>\n",
       "  </tbody>\n",
       "</table>\n",
       "</div>"
      ],
      "text/plain": [
       "  sea-install-id oiriginal-db      zip   fips         town    state  \\\n",
       "0  southface_S53    Southface  31408.0  13051  Garden City  Georgia   \n",
       "1  southface_S55    Southface  30601.0  13059       Athens  Georgia   \n",
       "2  southface_S59    Southface  30030.0  13089      Decatur  Georgia   \n",
       "3  southface_S52    Southface  30005.0  13121   Alpharetta  Georgia   \n",
       "4  southface_S49    Southface  30281.0  13151  Stockbridge  Georgia   \n",
       "\n",
       "       system-type       sector install-date                utility  \\\n",
       "0  Solar Hot Water  Residential   2008-01-01  Georgia Power Company   \n",
       "1  Solar Hot Water  Residential   2008-01-01  Georgia Power Company   \n",
       "2  Solar Hot Water  Residential   2008-01-01  Georgia Power Company   \n",
       "3  Solar Hot Water  Residential   2008-01-01             Sawnee EMC   \n",
       "4  Solar Hot Water  Residential   2008-01-01  Georgia Power Company   \n",
       "\n",
       "   federal-cong-dist  state-senate-dist  state-house-dist        lat  \\\n",
       "0                1.0                2.0             162.0  32.119290   \n",
       "1               10.0               46.0             118.0  33.976445   \n",
       "2                5.0               42.0              83.0  33.767515   \n",
       "3                6.0               48.0              25.0  34.070288   \n",
       "4               13.0               10.0             111.0  33.501071   \n",
       "\n",
       "        long  \n",
       "0 -81.151748  \n",
       "1 -83.368683  \n",
       "2 -84.308954  \n",
       "3 -84.202196  \n",
       "4 -84.257491  "
      ]
     },
     "execution_count": 2,
     "metadata": {},
     "output_type": "execute_result"
    }
   ],
   "source": [
    "installs = pd.read_csv('data/sea-solar-installations.csv', encoding='utf-8')\n",
    "installs.head(5)"
   ]
  },
  {
   "cell_type": "code",
   "execution_count": 3,
   "metadata": {},
   "outputs": [
    {
     "name": "stdout",
     "output_type": "stream",
     "text": [
      "<class 'pandas.core.frame.DataFrame'>\n",
      "RangeIndex: 2147 entries, 0 to 2146\n",
      "Data columns (total 15 columns):\n",
      "sea-install-id       2147 non-null object\n",
      "oiriginal-db         2147 non-null object\n",
      "zip                  2146 non-null float64\n",
      "fips                 2147 non-null int64\n",
      "town                 2107 non-null object\n",
      "state                2147 non-null object\n",
      "system-type          2147 non-null object\n",
      "sector               2147 non-null object\n",
      "install-date         2147 non-null object\n",
      "utility              603 non-null object\n",
      "federal-cong-dist    767 non-null float64\n",
      "state-senate-dist    767 non-null float64\n",
      "state-house-dist     767 non-null float64\n",
      "lat                  2125 non-null float64\n",
      "long                 2125 non-null float64\n",
      "dtypes: float64(6), int64(1), object(8)\n",
      "memory usage: 251.7+ KB\n"
     ]
    }
   ],
   "source": [
    "installs.info()"
   ]
  },
  {
   "cell_type": "markdown",
   "metadata": {},
   "source": [
    "# 2 Data Assessment\n",
    "## 2.1 Installations"
   ]
  },
  {
   "cell_type": "code",
   "execution_count": 12,
   "metadata": {},
   "outputs": [
    {
     "name": "stdout",
     "output_type": "stream",
     "text": [
      "<class 'pandas.core.frame.DataFrame'>\n",
      "RangeIndex: 2147 entries, 0 to 2146\n",
      "Data columns (total 15 columns):\n",
      "sea-install-id       2147 non-null object\n",
      "oiriginal-db         2147 non-null object\n",
      "zip                  2146 non-null float64\n",
      "fips                 2147 non-null int64\n",
      "town                 2107 non-null object\n",
      "state                2147 non-null object\n",
      "system-type          2147 non-null object\n",
      "sector               2147 non-null object\n",
      "install-date         2147 non-null object\n",
      "utility              603 non-null object\n",
      "federal-cong-dist    767 non-null float64\n",
      "state-senate-dist    767 non-null float64\n",
      "state-house-dist     767 non-null float64\n",
      "lat                  2125 non-null float64\n",
      "long                 2125 non-null float64\n",
      "dtypes: float64(6), int64(1), object(8)\n",
      "memory usage: 251.7+ KB\n"
     ]
    }
   ],
   "source": [
    "installs.info()"
   ]
  },
  {
   "cell_type": "markdown",
   "metadata": {},
   "source": [
    "- install-date is not in datetime format\n",
    "- fips is not a string\n",
    "- error in spelling of original database column"
   ]
  },
  {
   "cell_type": "code",
   "execution_count": 13,
   "metadata": {},
   "outputs": [
    {
     "data": {
      "text/html": [
       "<div>\n",
       "<style scoped>\n",
       "    .dataframe tbody tr th:only-of-type {\n",
       "        vertical-align: middle;\n",
       "    }\n",
       "\n",
       "    .dataframe tbody tr th {\n",
       "        vertical-align: top;\n",
       "    }\n",
       "\n",
       "    .dataframe thead th {\n",
       "        text-align: right;\n",
       "    }\n",
       "</style>\n",
       "<table border=\"1\" class=\"dataframe\">\n",
       "  <thead>\n",
       "    <tr style=\"text-align: right;\">\n",
       "      <th></th>\n",
       "      <th>sea-install-id</th>\n",
       "      <th>oiriginal-db</th>\n",
       "      <th>zip</th>\n",
       "      <th>fips</th>\n",
       "      <th>town</th>\n",
       "      <th>state</th>\n",
       "      <th>system-type</th>\n",
       "      <th>sector</th>\n",
       "      <th>install-date</th>\n",
       "      <th>utility</th>\n",
       "      <th>federal-cong-dist</th>\n",
       "      <th>state-senate-dist</th>\n",
       "      <th>state-house-dist</th>\n",
       "      <th>lat</th>\n",
       "      <th>long</th>\n",
       "    </tr>\n",
       "  </thead>\n",
       "  <tbody>\n",
       "    <tr>\n",
       "      <th>1904</th>\n",
       "      <td>southface_AES061</td>\n",
       "      <td>Southface</td>\n",
       "      <td>30606.0</td>\n",
       "      <td>13059</td>\n",
       "      <td>Athens</td>\n",
       "      <td>Georgia</td>\n",
       "      <td>Solar Electric</td>\n",
       "      <td>Residential</td>\n",
       "      <td>2016-08-30</td>\n",
       "      <td>NaN</td>\n",
       "      <td>NaN</td>\n",
       "      <td>NaN</td>\n",
       "      <td>NaN</td>\n",
       "      <td>33.926032</td>\n",
       "      <td>-83.421936</td>\n",
       "    </tr>\n",
       "    <tr>\n",
       "      <th>1483</th>\n",
       "      <td>southface_SF124</td>\n",
       "      <td>Southface</td>\n",
       "      <td>31409.0</td>\n",
       "      <td>13051</td>\n",
       "      <td>NaN</td>\n",
       "      <td>Georgia</td>\n",
       "      <td>Solar Electric</td>\n",
       "      <td>Non-Residential</td>\n",
       "      <td>2014-03-25</td>\n",
       "      <td>NaN</td>\n",
       "      <td>NaN</td>\n",
       "      <td>NaN</td>\n",
       "      <td>NaN</td>\n",
       "      <td>32.028773</td>\n",
       "      <td>-81.126069</td>\n",
       "    </tr>\n",
       "    <tr>\n",
       "      <th>1673</th>\n",
       "      <td>southface_AES006</td>\n",
       "      <td>Southface</td>\n",
       "      <td>30329.0</td>\n",
       "      <td>13089</td>\n",
       "      <td>Atlanta</td>\n",
       "      <td>Georgia</td>\n",
       "      <td>Solar Electric</td>\n",
       "      <td>Residential</td>\n",
       "      <td>2015-06-08</td>\n",
       "      <td>NaN</td>\n",
       "      <td>NaN</td>\n",
       "      <td>NaN</td>\n",
       "      <td>NaN</td>\n",
       "      <td>33.812353</td>\n",
       "      <td>-84.334551</td>\n",
       "    </tr>\n",
       "    <tr>\n",
       "      <th>1011</th>\n",
       "      <td>southface_M415</td>\n",
       "      <td>Southface</td>\n",
       "      <td>30153.0</td>\n",
       "      <td>13233</td>\n",
       "      <td>Rockmart</td>\n",
       "      <td>Georgia</td>\n",
       "      <td>Solar Electric</td>\n",
       "      <td>Residential</td>\n",
       "      <td>2011-12-17</td>\n",
       "      <td>NaN</td>\n",
       "      <td>NaN</td>\n",
       "      <td>NaN</td>\n",
       "      <td>NaN</td>\n",
       "      <td>33.999967</td>\n",
       "      <td>-85.057720</td>\n",
       "    </tr>\n",
       "    <tr>\n",
       "      <th>277</th>\n",
       "      <td>southface_S198</td>\n",
       "      <td>Southface</td>\n",
       "      <td>30349.0</td>\n",
       "      <td>13121</td>\n",
       "      <td>Atlanta</td>\n",
       "      <td>Georgia</td>\n",
       "      <td>Solar Hot Water</td>\n",
       "      <td>Residential</td>\n",
       "      <td>2009-09-12</td>\n",
       "      <td>Unknown</td>\n",
       "      <td>13.0</td>\n",
       "      <td>39.0</td>\n",
       "      <td>64.0</td>\n",
       "      <td>33.629506</td>\n",
       "      <td>-84.522003</td>\n",
       "    </tr>\n",
       "  </tbody>\n",
       "</table>\n",
       "</div>"
      ],
      "text/plain": [
       "        sea-install-id oiriginal-db      zip   fips      town    state  \\\n",
       "1904  southface_AES061    Southface  30606.0  13059    Athens  Georgia   \n",
       "1483   southface_SF124    Southface  31409.0  13051       NaN  Georgia   \n",
       "1673  southface_AES006    Southface  30329.0  13089   Atlanta  Georgia   \n",
       "1011    southface_M415    Southface  30153.0  13233  Rockmart  Georgia   \n",
       "277     southface_S198    Southface  30349.0  13121   Atlanta  Georgia   \n",
       "\n",
       "          system-type           sector install-date  utility  \\\n",
       "1904   Solar Electric      Residential   2016-08-30      NaN   \n",
       "1483   Solar Electric  Non-Residential   2014-03-25      NaN   \n",
       "1673   Solar Electric      Residential   2015-06-08      NaN   \n",
       "1011   Solar Electric      Residential   2011-12-17      NaN   \n",
       "277   Solar Hot Water      Residential   2009-09-12  Unknown   \n",
       "\n",
       "      federal-cong-dist  state-senate-dist  state-house-dist        lat  \\\n",
       "1904                NaN                NaN               NaN  33.926032   \n",
       "1483                NaN                NaN               NaN  32.028773   \n",
       "1673                NaN                NaN               NaN  33.812353   \n",
       "1011                NaN                NaN               NaN  33.999967   \n",
       "277                13.0               39.0              64.0  33.629506   \n",
       "\n",
       "           long  \n",
       "1904 -83.421936  \n",
       "1483 -81.126069  \n",
       "1673 -84.334551  \n",
       "1011 -85.057720  \n",
       "277  -84.522003  "
      ]
     },
     "execution_count": 13,
     "metadata": {},
     "output_type": "execute_result"
    }
   ],
   "source": [
    "installs.sample(5)"
   ]
  },
  {
   "cell_type": "code",
   "execution_count": 14,
   "metadata": {},
   "outputs": [
    {
     "data": {
      "text/plain": [
       "(2147, 15)"
      ]
     },
     "execution_count": 14,
     "metadata": {},
     "output_type": "execute_result"
    }
   ],
   "source": [
    "installs.shape"
   ]
  },
  {
   "cell_type": "code",
   "execution_count": 15,
   "metadata": {},
   "outputs": [
    {
     "data": {
      "text/plain": [
       "sea-install-id          0\n",
       "oiriginal-db            0\n",
       "zip                     1\n",
       "fips                    0\n",
       "town                   40\n",
       "state                   0\n",
       "system-type             0\n",
       "sector                  0\n",
       "install-date            0\n",
       "utility              1544\n",
       "federal-cong-dist    1380\n",
       "state-senate-dist    1380\n",
       "state-house-dist     1380\n",
       "lat                    22\n",
       "long                   22\n",
       "dtype: int64"
      ]
     },
     "execution_count": 15,
     "metadata": {},
     "output_type": "execute_result"
    }
   ],
   "source": [
    "installs.isnull().sum()"
   ]
  },
  {
   "cell_type": "code",
   "execution_count": 16,
   "metadata": {},
   "outputs": [
    {
     "data": {
      "text/plain": [
       "1"
      ]
     },
     "execution_count": 16,
     "metadata": {},
     "output_type": "execute_result"
    }
   ],
   "source": [
    "installs.duplicated().sum()"
   ]
  },
  {
   "cell_type": "markdown",
   "metadata": {},
   "source": [
    "- NaN present in zip, town, lat, utility, federal-cong-dist, state-senate-dist, state-house-dist, lat, and long.\n",
    "- Can't check for duplicated id because of column name.\n",
    "- zip is an integer and not a string"
   ]
  },
  {
   "cell_type": "markdown",
   "metadata": {},
   "source": [
    "# 3 Data Cleaning\n",
    "\n",
    "## 3.1 Copy All Dataframes\n",
    "\n",
    "### 3.1.1 Define\n",
    "Copy all dataframes for cleaning purposes.\n",
    "\n",
    "#### 3.1.1.2 Code"
   ]
  },
  {
   "cell_type": "code",
   "execution_count": 4,
   "metadata": {},
   "outputs": [],
   "source": [
    "installs_clean = installs.copy()"
   ]
  },
  {
   "cell_type": "markdown",
   "metadata": {},
   "source": [
    "#### 3.1.1.3 Test"
   ]
  },
  {
   "cell_type": "code",
   "execution_count": 5,
   "metadata": {},
   "outputs": [
    {
     "name": "stdout",
     "output_type": "stream",
     "text": [
      "<class 'pandas.core.frame.DataFrame'>\n",
      "RangeIndex: 2147 entries, 0 to 2146\n",
      "Data columns (total 15 columns):\n",
      "sea-install-id       2147 non-null object\n",
      "oiriginal-db         2147 non-null object\n",
      "zip                  2146 non-null float64\n",
      "fips                 2147 non-null int64\n",
      "town                 2107 non-null object\n",
      "state                2147 non-null object\n",
      "system-type          2147 non-null object\n",
      "sector               2147 non-null object\n",
      "install-date         2147 non-null object\n",
      "utility              603 non-null object\n",
      "federal-cong-dist    767 non-null float64\n",
      "state-senate-dist    767 non-null float64\n",
      "state-house-dist     767 non-null float64\n",
      "lat                  2125 non-null float64\n",
      "long                 2125 non-null float64\n",
      "dtypes: float64(6), int64(1), object(8)\n",
      "memory usage: 251.7+ KB\n"
     ]
    }
   ],
   "source": [
    "installs_clean.info()"
   ]
  },
  {
   "cell_type": "markdown",
   "metadata": {},
   "source": [
    "## 3.2 Column Naming\n",
    "### 3.2.1 Installations\n",
    "#### 3.2.1.1 Define\n",
    "Rename all columns so that hyphens are replaced with underscores so that future codes can be run successfully, as well as correcting any spelling errors.\n",
    "\n",
    "#### 3.2.1.2 Code"
   ]
  },
  {
   "cell_type": "code",
   "execution_count": null,
   "metadata": {},
   "outputs": [],
   "source": [
    "installs_clean = installs_clean.rename(columns={\"sea-install-id\": \"sea_install_id\", \n",
    "                                                \"oiriginal-db\": \"original_db\", \n",
    "                                                \"system-type\": \"system_type\", \n",
    "                                                \"install-date\": \"install_date\", \n",
    "                                                \"federal-cong-dist\": \"fed_congressional_district\", \n",
    "                                                \"state-senate-dist\": \"state_senate_district\", \n",
    "                                                \"state-house-dist\": \"state_house_district\"})"
   ]
  },
  {
   "cell_type": "markdown",
   "metadata": {},
   "source": [
    "#### 3.2.1.3 Test"
   ]
  },
  {
   "cell_type": "code",
   "execution_count": null,
   "metadata": {},
   "outputs": [],
   "source": [
    "installs_clean.head()"
   ]
  },
  {
   "cell_type": "markdown",
   "metadata": {},
   "source": [
    "### 3.2.2 Census\n",
    "#### 3.2.2.1 Define\n",
    "Rename all columns so that hyphens are replaced with underscores so that future codes can be run successfully.\n",
    "\n",
    "#### 3.2.2.2 Code"
   ]
  },
  {
   "cell_type": "code",
   "execution_count": null,
   "metadata": {},
   "outputs": [],
   "source": [
    "census_clean.info()"
   ]
  },
  {
   "cell_type": "code",
   "execution_count": null,
   "metadata": {},
   "outputs": [],
   "source": [
    "census_clean = census_clean.rename(columns={\"med-income\": \"med_income\",\n",
    "                                            \"owner-occ\": \"owner_occ\", \n",
    "                                            \"pop-tot\": \"pop_tot\", \n",
    "                                            \"dem-fem-pct\": \"dem_fem_pct\", \n",
    "                                            \"dem-male-pct\": \"dem_male_pct\", \n",
    "                                            \"dem-white-pct\": \"dem_white_pct\",\n",
    "                                            \"dem-baa-pct\": \"dem_baa_pct\",\n",
    "                                            \"dem-aian-pct\": \"dem_aian_pct\",\n",
    "                                            \"dem-a-pct\": \"dem_a_pct\",\n",
    "                                            \"dem-nhpi-pct\": \"dem_nhpi_pct\",\n",
    "                                            \"dem-two-pct\": \"dem_two_pct\",\n",
    "                                            \"dem-hl-pct\": \"dem_hl_pct\",\n",
    "                                            \"dem-vet\": \"dem_vet\",\n",
    "                                            \"dem-hh\": \"dem_hh\"\n",
    "                                           })"
   ]
  },
  {
   "cell_type": "markdown",
   "metadata": {},
   "source": [
    "#### 3.2.2.3 Test"
   ]
  },
  {
   "cell_type": "code",
   "execution_count": null,
   "metadata": {},
   "outputs": [],
   "source": [
    "census_clean.head()"
   ]
  },
  {
   "cell_type": "markdown",
   "metadata": {},
   "source": [
    "### 3.2.2 Convert install_date to datetime format\n",
    "#### 3.2.2.1 Define\n",
    "The install_date column should be in datetime format. Drop any unknown dates and convert those values to datetime.\n",
    "\n",
    "#### 3.2.2.2 Code"
   ]
  },
  {
   "cell_type": "code",
   "execution_count": null,
   "metadata": {},
   "outputs": [],
   "source": [
    "installs_clean.info()"
   ]
  },
  {
   "cell_type": "code",
   "execution_count": null,
   "metadata": {},
   "outputs": [],
   "source": [
    "installs_clean['install_date'] = datetime.strptime('Jun 1 2005  1:33PM', '%b %d %Y %I:%M%p')"
   ]
  },
  {
   "cell_type": "markdown",
   "metadata": {},
   "source": [
    "#### 3.2.2.3 Test"
   ]
  },
  {
   "cell_type": "code",
   "execution_count": null,
   "metadata": {},
   "outputs": [],
   "source": [
    "installs_clean.info()"
   ]
  },
  {
   "cell_type": "markdown",
   "metadata": {},
   "source": [
    "### 3.2.3 Convert fips, zip, and congressional district columns to strings\n",
    "#### 3.2.3.1 Define\n",
    "Convert the fips, zip, fed_congressional_district, state_senate_district, and state_house_district columns to string format all columns.\n",
    "\n",
    "#### 3.2.3.2 Code"
   ]
  },
  {
   "cell_type": "code",
   "execution_count": null,
   "metadata": {},
   "outputs": [],
   "source": [
    "print(installs_clean[installs_clean['zip'].isnull()])"
   ]
  },
  {
   "cell_type": "code",
   "execution_count": null,
   "metadata": {},
   "outputs": [],
   "source": [
    "installs_clean.drop([1833], inplace=True)\n",
    "installs_clean['zip'] = installs_clean['zip'].round(0).astype(int)"
   ]
  },
  {
   "cell_type": "markdown",
   "metadata": {},
   "source": [
    "#### 3.2.3.3 Test"
   ]
  },
  {
   "cell_type": "code",
   "execution_count": null,
   "metadata": {},
   "outputs": [],
   "source": [
    "installs_clean.info()"
   ]
  },
  {
   "cell_type": "code",
   "execution_count": null,
   "metadata": {},
   "outputs": [],
   "source": [
    "installs_clean.head(5)"
   ]
  },
  {
   "cell_type": "markdown",
   "metadata": {},
   "source": [
    "### 3.2.4 Investigate town NaN values\n",
    "#### 3.2.4.1 Define\n",
    "Query the dataset and investigate NaN values for the town column to see if data can be retrieved to complete. Otherwise, remove observations from the dataset.\n",
    "\n",
    "#### 3.2.4.2 Code"
   ]
  },
  {
   "cell_type": "code",
   "execution_count": null,
   "metadata": {},
   "outputs": [],
   "source": [
    "installs_clean[installs_clean['town'].isnull()]"
   ]
  },
  {
   "cell_type": "code",
   "execution_count": null,
   "metadata": {},
   "outputs": [],
   "source": [
    "print(installs_clean['zip'][36])\n",
    "print(installs_clean['zip'][43])\n",
    "print(installs_clean['zip'][684])\n",
    "print(installs_clean['zip'][885])\n",
    "print(installs_clean['zip'][1349])"
   ]
  },
  {
   "cell_type": "code",
   "execution_count": null,
   "metadata": {},
   "outputs": [],
   "source": [
    "installs_clean.town[36] = 'Atlanta'\n",
    "installs_clean.town[43] = 'Atlanta'\n",
    "installs_clean.town[684] = 'Woodstock'\n",
    "installs_clean.town[885] = 'Columbus'\n",
    "installs_clean.town[1349] = 'Oxford'"
   ]
  },
  {
   "cell_type": "code",
   "execution_count": null,
   "metadata": {},
   "outputs": [],
   "source": [
    "print(installs_clean['zip'][1353])\n",
    "print(installs_clean['zip'][1370])\n",
    "print(installs_clean['zip'][1382])\n",
    "print(installs_clean['zip'][1415])\n",
    "print(installs_clean['zip'][1451])"
   ]
  },
  {
   "cell_type": "code",
   "execution_count": null,
   "metadata": {},
   "outputs": [],
   "source": [
    "installs_clean.town[1382] = 'Savannah'\n",
    "installs_clean.town[1451] = 'Peachtree City'\n",
    "installs_clean.town[1353] = 'Cumming'\n",
    "installs_clean.town[1370] = 'Jasper'\n",
    "installs_clean.town[1415] = 'Davisboro'"
   ]
  },
  {
   "cell_type": "code",
   "execution_count": null,
   "metadata": {},
   "outputs": [],
   "source": [
    "print(installs_clean['zip'][1472])\n",
    "print(installs_clean['zip'][1473])\n",
    "print(installs_clean['zip'][1483])\n",
    "print(installs_clean['zip'][1490])\n",
    "print(installs_clean['zip'][1493])"
   ]
  },
  {
   "cell_type": "code",
   "execution_count": null,
   "metadata": {},
   "outputs": [],
   "source": [
    "installs_clean.town[1472] = 'Metter'\n",
    "installs_clean.town[1473] = 'Butler'\n",
    "installs_clean.town[1483] = 'Savannah'\n",
    "installs_clean.town[1490] = 'Hogansville'\n",
    "installs_clean.town[1493] = 'Madison'"
   ]
  },
  {
   "cell_type": "code",
   "execution_count": null,
   "metadata": {},
   "outputs": [],
   "source": [
    "print(installs_clean['zip'][1497])\n",
    "print(installs_clean['zip'][1506])\n",
    "print(installs_clean['zip'][1507])\n",
    "print(installs_clean['zip'][1508])\n",
    "print(installs_clean['zip'][1509])"
   ]
  },
  {
   "cell_type": "code",
   "execution_count": null,
   "metadata": {},
   "outputs": [],
   "source": [
    "installs_clean.town[1497] = 'Lawrenceville'\n",
    "installs_clean.town[1506] = 'Newborn'\n",
    "installs_clean.town[1507] = 'Cartersville'\n",
    "installs_clean.town[1508] = 'Greenville'\n",
    "installs_clean.town[1509] = 'Dahlonega'"
   ]
  },
  {
   "cell_type": "code",
   "execution_count": null,
   "metadata": {},
   "outputs": [],
   "source": [
    "print(installs_clean['zip'][1517])\n",
    "print(installs_clean['zip'][1518])\n",
    "print(installs_clean['zip'][1529])\n",
    "print(installs_clean['zip'][1551])\n",
    "print(installs_clean['zip'][1552])"
   ]
  },
  {
   "cell_type": "code",
   "execution_count": null,
   "metadata": {},
   "outputs": [],
   "source": [
    "installs_clean.town[1517] = 'Augusta'\n",
    "installs_clean.town[1518] = 'Lavonia'\n",
    "installs_clean.town[1529] = 'Buckhead'\n",
    "installs_clean.town[1551] = 'Decatur'\n",
    "installs_clean.town[1552] = 'Claxton'"
   ]
  },
  {
   "cell_type": "code",
   "execution_count": null,
   "metadata": {},
   "outputs": [],
   "source": [
    "print(installs_clean['zip'][1558])\n",
    "print(installs_clean['zip'][1561])\n",
    "print(installs_clean['zip'][1562])\n",
    "print(installs_clean['zip'][1565])\n",
    "print(installs_clean['zip'][1577])"
   ]
  },
  {
   "cell_type": "code",
   "execution_count": null,
   "metadata": {},
   "outputs": [],
   "source": [
    "installs_clean.town[1558] = 'Decatur'\n",
    "installs_clean.town[1561] = 'Decatur'\n",
    "installs_clean.town[1562] = 'Brunswick'\n",
    "installs_clean.town[1565] = 'Jefferson'\n",
    "installs_clean.town[1577] = 'Cave Spring'"
   ]
  },
  {
   "cell_type": "code",
   "execution_count": null,
   "metadata": {},
   "outputs": [],
   "source": [
    "print(installs_clean['zip'][1581])\n",
    "print(installs_clean['zip'][1583])\n",
    "print(installs_clean['zip'][1584])\n",
    "print(installs_clean['zip'][1585])\n",
    "print(installs_clean['zip'][1587])"
   ]
  },
  {
   "cell_type": "code",
   "execution_count": null,
   "metadata": {},
   "outputs": [],
   "source": [
    "installs_clean.town[1581] = 'Augusta'\n",
    "installs_clean.town[1583] = 'Donalsonville'\n",
    "installs_clean.town[1584] = 'Acorn Pond'\n",
    "installs_clean.town[1585] = 'Chester'\n",
    "installs_clean.town[1587] = 'Decatur'"
   ]
  },
  {
   "cell_type": "code",
   "execution_count": null,
   "metadata": {},
   "outputs": [],
   "source": [
    "print(installs_clean['zip'][1606])\n",
    "print(installs_clean['zip'][1607])\n",
    "print(installs_clean['zip'][1611])\n",
    "print(installs_clean['zip'][1991])"
   ]
  },
  {
   "cell_type": "code",
   "execution_count": null,
   "metadata": {},
   "outputs": [],
   "source": [
    "installs_clean.town[1606] = 'Unadilla'\n",
    "installs_clean.town[1607] = 'Rome'\n",
    "installs_clean.town[1611] = 'Sandy Springs'\n",
    "installs_clean.town[1991] = 'Butler'"
   ]
  },
  {
   "cell_type": "markdown",
   "metadata": {},
   "source": [
    "#### 3.2.4.3 Test"
   ]
  },
  {
   "cell_type": "code",
   "execution_count": null,
   "metadata": {},
   "outputs": [],
   "source": [
    "print(installs_clean[installs_clean['town'].isnull()])"
   ]
  },
  {
   "cell_type": "markdown",
   "metadata": {},
   "source": [
    "### 3.2.5 Remove all observations with no latitude or longitude\n",
    "#### 3.2.5.1 Define\n",
    "Query the dataset and remove all NaN lat/long observations.\n",
    "\n",
    "#### 3.2.5.2 Code"
   ]
  },
  {
   "cell_type": "code",
   "execution_count": null,
   "metadata": {},
   "outputs": [],
   "source": [
    "installs_clean[installs_clean['lat'].isnull()]"
   ]
  },
  {
   "cell_type": "code",
   "execution_count": null,
   "metadata": {},
   "outputs": [],
   "source": [
    "installs_clean[installs_clean['lat'].isnull()].shape"
   ]
  },
  {
   "cell_type": "code",
   "execution_count": null,
   "metadata": {},
   "outputs": [],
   "source": [
    "installs_clean.drop([29,31,90,217,284,290,339,341,358,388,409,455,549,577,583,762,763,1001,1007,1260,1337,1644], inplace=True)"
   ]
  },
  {
   "cell_type": "markdown",
   "metadata": {},
   "source": [
    "#### 3.2.5.2 Test"
   ]
  },
  {
   "cell_type": "code",
   "execution_count": null,
   "metadata": {},
   "outputs": [],
   "source": [
    "installs_clean[installs_clean['lat'].isnull()]"
   ]
  },
  {
   "cell_type": "markdown",
   "metadata": {},
   "source": []
  },
  {
   "cell_type": "code",
   "execution_count": null,
   "metadata": {},
   "outputs": [],
   "source": [
    "installs_clean[installs_clean['utility'].isnull()]"
   ]
  },
  {
   "cell_type": "code",
   "execution_count": null,
   "metadata": {},
   "outputs": [],
   "source": [
    "util_rates_clean.info()"
   ]
  },
  {
   "cell_type": "code",
   "execution_count": null,
   "metadata": {},
   "outputs": [],
   "source": [
    "util_rates_clean['zip'] = util_rates_clean['zip'].round(0).astype(int)"
   ]
  },
  {
   "cell_type": "code",
   "execution_count": null,
   "metadata": {},
   "outputs": [],
   "source": [
    "util_rates_clean['zip'] = util_rates_clean['zip'].astype(str)"
   ]
  },
  {
   "cell_type": "code",
   "execution_count": null,
   "metadata": {},
   "outputs": [],
   "source": [
    "util_rates_clean.utility_id[util_rates_clean.zip =='30318']"
   ]
  },
  {
   "cell_type": "code",
   "execution_count": null,
   "metadata": {},
   "outputs": [],
   "source": []
  },
  {
   "cell_type": "markdown",
   "metadata": {},
   "source": [
    "## 3.2 Installations\n",
    "\n",
    "Installations\n",
    "\n",
    "- install-date is not in datetime format\n",
    "- fips is not a string\n",
    "- zip is an integer and not a string\n",
    "- congressional districts (federal and state) are not strings\n",
    "- NaN present in zip, town, lat, utility, federal-cong-dist, state-senate-dist, state-house-dist, lat, and long.\n",
    "- Can't check for duplicated id because of column name.\n",
    "\n",
    "\n",
    "### 3.2.1 Rename Columns\n",
    "#### 3.2.1.1 Define\n"
   ]
  }
 ],
 "metadata": {
  "kernelspec": {
   "display_name": "Python 3",
   "language": "python",
   "name": "python3"
  },
  "language_info": {
   "codemirror_mode": {
    "name": "ipython",
    "version": 3
   },
   "file_extension": ".py",
   "mimetype": "text/x-python",
   "name": "python",
   "nbconvert_exporter": "python",
   "pygments_lexer": "ipython3",
   "version": "3.7.3"
  }
 },
 "nbformat": 4,
 "nbformat_minor": 2
}
