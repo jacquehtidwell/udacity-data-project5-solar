{
 "cells": [
  {
   "cell_type": "code",
   "execution_count": 1,
   "metadata": {},
   "outputs": [],
   "source": [
    "import requests\n",
    "import numpy as np\n",
    "import pandas as pd\n",
    "import os\n",
    "\n",
    "import matplotlib.pyplot as plt\n",
    "%matplotlib inline\n",
    "from matplotlib import cm as cm\n",
    "\n",
    "import seaborn as sns \n",
    "import datetime\n",
    "from datetime import datetime"
   ]
  },
  {
   "cell_type": "markdown",
   "metadata": {},
   "source": [
    "# 1 Data Gathering - SolarView\n",
    "\n",
    "https://github.com/social-energy-atlas/solarview-data\n",
    "\n",
    "## 1.1 Installations"
   ]
  },
  {
   "cell_type": "markdown",
   "metadata": {},
   "source": [
    "## 1.8 Utility Rates"
   ]
  },
  {
   "cell_type": "code",
   "execution_count": 2,
   "metadata": {},
   "outputs": [
    {
     "data": {
      "text/html": [
       "<div>\n",
       "<style scoped>\n",
       "    .dataframe tbody tr th:only-of-type {\n",
       "        vertical-align: middle;\n",
       "    }\n",
       "\n",
       "    .dataframe tbody tr th {\n",
       "        vertical-align: top;\n",
       "    }\n",
       "\n",
       "    .dataframe thead th {\n",
       "        text-align: right;\n",
       "    }\n",
       "</style>\n",
       "<table border=\"1\" class=\"dataframe\">\n",
       "  <thead>\n",
       "    <tr style=\"text-align: right;\">\n",
       "      <th></th>\n",
       "      <th>sea-rate-id</th>\n",
       "      <th>year</th>\n",
       "      <th>zip</th>\n",
       "      <th>utility-id</th>\n",
       "      <th>service-type</th>\n",
       "      <th>comm-rate</th>\n",
       "      <th>ind-rate</th>\n",
       "      <th>res-rate</th>\n",
       "    </tr>\n",
       "  </thead>\n",
       "  <tbody>\n",
       "    <tr>\n",
       "      <th>0</th>\n",
       "      <td>sea-util-1-rate-31702</td>\n",
       "      <td>2015</td>\n",
       "      <td>31702</td>\n",
       "      <td>sea-util-1</td>\n",
       "      <td>Bundled</td>\n",
       "      <td>0.105766</td>\n",
       "      <td>0.0</td>\n",
       "      <td>0.108669</td>\n",
       "    </tr>\n",
       "    <tr>\n",
       "      <th>1</th>\n",
       "      <td>sea-util-1-rate-31703</td>\n",
       "      <td>2015</td>\n",
       "      <td>31703</td>\n",
       "      <td>sea-util-1</td>\n",
       "      <td>Bundled</td>\n",
       "      <td>0.105766</td>\n",
       "      <td>0.0</td>\n",
       "      <td>0.108669</td>\n",
       "    </tr>\n",
       "    <tr>\n",
       "      <th>2</th>\n",
       "      <td>sea-util-1-rate-31706</td>\n",
       "      <td>2015</td>\n",
       "      <td>31706</td>\n",
       "      <td>sea-util-1</td>\n",
       "      <td>Bundled</td>\n",
       "      <td>0.105766</td>\n",
       "      <td>0.0</td>\n",
       "      <td>0.108669</td>\n",
       "    </tr>\n",
       "    <tr>\n",
       "      <th>3</th>\n",
       "      <td>sea-util-1-rate-31705</td>\n",
       "      <td>2015</td>\n",
       "      <td>31705</td>\n",
       "      <td>sea-util-1</td>\n",
       "      <td>Bundled</td>\n",
       "      <td>0.105766</td>\n",
       "      <td>0.0</td>\n",
       "      <td>0.108669</td>\n",
       "    </tr>\n",
       "    <tr>\n",
       "      <th>4</th>\n",
       "      <td>sea-util-1-rate-31701</td>\n",
       "      <td>2015</td>\n",
       "      <td>31701</td>\n",
       "      <td>sea-util-1</td>\n",
       "      <td>Bundled</td>\n",
       "      <td>0.105766</td>\n",
       "      <td>0.0</td>\n",
       "      <td>0.108669</td>\n",
       "    </tr>\n",
       "  </tbody>\n",
       "</table>\n",
       "</div>"
      ],
      "text/plain": [
       "             sea-rate-id  year    zip  utility-id service-type  comm-rate  \\\n",
       "0  sea-util-1-rate-31702  2015  31702  sea-util-1      Bundled   0.105766   \n",
       "1  sea-util-1-rate-31703  2015  31703  sea-util-1      Bundled   0.105766   \n",
       "2  sea-util-1-rate-31706  2015  31706  sea-util-1      Bundled   0.105766   \n",
       "3  sea-util-1-rate-31705  2015  31705  sea-util-1      Bundled   0.105766   \n",
       "4  sea-util-1-rate-31701  2015  31701  sea-util-1      Bundled   0.105766   \n",
       "\n",
       "   ind-rate  res-rate  \n",
       "0       0.0  0.108669  \n",
       "1       0.0  0.108669  \n",
       "2       0.0  0.108669  \n",
       "3       0.0  0.108669  \n",
       "4       0.0  0.108669  "
      ]
     },
     "execution_count": 2,
     "metadata": {},
     "output_type": "execute_result"
    }
   ],
   "source": [
    "util_rates = pd.read_csv('data/sea-utility-rates.csv', encoding='utf-8')\n",
    "util_rates.head(5)"
   ]
  },
  {
   "cell_type": "markdown",
   "metadata": {},
   "source": [
    "# 2 Data Assessment\n",
    "## 2.1 Installations"
   ]
  },
  {
   "cell_type": "markdown",
   "metadata": {},
   "source": [
    "## 2.8 Utility Rates"
   ]
  },
  {
   "cell_type": "code",
   "execution_count": 3,
   "metadata": {},
   "outputs": [
    {
     "name": "stdout",
     "output_type": "stream",
     "text": [
      "<class 'pandas.core.frame.DataFrame'>\n",
      "RangeIndex: 2000 entries, 0 to 1999\n",
      "Data columns (total 8 columns):\n",
      "sea-rate-id     2000 non-null object\n",
      "year            2000 non-null int64\n",
      "zip             2000 non-null int64\n",
      "utility-id      2000 non-null object\n",
      "service-type    2000 non-null object\n",
      "comm-rate       2000 non-null float64\n",
      "ind-rate        2000 non-null float64\n",
      "res-rate        2000 non-null float64\n",
      "dtypes: float64(3), int64(2), object(3)\n",
      "memory usage: 125.1+ KB\n"
     ]
    }
   ],
   "source": [
    "util_rates.info()"
   ]
  },
  {
   "cell_type": "code",
   "execution_count": 4,
   "metadata": {},
   "outputs": [
    {
     "data": {
      "text/html": [
       "<div>\n",
       "<style scoped>\n",
       "    .dataframe tbody tr th:only-of-type {\n",
       "        vertical-align: middle;\n",
       "    }\n",
       "\n",
       "    .dataframe tbody tr th {\n",
       "        vertical-align: top;\n",
       "    }\n",
       "\n",
       "    .dataframe thead th {\n",
       "        text-align: right;\n",
       "    }\n",
       "</style>\n",
       "<table border=\"1\" class=\"dataframe\">\n",
       "  <thead>\n",
       "    <tr style=\"text-align: right;\">\n",
       "      <th></th>\n",
       "      <th>sea-rate-id</th>\n",
       "      <th>year</th>\n",
       "      <th>zip</th>\n",
       "      <th>utility-id</th>\n",
       "      <th>service-type</th>\n",
       "      <th>comm-rate</th>\n",
       "      <th>ind-rate</th>\n",
       "      <th>res-rate</th>\n",
       "    </tr>\n",
       "  </thead>\n",
       "  <tbody>\n",
       "    <tr>\n",
       "      <th>0</th>\n",
       "      <td>sea-util-1-rate-31702</td>\n",
       "      <td>2015</td>\n",
       "      <td>31702</td>\n",
       "      <td>sea-util-1</td>\n",
       "      <td>Bundled</td>\n",
       "      <td>0.105766</td>\n",
       "      <td>0.0</td>\n",
       "      <td>0.108669</td>\n",
       "    </tr>\n",
       "    <tr>\n",
       "      <th>1</th>\n",
       "      <td>sea-util-1-rate-31703</td>\n",
       "      <td>2015</td>\n",
       "      <td>31703</td>\n",
       "      <td>sea-util-1</td>\n",
       "      <td>Bundled</td>\n",
       "      <td>0.105766</td>\n",
       "      <td>0.0</td>\n",
       "      <td>0.108669</td>\n",
       "    </tr>\n",
       "    <tr>\n",
       "      <th>2</th>\n",
       "      <td>sea-util-1-rate-31706</td>\n",
       "      <td>2015</td>\n",
       "      <td>31706</td>\n",
       "      <td>sea-util-1</td>\n",
       "      <td>Bundled</td>\n",
       "      <td>0.105766</td>\n",
       "      <td>0.0</td>\n",
       "      <td>0.108669</td>\n",
       "    </tr>\n",
       "    <tr>\n",
       "      <th>3</th>\n",
       "      <td>sea-util-1-rate-31705</td>\n",
       "      <td>2015</td>\n",
       "      <td>31705</td>\n",
       "      <td>sea-util-1</td>\n",
       "      <td>Bundled</td>\n",
       "      <td>0.105766</td>\n",
       "      <td>0.0</td>\n",
       "      <td>0.108669</td>\n",
       "    </tr>\n",
       "    <tr>\n",
       "      <th>4</th>\n",
       "      <td>sea-util-1-rate-31701</td>\n",
       "      <td>2015</td>\n",
       "      <td>31701</td>\n",
       "      <td>sea-util-1</td>\n",
       "      <td>Bundled</td>\n",
       "      <td>0.105766</td>\n",
       "      <td>0.0</td>\n",
       "      <td>0.108669</td>\n",
       "    </tr>\n",
       "  </tbody>\n",
       "</table>\n",
       "</div>"
      ],
      "text/plain": [
       "             sea-rate-id  year    zip  utility-id service-type  comm-rate  \\\n",
       "0  sea-util-1-rate-31702  2015  31702  sea-util-1      Bundled   0.105766   \n",
       "1  sea-util-1-rate-31703  2015  31703  sea-util-1      Bundled   0.105766   \n",
       "2  sea-util-1-rate-31706  2015  31706  sea-util-1      Bundled   0.105766   \n",
       "3  sea-util-1-rate-31705  2015  31705  sea-util-1      Bundled   0.105766   \n",
       "4  sea-util-1-rate-31701  2015  31701  sea-util-1      Bundled   0.105766   \n",
       "\n",
       "   ind-rate  res-rate  \n",
       "0       0.0  0.108669  \n",
       "1       0.0  0.108669  \n",
       "2       0.0  0.108669  \n",
       "3       0.0  0.108669  \n",
       "4       0.0  0.108669  "
      ]
     },
     "execution_count": 4,
     "metadata": {},
     "output_type": "execute_result"
    }
   ],
   "source": [
    "util_rates.head(5)"
   ]
  },
  {
   "cell_type": "code",
   "execution_count": 5,
   "metadata": {},
   "outputs": [
    {
     "data": {
      "text/plain": [
       "sea-rate-id     0\n",
       "year            0\n",
       "zip             0\n",
       "utility-id      0\n",
       "service-type    0\n",
       "comm-rate       0\n",
       "ind-rate        0\n",
       "res-rate        0\n",
       "dtype: int64"
      ]
     },
     "execution_count": 5,
     "metadata": {},
     "output_type": "execute_result"
    }
   ],
   "source": [
    "util_rates.isnull().sum()"
   ]
  },
  {
   "cell_type": "code",
   "execution_count": 6,
   "metadata": {},
   "outputs": [
    {
     "data": {
      "text/plain": [
       "0"
      ]
     },
     "execution_count": 6,
     "metadata": {},
     "output_type": "execute_result"
    }
   ],
   "source": [
    "util_rates.duplicated().sum()"
   ]
  },
  {
   "cell_type": "markdown",
   "metadata": {},
   "source": [
    "- zip is integer and not string\n",
    "- Need to modify column name for sea-rate-id, utlity-id, service-type, comm-rate, ind-rate, and res-rate"
   ]
  },
  {
   "cell_type": "markdown",
   "metadata": {},
   "source": [
    "# 3 Data Cleaning\n",
    "\n",
    "## 3.1 Copy All Dataframes\n",
    "\n",
    "### 3.1.1 Define\n",
    "Copy all dataframes for cleaning purposes.\n",
    "\n",
    "#### 3.1.1.2 Code"
   ]
  },
  {
   "cell_type": "code",
   "execution_count": 7,
   "metadata": {},
   "outputs": [],
   "source": [
    "util_rates_clean = util_rates.copy()"
   ]
  },
  {
   "cell_type": "markdown",
   "metadata": {},
   "source": [
    "#### 3.1.1.3 Test"
   ]
  },
  {
   "cell_type": "code",
   "execution_count": 8,
   "metadata": {},
   "outputs": [
    {
     "name": "stdout",
     "output_type": "stream",
     "text": [
      "<class 'pandas.core.frame.DataFrame'>\n",
      "RangeIndex: 2000 entries, 0 to 1999\n",
      "Data columns (total 8 columns):\n",
      "sea-rate-id     2000 non-null object\n",
      "year            2000 non-null int64\n",
      "zip             2000 non-null int64\n",
      "utility-id      2000 non-null object\n",
      "service-type    2000 non-null object\n",
      "comm-rate       2000 non-null float64\n",
      "ind-rate        2000 non-null float64\n",
      "res-rate        2000 non-null float64\n",
      "dtypes: float64(3), int64(2), object(3)\n",
      "memory usage: 125.1+ KB\n"
     ]
    }
   ],
   "source": [
    "util_rates_clean.info()"
   ]
  },
  {
   "cell_type": "markdown",
   "metadata": {},
   "source": [
    "## 3.2 Column Naming\n",
    "### 3.2.1 Installations\n",
    "#### 3.2.1.1 Define\n",
    "Rename all columns so that hyphens are replaced with underscores so that future codes can be run successfully, as well as correcting any spelling errors.\n",
    "\n",
    "#### 3.2.1.2 Code"
   ]
  },
  {
   "cell_type": "code",
   "execution_count": 9,
   "metadata": {},
   "outputs": [],
   "source": [
    "util_rates_clean = util_rates_clean.rename(columns={\"sea-rate-id\": \"sea_rate_id\", \n",
    "                                                \"utility-id\": \"utility_id\", \n",
    "                                                \"service-type\": \"service_type\", \n",
    "                                                \"comm-rate\": \"comm_rate\", \n",
    "                                                \"ind-rate\": \"ind_rate\", \n",
    "                                                \"res-rate\": \"res_rate\"})"
   ]
  },
  {
   "cell_type": "markdown",
   "metadata": {},
   "source": [
    "#### 3.2.1.3 Test"
   ]
  },
  {
   "cell_type": "code",
   "execution_count": 10,
   "metadata": {},
   "outputs": [
    {
     "data": {
      "text/html": [
       "<div>\n",
       "<style scoped>\n",
       "    .dataframe tbody tr th:only-of-type {\n",
       "        vertical-align: middle;\n",
       "    }\n",
       "\n",
       "    .dataframe tbody tr th {\n",
       "        vertical-align: top;\n",
       "    }\n",
       "\n",
       "    .dataframe thead th {\n",
       "        text-align: right;\n",
       "    }\n",
       "</style>\n",
       "<table border=\"1\" class=\"dataframe\">\n",
       "  <thead>\n",
       "    <tr style=\"text-align: right;\">\n",
       "      <th></th>\n",
       "      <th>sea_rate_id</th>\n",
       "      <th>year</th>\n",
       "      <th>zip</th>\n",
       "      <th>utility_id</th>\n",
       "      <th>service_type</th>\n",
       "      <th>comm_rate</th>\n",
       "      <th>ind_rate</th>\n",
       "      <th>res_rate</th>\n",
       "    </tr>\n",
       "  </thead>\n",
       "  <tbody>\n",
       "    <tr>\n",
       "      <th>0</th>\n",
       "      <td>sea-util-1-rate-31702</td>\n",
       "      <td>2015</td>\n",
       "      <td>31702</td>\n",
       "      <td>sea-util-1</td>\n",
       "      <td>Bundled</td>\n",
       "      <td>0.105766</td>\n",
       "      <td>0.0</td>\n",
       "      <td>0.108669</td>\n",
       "    </tr>\n",
       "    <tr>\n",
       "      <th>1</th>\n",
       "      <td>sea-util-1-rate-31703</td>\n",
       "      <td>2015</td>\n",
       "      <td>31703</td>\n",
       "      <td>sea-util-1</td>\n",
       "      <td>Bundled</td>\n",
       "      <td>0.105766</td>\n",
       "      <td>0.0</td>\n",
       "      <td>0.108669</td>\n",
       "    </tr>\n",
       "    <tr>\n",
       "      <th>2</th>\n",
       "      <td>sea-util-1-rate-31706</td>\n",
       "      <td>2015</td>\n",
       "      <td>31706</td>\n",
       "      <td>sea-util-1</td>\n",
       "      <td>Bundled</td>\n",
       "      <td>0.105766</td>\n",
       "      <td>0.0</td>\n",
       "      <td>0.108669</td>\n",
       "    </tr>\n",
       "    <tr>\n",
       "      <th>3</th>\n",
       "      <td>sea-util-1-rate-31705</td>\n",
       "      <td>2015</td>\n",
       "      <td>31705</td>\n",
       "      <td>sea-util-1</td>\n",
       "      <td>Bundled</td>\n",
       "      <td>0.105766</td>\n",
       "      <td>0.0</td>\n",
       "      <td>0.108669</td>\n",
       "    </tr>\n",
       "    <tr>\n",
       "      <th>4</th>\n",
       "      <td>sea-util-1-rate-31701</td>\n",
       "      <td>2015</td>\n",
       "      <td>31701</td>\n",
       "      <td>sea-util-1</td>\n",
       "      <td>Bundled</td>\n",
       "      <td>0.105766</td>\n",
       "      <td>0.0</td>\n",
       "      <td>0.108669</td>\n",
       "    </tr>\n",
       "  </tbody>\n",
       "</table>\n",
       "</div>"
      ],
      "text/plain": [
       "             sea_rate_id  year    zip  utility_id service_type  comm_rate  \\\n",
       "0  sea-util-1-rate-31702  2015  31702  sea-util-1      Bundled   0.105766   \n",
       "1  sea-util-1-rate-31703  2015  31703  sea-util-1      Bundled   0.105766   \n",
       "2  sea-util-1-rate-31706  2015  31706  sea-util-1      Bundled   0.105766   \n",
       "3  sea-util-1-rate-31705  2015  31705  sea-util-1      Bundled   0.105766   \n",
       "4  sea-util-1-rate-31701  2015  31701  sea-util-1      Bundled   0.105766   \n",
       "\n",
       "   ind_rate  res_rate  \n",
       "0       0.0  0.108669  \n",
       "1       0.0  0.108669  \n",
       "2       0.0  0.108669  \n",
       "3       0.0  0.108669  \n",
       "4       0.0  0.108669  "
      ]
     },
     "execution_count": 10,
     "metadata": {},
     "output_type": "execute_result"
    }
   ],
   "source": [
    "util_rates_clean.head()"
   ]
  },
  {
   "cell_type": "markdown",
   "metadata": {},
   "source": [
    "### 3.2.2 Zip to string\n",
    "#### 3.2.2.1 Define\n",
    " \n",
    "\n",
    "#### 3.2.2.2 Code"
   ]
  },
  {
   "cell_type": "code",
   "execution_count": 11,
   "metadata": {},
   "outputs": [],
   "source": [
    "util_rates_clean.zip = util_rates_clean['zip'].astype(str)"
   ]
  },
  {
   "cell_type": "markdown",
   "metadata": {},
   "source": [
    "#### Test"
   ]
  },
  {
   "cell_type": "code",
   "execution_count": 12,
   "metadata": {},
   "outputs": [
    {
     "name": "stdout",
     "output_type": "stream",
     "text": [
      "<class 'pandas.core.frame.DataFrame'>\n",
      "RangeIndex: 2000 entries, 0 to 1999\n",
      "Data columns (total 8 columns):\n",
      "sea_rate_id     2000 non-null object\n",
      "year            2000 non-null int64\n",
      "zip             2000 non-null object\n",
      "utility_id      2000 non-null object\n",
      "service_type    2000 non-null object\n",
      "comm_rate       2000 non-null float64\n",
      "ind_rate        2000 non-null float64\n",
      "res_rate        2000 non-null float64\n",
      "dtypes: float64(3), int64(1), object(4)\n",
      "memory usage: 125.1+ KB\n"
     ]
    }
   ],
   "source": [
    "util_rates_clean.info()"
   ]
  },
  {
   "cell_type": "markdown",
   "metadata": {},
   "source": [
    "#### Date Time for Year"
   ]
  },
  {
   "cell_type": "code",
   "execution_count": 13,
   "metadata": {},
   "outputs": [],
   "source": [
    "util_rates_clean['year'] = datetime.strptime('Jun 1 2005  1:33PM', '%b %d %Y %I:%M%p')"
   ]
  },
  {
   "cell_type": "markdown",
   "metadata": {},
   "source": [
    "#### 3.2.2.3 Test"
   ]
  },
  {
   "cell_type": "code",
   "execution_count": 14,
   "metadata": {},
   "outputs": [
    {
     "name": "stdout",
     "output_type": "stream",
     "text": [
      "<class 'pandas.core.frame.DataFrame'>\n",
      "RangeIndex: 2000 entries, 0 to 1999\n",
      "Data columns (total 8 columns):\n",
      "sea_rate_id     2000 non-null object\n",
      "year            2000 non-null datetime64[ns]\n",
      "zip             2000 non-null object\n",
      "utility_id      2000 non-null object\n",
      "service_type    2000 non-null object\n",
      "comm_rate       2000 non-null float64\n",
      "ind_rate        2000 non-null float64\n",
      "res_rate        2000 non-null float64\n",
      "dtypes: datetime64[ns](1), float64(3), object(4)\n",
      "memory usage: 125.1+ KB\n"
     ]
    }
   ],
   "source": [
    "util_rates_clean.info()"
   ]
  },
  {
   "cell_type": "markdown",
   "metadata": {},
   "source": [
    "## Store Data"
   ]
  },
  {
   "cell_type": "code",
   "execution_count": 15,
   "metadata": {},
   "outputs": [],
   "source": [
    "util_rates_clean.to_csv('clean_data/util_rates_clean.csv', encoding='utf-8', index=False)"
   ]
  },
  {
   "cell_type": "code",
   "execution_count": null,
   "metadata": {},
   "outputs": [],
   "source": []
  }
 ],
 "metadata": {
  "kernelspec": {
   "display_name": "Python 3",
   "language": "python",
   "name": "python3"
  },
  "language_info": {
   "codemirror_mode": {
    "name": "ipython",
    "version": 3
   },
   "file_extension": ".py",
   "mimetype": "text/x-python",
   "name": "python",
   "nbconvert_exporter": "python",
   "pygments_lexer": "ipython3",
   "version": "3.7.3"
  }
 },
 "nbformat": 4,
 "nbformat_minor": 2
}
