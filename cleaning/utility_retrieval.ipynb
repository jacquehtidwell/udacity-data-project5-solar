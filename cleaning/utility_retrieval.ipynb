{
 "cells": [
  {
   "cell_type": "markdown",
   "metadata": {},
   "source": [
    "# Utility Query"
   ]
  },
  {
   "cell_type": "code",
   "execution_count": 1,
   "metadata": {},
   "outputs": [],
   "source": [
    "import numpy as np\n",
    "import pandas as pd\n",
    "import os\n",
    "\n",
    "import datetime\n",
    "from datetime import datetime"
   ]
  },
  {
   "cell_type": "code",
   "execution_count": 2,
   "metadata": {},
   "outputs": [
    {
     "name": "stdout",
     "output_type": "stream",
     "text": [
      "<class 'pandas.core.frame.DataFrame'>\n",
      "RangeIndex: 2000 entries, 0 to 1999\n",
      "Data columns (total 8 columns):\n",
      "sea_rate_id     2000 non-null object\n",
      "year            2000 non-null object\n",
      "zip             2000 non-null int64\n",
      "utility_id      2000 non-null object\n",
      "service_type    2000 non-null object\n",
      "comm_rate       2000 non-null float64\n",
      "ind_rate        2000 non-null float64\n",
      "res_rate        2000 non-null float64\n",
      "dtypes: float64(3), int64(1), object(4)\n",
      "memory usage: 125.1+ KB\n"
     ]
    }
   ],
   "source": [
    "util_rates = pd.read_csv('clean_data/util_rates_clean.csv', encoding='utf-8')\n",
    "util_rates.info()"
   ]
  },
  {
   "cell_type": "code",
   "execution_count": 3,
   "metadata": {},
   "outputs": [
    {
     "name": "stdout",
     "output_type": "stream",
     "text": [
      "<class 'pandas.core.frame.DataFrame'>\n",
      "RangeIndex: 74 entries, 0 to 73\n",
      "Data columns (total 3 columns):\n",
      "utility_id    74 non-null object\n",
      "name          74 non-null object\n",
      "ownership     74 non-null object\n",
      "dtypes: object(3)\n",
      "memory usage: 1.9+ KB\n"
     ]
    }
   ],
   "source": [
    "utils = pd.read_csv('clean_data/util_clean.csv', encoding='utf-8')\n",
    "utils.info()"
   ]
  },
  {
   "cell_type": "code",
   "execution_count": 4,
   "metadata": {},
   "outputs": [],
   "source": [
    "utils_combined = pd.merge(util_rates, utils, on = 'utility_id', how = 'left')"
   ]
  },
  {
   "cell_type": "code",
   "execution_count": 5,
   "metadata": {},
   "outputs": [
    {
     "data": {
      "text/html": [
       "<div>\n",
       "<style scoped>\n",
       "    .dataframe tbody tr th:only-of-type {\n",
       "        vertical-align: middle;\n",
       "    }\n",
       "\n",
       "    .dataframe tbody tr th {\n",
       "        vertical-align: top;\n",
       "    }\n",
       "\n",
       "    .dataframe thead th {\n",
       "        text-align: right;\n",
       "    }\n",
       "</style>\n",
       "<table border=\"1\" class=\"dataframe\">\n",
       "  <thead>\n",
       "    <tr style=\"text-align: right;\">\n",
       "      <th></th>\n",
       "      <th>sea_rate_id</th>\n",
       "      <th>year</th>\n",
       "      <th>zip</th>\n",
       "      <th>utility_id</th>\n",
       "      <th>service_type</th>\n",
       "      <th>comm_rate</th>\n",
       "      <th>ind_rate</th>\n",
       "      <th>res_rate</th>\n",
       "      <th>name</th>\n",
       "      <th>ownership</th>\n",
       "    </tr>\n",
       "  </thead>\n",
       "  <tbody>\n",
       "    <tr>\n",
       "      <td>734</td>\n",
       "      <td>sea-util-44-rate-30258</td>\n",
       "      <td>2005-06-01 13:33:00</td>\n",
       "      <td>30258</td>\n",
       "      <td>sea-util-44</td>\n",
       "      <td>Bundled</td>\n",
       "      <td>0.095572</td>\n",
       "      <td>0.054794</td>\n",
       "      <td>0.121499</td>\n",
       "      <td>Georgia Power Co</td>\n",
       "      <td>Investor Owned</td>\n",
       "    </tr>\n",
       "    <tr>\n",
       "      <td>1076</td>\n",
       "      <td>sea-util-44-rate-30806</td>\n",
       "      <td>2005-06-01 13:33:00</td>\n",
       "      <td>30806</td>\n",
       "      <td>sea-util-44</td>\n",
       "      <td>Bundled</td>\n",
       "      <td>0.095572</td>\n",
       "      <td>0.054794</td>\n",
       "      <td>0.121499</td>\n",
       "      <td>Georgia Power Co</td>\n",
       "      <td>Investor Owned</td>\n",
       "    </tr>\n",
       "    <tr>\n",
       "      <td>943</td>\n",
       "      <td>sea-util-44-rate-30236</td>\n",
       "      <td>2005-06-01 13:33:00</td>\n",
       "      <td>30236</td>\n",
       "      <td>sea-util-44</td>\n",
       "      <td>Bundled</td>\n",
       "      <td>0.095572</td>\n",
       "      <td>0.054794</td>\n",
       "      <td>0.121499</td>\n",
       "      <td>Georgia Power Co</td>\n",
       "      <td>Investor Owned</td>\n",
       "    </tr>\n",
       "    <tr>\n",
       "      <td>228</td>\n",
       "      <td>sea-util-27-rate-31788</td>\n",
       "      <td>2005-06-01 13:33:00</td>\n",
       "      <td>31788</td>\n",
       "      <td>sea-util-27</td>\n",
       "      <td>Bundled</td>\n",
       "      <td>0.123395</td>\n",
       "      <td>0.101833</td>\n",
       "      <td>0.129987</td>\n",
       "      <td>City of Moultrie - (GA)</td>\n",
       "      <td>Municipal</td>\n",
       "    </tr>\n",
       "    <tr>\n",
       "      <td>244</td>\n",
       "      <td>sea-util-33-rate-31309</td>\n",
       "      <td>2005-06-01 13:33:00</td>\n",
       "      <td>31309</td>\n",
       "      <td>sea-util-33</td>\n",
       "      <td>Bundled</td>\n",
       "      <td>0.113631</td>\n",
       "      <td>0.081518</td>\n",
       "      <td>0.134683</td>\n",
       "      <td>Coastal Electric Member Corp</td>\n",
       "      <td>Cooperative</td>\n",
       "    </tr>\n",
       "  </tbody>\n",
       "</table>\n",
       "</div>"
      ],
      "text/plain": [
       "                 sea_rate_id                 year    zip   utility_id  \\\n",
       "734   sea-util-44-rate-30258  2005-06-01 13:33:00  30258  sea-util-44   \n",
       "1076  sea-util-44-rate-30806  2005-06-01 13:33:00  30806  sea-util-44   \n",
       "943   sea-util-44-rate-30236  2005-06-01 13:33:00  30236  sea-util-44   \n",
       "228   sea-util-27-rate-31788  2005-06-01 13:33:00  31788  sea-util-27   \n",
       "244   sea-util-33-rate-31309  2005-06-01 13:33:00  31309  sea-util-33   \n",
       "\n",
       "     service_type  comm_rate  ind_rate  res_rate  \\\n",
       "734       Bundled   0.095572  0.054794  0.121499   \n",
       "1076      Bundled   0.095572  0.054794  0.121499   \n",
       "943       Bundled   0.095572  0.054794  0.121499   \n",
       "228       Bundled   0.123395  0.101833  0.129987   \n",
       "244       Bundled   0.113631  0.081518  0.134683   \n",
       "\n",
       "                              name       ownership  \n",
       "734               Georgia Power Co  Investor Owned  \n",
       "1076              Georgia Power Co  Investor Owned  \n",
       "943               Georgia Power Co  Investor Owned  \n",
       "228        City of Moultrie - (GA)       Municipal  \n",
       "244   Coastal Electric Member Corp     Cooperative  "
      ]
     },
     "execution_count": 5,
     "metadata": {},
     "output_type": "execute_result"
    }
   ],
   "source": [
    "utils_combined.sample(5)"
   ]
  },
  {
   "cell_type": "code",
   "execution_count": 6,
   "metadata": {},
   "outputs": [
    {
     "name": "stdout",
     "output_type": "stream",
     "text": [
      "<class 'pandas.core.frame.DataFrame'>\n",
      "Int64Index: 2000 entries, 0 to 1999\n",
      "Data columns (total 10 columns):\n",
      "sea_rate_id     2000 non-null object\n",
      "year            2000 non-null object\n",
      "zip             2000 non-null int64\n",
      "utility_id      2000 non-null object\n",
      "service_type    2000 non-null object\n",
      "comm_rate       2000 non-null float64\n",
      "ind_rate        2000 non-null float64\n",
      "res_rate        2000 non-null float64\n",
      "name            2000 non-null object\n",
      "ownership       2000 non-null object\n",
      "dtypes: float64(3), int64(1), object(6)\n",
      "memory usage: 171.9+ KB\n"
     ]
    }
   ],
   "source": [
    "utils_combined.info()"
   ]
  },
  {
   "cell_type": "code",
   "execution_count": 7,
   "metadata": {},
   "outputs": [
    {
     "name": "stdout",
     "output_type": "stream",
     "text": [
      "<class 'pandas.core.frame.DataFrame'>\n",
      "RangeIndex: 1515 entries, 0 to 1514\n",
      "Data columns (total 2 columns):\n",
      "zip        1515 non-null int64\n",
      "utility    0 non-null float64\n",
      "dtypes: float64(1), int64(1)\n",
      "memory usage: 23.8 KB\n"
     ]
    }
   ],
   "source": [
    "utils_needed = pd.read_csv('utilities_needed.csv', encoding='utf-8')\n",
    "utils_needed.info()"
   ]
  },
  {
   "cell_type": "code",
   "execution_count": 8,
   "metadata": {},
   "outputs": [],
   "source": [
    "utils_identified = pd.merge(utils_needed, utils_combined, on = 'zip', how = 'left')"
   ]
  },
  {
   "cell_type": "code",
   "execution_count": 9,
   "metadata": {},
   "outputs": [
    {
     "data": {
      "text/html": [
       "<div>\n",
       "<style scoped>\n",
       "    .dataframe tbody tr th:only-of-type {\n",
       "        vertical-align: middle;\n",
       "    }\n",
       "\n",
       "    .dataframe tbody tr th {\n",
       "        vertical-align: top;\n",
       "    }\n",
       "\n",
       "    .dataframe thead th {\n",
       "        text-align: right;\n",
       "    }\n",
       "</style>\n",
       "<table border=\"1\" class=\"dataframe\">\n",
       "  <thead>\n",
       "    <tr style=\"text-align: right;\">\n",
       "      <th></th>\n",
       "      <th>zip</th>\n",
       "      <th>utility</th>\n",
       "      <th>sea_rate_id</th>\n",
       "      <th>year</th>\n",
       "      <th>utility_id</th>\n",
       "      <th>service_type</th>\n",
       "      <th>comm_rate</th>\n",
       "      <th>ind_rate</th>\n",
       "      <th>res_rate</th>\n",
       "      <th>name</th>\n",
       "      <th>ownership</th>\n",
       "    </tr>\n",
       "  </thead>\n",
       "  <tbody>\n",
       "    <tr>\n",
       "      <td>883</td>\n",
       "      <td>30738</td>\n",
       "      <td>NaN</td>\n",
       "      <td>sea-util-15-rate-30738</td>\n",
       "      <td>2005-06-01 13:33:00</td>\n",
       "      <td>sea-util-15</td>\n",
       "      <td>Bundled</td>\n",
       "      <td>0.113592</td>\n",
       "      <td>0.093736</td>\n",
       "      <td>0.103958</td>\n",
       "      <td>City of Chattanooga - (TN)</td>\n",
       "      <td>Municipal</td>\n",
       "    </tr>\n",
       "    <tr>\n",
       "      <td>3327</td>\n",
       "      <td>30286</td>\n",
       "      <td>NaN</td>\n",
       "      <td>sea-util-30-rate-30286</td>\n",
       "      <td>2005-06-01 13:33:00</td>\n",
       "      <td>sea-util-30</td>\n",
       "      <td>Bundled</td>\n",
       "      <td>0.118000</td>\n",
       "      <td>0.076559</td>\n",
       "      <td>0.113870</td>\n",
       "      <td>City of Thomaston - (GA)</td>\n",
       "      <td>Municipal</td>\n",
       "    </tr>\n",
       "    <tr>\n",
       "      <td>182</td>\n",
       "      <td>31061</td>\n",
       "      <td>NaN</td>\n",
       "      <td>sea-util-70-rate-31061</td>\n",
       "      <td>2005-06-01 13:33:00</td>\n",
       "      <td>sea-util-70</td>\n",
       "      <td>Bundled</td>\n",
       "      <td>0.110077</td>\n",
       "      <td>0.056867</td>\n",
       "      <td>0.111876</td>\n",
       "      <td>Tri-County Elec Member Corp</td>\n",
       "      <td>Cooperative</td>\n",
       "    </tr>\n",
       "    <tr>\n",
       "      <td>2033</td>\n",
       "      <td>30022</td>\n",
       "      <td>NaN</td>\n",
       "      <td>sea-util-64-rate-30022</td>\n",
       "      <td>2005-06-01 13:33:00</td>\n",
       "      <td>sea-util-64</td>\n",
       "      <td>Bundled</td>\n",
       "      <td>0.095710</td>\n",
       "      <td>0.069908</td>\n",
       "      <td>0.098491</td>\n",
       "      <td>Sawnee Electric Membership Corporation</td>\n",
       "      <td>Cooperative</td>\n",
       "    </tr>\n",
       "    <tr>\n",
       "      <td>1564</td>\n",
       "      <td>30566</td>\n",
       "      <td>NaN</td>\n",
       "      <td>sea-util-51-rate-30566</td>\n",
       "      <td>2005-06-01 13:33:00</td>\n",
       "      <td>sea-util-51</td>\n",
       "      <td>Bundled</td>\n",
       "      <td>0.102445</td>\n",
       "      <td>0.066882</td>\n",
       "      <td>0.101936</td>\n",
       "      <td>Jackson Electric Member Corp - (GA)</td>\n",
       "      <td>Cooperative</td>\n",
       "    </tr>\n",
       "  </tbody>\n",
       "</table>\n",
       "</div>"
      ],
      "text/plain": [
       "        zip  utility             sea_rate_id                 year  \\\n",
       "883   30738      NaN  sea-util-15-rate-30738  2005-06-01 13:33:00   \n",
       "3327  30286      NaN  sea-util-30-rate-30286  2005-06-01 13:33:00   \n",
       "182   31061      NaN  sea-util-70-rate-31061  2005-06-01 13:33:00   \n",
       "2033  30022      NaN  sea-util-64-rate-30022  2005-06-01 13:33:00   \n",
       "1564  30566      NaN  sea-util-51-rate-30566  2005-06-01 13:33:00   \n",
       "\n",
       "       utility_id service_type  comm_rate  ind_rate  res_rate  \\\n",
       "883   sea-util-15      Bundled   0.113592  0.093736  0.103958   \n",
       "3327  sea-util-30      Bundled   0.118000  0.076559  0.113870   \n",
       "182   sea-util-70      Bundled   0.110077  0.056867  0.111876   \n",
       "2033  sea-util-64      Bundled   0.095710  0.069908  0.098491   \n",
       "1564  sea-util-51      Bundled   0.102445  0.066882  0.101936   \n",
       "\n",
       "                                        name    ownership  \n",
       "883               City of Chattanooga - (TN)    Municipal  \n",
       "3327                City of Thomaston - (GA)    Municipal  \n",
       "182              Tri-County Elec Member Corp  Cooperative  \n",
       "2033  Sawnee Electric Membership Corporation  Cooperative  \n",
       "1564     Jackson Electric Member Corp - (GA)  Cooperative  "
      ]
     },
     "execution_count": 9,
     "metadata": {},
     "output_type": "execute_result"
    }
   ],
   "source": [
    "utils_identified.sample(5)"
   ]
  },
  {
   "cell_type": "code",
   "execution_count": 10,
   "metadata": {},
   "outputs": [
    {
     "name": "stdout",
     "output_type": "stream",
     "text": [
      "<class 'pandas.core.frame.DataFrame'>\n",
      "Int64Index: 3747 entries, 0 to 3746\n",
      "Data columns (total 11 columns):\n",
      "zip             3747 non-null int64\n",
      "utility         0 non-null float64\n",
      "sea_rate_id     3743 non-null object\n",
      "year            3743 non-null object\n",
      "utility_id      3743 non-null object\n",
      "service_type    3743 non-null object\n",
      "comm_rate       3743 non-null float64\n",
      "ind_rate        3743 non-null float64\n",
      "res_rate        3743 non-null float64\n",
      "name            3743 non-null object\n",
      "ownership       3743 non-null object\n",
      "dtypes: float64(4), int64(1), object(6)\n",
      "memory usage: 351.3+ KB\n"
     ]
    }
   ],
   "source": [
    "utils_identified.info()"
   ]
  },
  {
   "cell_type": "code",
   "execution_count": 11,
   "metadata": {},
   "outputs": [
    {
     "data": {
      "text/plain": [
       "3337"
      ]
     },
     "execution_count": 11,
     "metadata": {},
     "output_type": "execute_result"
    }
   ],
   "source": [
    "utils_identified['zip'].duplicated().sum()"
   ]
  },
  {
   "cell_type": "code",
   "execution_count": 12,
   "metadata": {},
   "outputs": [
    {
     "data": {
      "text/html": [
       "<div>\n",
       "<style scoped>\n",
       "    .dataframe tbody tr th:only-of-type {\n",
       "        vertical-align: middle;\n",
       "    }\n",
       "\n",
       "    .dataframe tbody tr th {\n",
       "        vertical-align: top;\n",
       "    }\n",
       "\n",
       "    .dataframe thead th {\n",
       "        text-align: right;\n",
       "    }\n",
       "</style>\n",
       "<table border=\"1\" class=\"dataframe\">\n",
       "  <thead>\n",
       "    <tr style=\"text-align: right;\">\n",
       "      <th></th>\n",
       "      <th>zip</th>\n",
       "      <th>utility</th>\n",
       "      <th>sea_rate_id</th>\n",
       "      <th>year</th>\n",
       "      <th>utility_id</th>\n",
       "      <th>service_type</th>\n",
       "      <th>comm_rate</th>\n",
       "      <th>ind_rate</th>\n",
       "      <th>res_rate</th>\n",
       "      <th>name</th>\n",
       "      <th>ownership</th>\n",
       "    </tr>\n",
       "  </thead>\n",
       "  <tbody>\n",
       "    <tr>\n",
       "      <td>1</td>\n",
       "      <td>30318</td>\n",
       "      <td>NaN</td>\n",
       "      <td>sea-util-44-rate-30318</td>\n",
       "      <td>2005-06-01 13:33:00</td>\n",
       "      <td>sea-util-44</td>\n",
       "      <td>Bundled</td>\n",
       "      <td>0.095572</td>\n",
       "      <td>0.054794</td>\n",
       "      <td>0.121499</td>\n",
       "      <td>Georgia Power Co</td>\n",
       "      <td>Investor Owned</td>\n",
       "    </tr>\n",
       "    <tr>\n",
       "      <td>3</td>\n",
       "      <td>30240</td>\n",
       "      <td>NaN</td>\n",
       "      <td>sea-util-23-rate-30240</td>\n",
       "      <td>2005-06-01 13:33:00</td>\n",
       "      <td>sea-util-23</td>\n",
       "      <td>Bundled</td>\n",
       "      <td>0.098476</td>\n",
       "      <td>0.070138</td>\n",
       "      <td>0.111667</td>\n",
       "      <td>City of La Grange - (GA)</td>\n",
       "      <td>Municipal</td>\n",
       "    </tr>\n",
       "    <tr>\n",
       "      <td>4</td>\n",
       "      <td>30240</td>\n",
       "      <td>NaN</td>\n",
       "      <td>sea-util-39-rate-30240</td>\n",
       "      <td>2005-06-01 13:33:00</td>\n",
       "      <td>sea-util-39</td>\n",
       "      <td>Bundled</td>\n",
       "      <td>0.123496</td>\n",
       "      <td>0.062373</td>\n",
       "      <td>0.120871</td>\n",
       "      <td>Diverse Power Incorporated</td>\n",
       "      <td>Cooperative</td>\n",
       "    </tr>\n",
       "    <tr>\n",
       "      <td>5</td>\n",
       "      <td>30240</td>\n",
       "      <td>NaN</td>\n",
       "      <td>sea-util-44-rate-30240</td>\n",
       "      <td>2005-06-01 13:33:00</td>\n",
       "      <td>sea-util-44</td>\n",
       "      <td>Bundled</td>\n",
       "      <td>0.095572</td>\n",
       "      <td>0.054794</td>\n",
       "      <td>0.121499</td>\n",
       "      <td>Georgia Power Co</td>\n",
       "      <td>Investor Owned</td>\n",
       "    </tr>\n",
       "    <tr>\n",
       "      <td>7</td>\n",
       "      <td>30064</td>\n",
       "      <td>NaN</td>\n",
       "      <td>sea-util-34-rate-30064</td>\n",
       "      <td>2005-06-01 13:33:00</td>\n",
       "      <td>sea-util-34</td>\n",
       "      <td>Bundled</td>\n",
       "      <td>0.096382</td>\n",
       "      <td>0.070922</td>\n",
       "      <td>0.104942</td>\n",
       "      <td>Cobb Electric Membership Corp</td>\n",
       "      <td>Cooperative</td>\n",
       "    </tr>\n",
       "    <tr>\n",
       "      <td>...</td>\n",
       "      <td>...</td>\n",
       "      <td>...</td>\n",
       "      <td>...</td>\n",
       "      <td>...</td>\n",
       "      <td>...</td>\n",
       "      <td>...</td>\n",
       "      <td>...</td>\n",
       "      <td>...</td>\n",
       "      <td>...</td>\n",
       "      <td>...</td>\n",
       "      <td>...</td>\n",
       "    </tr>\n",
       "    <tr>\n",
       "      <td>3741</td>\n",
       "      <td>30810</td>\n",
       "      <td>NaN</td>\n",
       "      <td>sea-util-52-rate-30810</td>\n",
       "      <td>2005-06-01 13:33:00</td>\n",
       "      <td>sea-util-52</td>\n",
       "      <td>Bundled</td>\n",
       "      <td>0.123904</td>\n",
       "      <td>0.092472</td>\n",
       "      <td>0.124166</td>\n",
       "      <td>Jefferson Electric Member Corp</td>\n",
       "      <td>Cooperative</td>\n",
       "    </tr>\n",
       "    <tr>\n",
       "      <td>3742</td>\n",
       "      <td>30810</td>\n",
       "      <td>NaN</td>\n",
       "      <td>sea-util-74-rate-30810</td>\n",
       "      <td>2005-06-01 13:33:00</td>\n",
       "      <td>sea-util-74</td>\n",
       "      <td>Bundled</td>\n",
       "      <td>0.103509</td>\n",
       "      <td>0.070552</td>\n",
       "      <td>0.118870</td>\n",
       "      <td>Washington Elec Member Corp</td>\n",
       "      <td>Cooperative</td>\n",
       "    </tr>\n",
       "    <tr>\n",
       "      <td>3744</td>\n",
       "      <td>30017</td>\n",
       "      <td>NaN</td>\n",
       "      <td>sea-util-44-rate-30017</td>\n",
       "      <td>2005-06-01 13:33:00</td>\n",
       "      <td>sea-util-44</td>\n",
       "      <td>Bundled</td>\n",
       "      <td>0.095572</td>\n",
       "      <td>0.054794</td>\n",
       "      <td>0.121499</td>\n",
       "      <td>Georgia Power Co</td>\n",
       "      <td>Investor Owned</td>\n",
       "    </tr>\n",
       "    <tr>\n",
       "      <td>3745</td>\n",
       "      <td>30017</td>\n",
       "      <td>NaN</td>\n",
       "      <td>sea-util-51-rate-30017</td>\n",
       "      <td>2005-06-01 13:33:00</td>\n",
       "      <td>sea-util-51</td>\n",
       "      <td>Bundled</td>\n",
       "      <td>0.102445</td>\n",
       "      <td>0.066882</td>\n",
       "      <td>0.101936</td>\n",
       "      <td>Jackson Electric Member Corp - (GA)</td>\n",
       "      <td>Cooperative</td>\n",
       "    </tr>\n",
       "    <tr>\n",
       "      <td>3746</td>\n",
       "      <td>30017</td>\n",
       "      <td>NaN</td>\n",
       "      <td>sea-util-73-rate-30017</td>\n",
       "      <td>2005-06-01 13:33:00</td>\n",
       "      <td>sea-util-73</td>\n",
       "      <td>Bundled</td>\n",
       "      <td>0.105698</td>\n",
       "      <td>0.072268</td>\n",
       "      <td>0.105168</td>\n",
       "      <td>Walton Electric Member Corp</td>\n",
       "      <td>Cooperative</td>\n",
       "    </tr>\n",
       "  </tbody>\n",
       "</table>\n",
       "<p>3337 rows × 11 columns</p>\n",
       "</div>"
      ],
      "text/plain": [
       "        zip  utility             sea_rate_id                 year  \\\n",
       "1     30318      NaN  sea-util-44-rate-30318  2005-06-01 13:33:00   \n",
       "3     30240      NaN  sea-util-23-rate-30240  2005-06-01 13:33:00   \n",
       "4     30240      NaN  sea-util-39-rate-30240  2005-06-01 13:33:00   \n",
       "5     30240      NaN  sea-util-44-rate-30240  2005-06-01 13:33:00   \n",
       "7     30064      NaN  sea-util-34-rate-30064  2005-06-01 13:33:00   \n",
       "...     ...      ...                     ...                  ...   \n",
       "3741  30810      NaN  sea-util-52-rate-30810  2005-06-01 13:33:00   \n",
       "3742  30810      NaN  sea-util-74-rate-30810  2005-06-01 13:33:00   \n",
       "3744  30017      NaN  sea-util-44-rate-30017  2005-06-01 13:33:00   \n",
       "3745  30017      NaN  sea-util-51-rate-30017  2005-06-01 13:33:00   \n",
       "3746  30017      NaN  sea-util-73-rate-30017  2005-06-01 13:33:00   \n",
       "\n",
       "       utility_id service_type  comm_rate  ind_rate  res_rate  \\\n",
       "1     sea-util-44      Bundled   0.095572  0.054794  0.121499   \n",
       "3     sea-util-23      Bundled   0.098476  0.070138  0.111667   \n",
       "4     sea-util-39      Bundled   0.123496  0.062373  0.120871   \n",
       "5     sea-util-44      Bundled   0.095572  0.054794  0.121499   \n",
       "7     sea-util-34      Bundled   0.096382  0.070922  0.104942   \n",
       "...           ...          ...        ...       ...       ...   \n",
       "3741  sea-util-52      Bundled   0.123904  0.092472  0.124166   \n",
       "3742  sea-util-74      Bundled   0.103509  0.070552  0.118870   \n",
       "3744  sea-util-44      Bundled   0.095572  0.054794  0.121499   \n",
       "3745  sea-util-51      Bundled   0.102445  0.066882  0.101936   \n",
       "3746  sea-util-73      Bundled   0.105698  0.072268  0.105168   \n",
       "\n",
       "                                     name       ownership  \n",
       "1                        Georgia Power Co  Investor Owned  \n",
       "3                City of La Grange - (GA)       Municipal  \n",
       "4              Diverse Power Incorporated     Cooperative  \n",
       "5                        Georgia Power Co  Investor Owned  \n",
       "7           Cobb Electric Membership Corp     Cooperative  \n",
       "...                                   ...             ...  \n",
       "3741       Jefferson Electric Member Corp     Cooperative  \n",
       "3742          Washington Elec Member Corp     Cooperative  \n",
       "3744                     Georgia Power Co  Investor Owned  \n",
       "3745  Jackson Electric Member Corp - (GA)     Cooperative  \n",
       "3746          Walton Electric Member Corp     Cooperative  \n",
       "\n",
       "[3337 rows x 11 columns]"
      ]
     },
     "execution_count": 12,
     "metadata": {},
     "output_type": "execute_result"
    }
   ],
   "source": [
    "utils_identified[utils_identified['zip'].duplicated()]"
   ]
  },
  {
   "cell_type": "code",
   "execution_count": 13,
   "metadata": {},
   "outputs": [],
   "source": [
    "utils_identified.drop_duplicates(keep=False,inplace=True) "
   ]
  },
  {
   "cell_type": "code",
   "execution_count": 14,
   "metadata": {},
   "outputs": [
    {
     "name": "stdout",
     "output_type": "stream",
     "text": [
      "<class 'pandas.core.frame.DataFrame'>\n",
      "Int64Index: 364 entries, 19 to 3746\n",
      "Data columns (total 11 columns):\n",
      "zip             364 non-null int64\n",
      "utility         0 non-null float64\n",
      "sea_rate_id     360 non-null object\n",
      "year            360 non-null object\n",
      "utility_id      360 non-null object\n",
      "service_type    360 non-null object\n",
      "comm_rate       360 non-null float64\n",
      "ind_rate        360 non-null float64\n",
      "res_rate        360 non-null float64\n",
      "name            360 non-null object\n",
      "ownership       360 non-null object\n",
      "dtypes: float64(4), int64(1), object(6)\n",
      "memory usage: 34.1+ KB\n"
     ]
    }
   ],
   "source": [
    "utils_identified.info()"
   ]
  },
  {
   "cell_type": "code",
   "execution_count": 15,
   "metadata": {},
   "outputs": [],
   "source": [
    "utils_identified.drop([\"utility\",\"sea_rate_id\",\"year\",\"utility_id\",\"service_type\",\"comm_rate\",\"ind_rate\",\"res_rate\",\"ownership\"], axis = 1, inplace = True) "
   ]
  },
  {
   "cell_type": "code",
   "execution_count": 16,
   "metadata": {},
   "outputs": [
    {
     "data": {
      "text/plain": [
       "zip     0\n",
       "name    4\n",
       "dtype: int64"
      ]
     },
     "execution_count": 16,
     "metadata": {},
     "output_type": "execute_result"
    }
   ],
   "source": [
    "utils_identified.isnull().sum()"
   ]
  },
  {
   "cell_type": "code",
   "execution_count": 17,
   "metadata": {},
   "outputs": [
    {
     "data": {
      "text/html": [
       "<div>\n",
       "<style scoped>\n",
       "    .dataframe tbody tr th:only-of-type {\n",
       "        vertical-align: middle;\n",
       "    }\n",
       "\n",
       "    .dataframe tbody tr th {\n",
       "        vertical-align: top;\n",
       "    }\n",
       "\n",
       "    .dataframe thead th {\n",
       "        text-align: right;\n",
       "    }\n",
       "</style>\n",
       "<table border=\"1\" class=\"dataframe\">\n",
       "  <thead>\n",
       "    <tr style=\"text-align: right;\">\n",
       "      <th></th>\n",
       "      <th>zip</th>\n",
       "      <th>name</th>\n",
       "    </tr>\n",
       "  </thead>\n",
       "  <tbody>\n",
       "    <tr>\n",
       "      <td>99</td>\n",
       "      <td>32021</td>\n",
       "      <td>NaN</td>\n",
       "    </tr>\n",
       "    <tr>\n",
       "      <td>932</td>\n",
       "      <td>31350</td>\n",
       "      <td>NaN</td>\n",
       "    </tr>\n",
       "    <tr>\n",
       "      <td>2186</td>\n",
       "      <td>30155</td>\n",
       "      <td>NaN</td>\n",
       "    </tr>\n",
       "    <tr>\n",
       "      <td>2683</td>\n",
       "      <td>31504</td>\n",
       "      <td>NaN</td>\n",
       "    </tr>\n",
       "  </tbody>\n",
       "</table>\n",
       "</div>"
      ],
      "text/plain": [
       "        zip name\n",
       "99    32021  NaN\n",
       "932   31350  NaN\n",
       "2186  30155  NaN\n",
       "2683  31504  NaN"
      ]
     },
     "execution_count": 17,
     "metadata": {},
     "output_type": "execute_result"
    }
   ],
   "source": [
    "utils_identified[utils_identified['name'].isnull()]"
   ]
  },
  {
   "cell_type": "code",
   "execution_count": 18,
   "metadata": {},
   "outputs": [],
   "source": [
    "utils_identified = utils_identified.dropna()"
   ]
  },
  {
   "cell_type": "code",
   "execution_count": 19,
   "metadata": {},
   "outputs": [
    {
     "name": "stdout",
     "output_type": "stream",
     "text": [
      "<class 'pandas.core.frame.DataFrame'>\n",
      "Int64Index: 360 entries, 19 to 3746\n",
      "Data columns (total 2 columns):\n",
      "zip     360 non-null int64\n",
      "name    360 non-null object\n",
      "dtypes: int64(1), object(1)\n",
      "memory usage: 8.4+ KB\n"
     ]
    }
   ],
   "source": [
    "utils_identified.info()"
   ]
  },
  {
   "cell_type": "code",
   "execution_count": 20,
   "metadata": {},
   "outputs": [
    {
     "data": {
      "text/plain": [
       "0"
      ]
     },
     "execution_count": 20,
     "metadata": {},
     "output_type": "execute_result"
    }
   ],
   "source": [
    "utils_identified.duplicated().sum()"
   ]
  },
  {
   "cell_type": "code",
   "execution_count": 21,
   "metadata": {},
   "outputs": [],
   "source": [
    "utils_identified['utility'] = utils_identified['name']"
   ]
  },
  {
   "cell_type": "code",
   "execution_count": 22,
   "metadata": {},
   "outputs": [
    {
     "name": "stdout",
     "output_type": "stream",
     "text": [
      "<class 'pandas.core.frame.DataFrame'>\n",
      "Int64Index: 360 entries, 19 to 3746\n",
      "Data columns (total 3 columns):\n",
      "zip        360 non-null int64\n",
      "name       360 non-null object\n",
      "utility    360 non-null object\n",
      "dtypes: int64(1), object(2)\n",
      "memory usage: 11.2+ KB\n"
     ]
    }
   ],
   "source": [
    "utils_identified.info()"
   ]
  },
  {
   "cell_type": "code",
   "execution_count": 23,
   "metadata": {},
   "outputs": [],
   "source": [
    "utils_identified.drop([\"name\"], axis = 1, inplace = True) "
   ]
  },
  {
   "cell_type": "code",
   "execution_count": 24,
   "metadata": {},
   "outputs": [],
   "source": [
    "utils_identified.to_csv('utils_identified.csv', encoding='utf-8', index=False)"
   ]
  },
  {
   "cell_type": "code",
   "execution_count": null,
   "metadata": {},
   "outputs": [],
   "source": []
  }
 ],
 "metadata": {
  "kernelspec": {
   "display_name": "Python 3",
   "language": "python",
   "name": "python3"
  },
  "language_info": {
   "codemirror_mode": {
    "name": "ipython",
    "version": 3
   },
   "file_extension": ".py",
   "mimetype": "text/x-python",
   "name": "python",
   "nbconvert_exporter": "python",
   "pygments_lexer": "ipython3",
   "version": "3.7.4"
  }
 },
 "nbformat": 4,
 "nbformat_minor": 2
}
