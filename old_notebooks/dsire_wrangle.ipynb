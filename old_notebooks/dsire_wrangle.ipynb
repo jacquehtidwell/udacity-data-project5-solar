{
 "cells": [
  {
   "cell_type": "code",
   "execution_count": 20,
   "metadata": {},
   "outputs": [],
   "source": [
    "import requests\n",
    "import numpy as np\n",
    "import pandas as pd\n",
    "import os\n",
    "\n",
    "import matplotlib.pyplot as plt\n",
    "%matplotlib inline\n",
    "from matplotlib import cm as cm\n",
    "\n",
    "import seaborn as sns \n",
    "import datetime\n",
    "from datetime import datetime"
   ]
  },
  {
   "cell_type": "markdown",
   "metadata": {},
   "source": [
    "# 1 Data Gathering - SolarView\n",
    "\n",
    "https://github.com/social-energy-atlas/solarview-data\n",
    "\n",
    "## 1.1 Installations"
   ]
  },
  {
   "cell_type": "markdown",
   "metadata": {},
   "source": [
    "## 1.5 DSIRE Incentive Counts"
   ]
  },
  {
   "cell_type": "code",
   "execution_count": 21,
   "metadata": {},
   "outputs": [
    {
     "data": {
      "text/html": [
       "<div>\n",
       "<style scoped>\n",
       "    .dataframe tbody tr th:only-of-type {\n",
       "        vertical-align: middle;\n",
       "    }\n",
       "\n",
       "    .dataframe tbody tr th {\n",
       "        vertical-align: top;\n",
       "    }\n",
       "\n",
       "    .dataframe thead th {\n",
       "        text-align: right;\n",
       "    }\n",
       "</style>\n",
       "<table border=\"1\" class=\"dataframe\">\n",
       "  <thead>\n",
       "    <tr style=\"text-align: right;\">\n",
       "      <th></th>\n",
       "      <th>fips</th>\n",
       "      <th>fed-total</th>\n",
       "      <th>fed-fin-incent-total</th>\n",
       "      <th>fed-fin-incent-corp-deprec</th>\n",
       "      <th>fed-fin-incent-corp-tax-credit</th>\n",
       "      <th>fed-fin-incent-corp-tax-deduction</th>\n",
       "      <th>fed-fin-incent-corp-tax-exemption</th>\n",
       "      <th>fed-fin-incent-grant-prog</th>\n",
       "      <th>fed-fin-incent-loan-prog</th>\n",
       "      <th>fed-fin-incent-pers-tax-credit</th>\n",
       "      <th>...</th>\n",
       "      <th>state-reg-policy</th>\n",
       "      <th>state-reg-policy-build-energy-code</th>\n",
       "      <th>state-reg-policy-energy-stand-build</th>\n",
       "      <th>state-reg-policy-interconn</th>\n",
       "      <th>state-reg-policy-net-metering</th>\n",
       "      <th>state-reg-policy-solar-wind-access</th>\n",
       "      <th>state-tech-res</th>\n",
       "      <th>state-tech-res-energy-analysis</th>\n",
       "      <th>state-tech-res-other</th>\n",
       "      <th>state-tech-res-training-info</th>\n",
       "    </tr>\n",
       "  </thead>\n",
       "  <tbody>\n",
       "    <tr>\n",
       "      <th>0</th>\n",
       "      <td>13001</td>\n",
       "      <td>41</td>\n",
       "      <td>24</td>\n",
       "      <td>1</td>\n",
       "      <td>2</td>\n",
       "      <td>1</td>\n",
       "      <td>2</td>\n",
       "      <td>7</td>\n",
       "      <td>8</td>\n",
       "      <td>2</td>\n",
       "      <td>...</td>\n",
       "      <td>4</td>\n",
       "      <td>1</td>\n",
       "      <td>NaN</td>\n",
       "      <td>1</td>\n",
       "      <td>1</td>\n",
       "      <td>1</td>\n",
       "      <td>5</td>\n",
       "      <td>4</td>\n",
       "      <td>0</td>\n",
       "      <td>1</td>\n",
       "    </tr>\n",
       "    <tr>\n",
       "      <th>1</th>\n",
       "      <td>13003</td>\n",
       "      <td>41</td>\n",
       "      <td>24</td>\n",
       "      <td>1</td>\n",
       "      <td>2</td>\n",
       "      <td>1</td>\n",
       "      <td>2</td>\n",
       "      <td>7</td>\n",
       "      <td>8</td>\n",
       "      <td>2</td>\n",
       "      <td>...</td>\n",
       "      <td>4</td>\n",
       "      <td>1</td>\n",
       "      <td>NaN</td>\n",
       "      <td>1</td>\n",
       "      <td>1</td>\n",
       "      <td>1</td>\n",
       "      <td>5</td>\n",
       "      <td>4</td>\n",
       "      <td>0</td>\n",
       "      <td>1</td>\n",
       "    </tr>\n",
       "    <tr>\n",
       "      <th>2</th>\n",
       "      <td>13005</td>\n",
       "      <td>41</td>\n",
       "      <td>24</td>\n",
       "      <td>1</td>\n",
       "      <td>2</td>\n",
       "      <td>1</td>\n",
       "      <td>2</td>\n",
       "      <td>7</td>\n",
       "      <td>8</td>\n",
       "      <td>2</td>\n",
       "      <td>...</td>\n",
       "      <td>4</td>\n",
       "      <td>1</td>\n",
       "      <td>NaN</td>\n",
       "      <td>1</td>\n",
       "      <td>1</td>\n",
       "      <td>1</td>\n",
       "      <td>5</td>\n",
       "      <td>4</td>\n",
       "      <td>0</td>\n",
       "      <td>1</td>\n",
       "    </tr>\n",
       "    <tr>\n",
       "      <th>3</th>\n",
       "      <td>13007</td>\n",
       "      <td>41</td>\n",
       "      <td>24</td>\n",
       "      <td>1</td>\n",
       "      <td>2</td>\n",
       "      <td>1</td>\n",
       "      <td>2</td>\n",
       "      <td>7</td>\n",
       "      <td>8</td>\n",
       "      <td>2</td>\n",
       "      <td>...</td>\n",
       "      <td>4</td>\n",
       "      <td>1</td>\n",
       "      <td>NaN</td>\n",
       "      <td>1</td>\n",
       "      <td>1</td>\n",
       "      <td>1</td>\n",
       "      <td>5</td>\n",
       "      <td>4</td>\n",
       "      <td>0</td>\n",
       "      <td>1</td>\n",
       "    </tr>\n",
       "    <tr>\n",
       "      <th>4</th>\n",
       "      <td>13009</td>\n",
       "      <td>41</td>\n",
       "      <td>24</td>\n",
       "      <td>1</td>\n",
       "      <td>2</td>\n",
       "      <td>1</td>\n",
       "      <td>2</td>\n",
       "      <td>7</td>\n",
       "      <td>8</td>\n",
       "      <td>2</td>\n",
       "      <td>...</td>\n",
       "      <td>4</td>\n",
       "      <td>1</td>\n",
       "      <td>NaN</td>\n",
       "      <td>1</td>\n",
       "      <td>1</td>\n",
       "      <td>1</td>\n",
       "      <td>5</td>\n",
       "      <td>4</td>\n",
       "      <td>0</td>\n",
       "      <td>1</td>\n",
       "    </tr>\n",
       "  </tbody>\n",
       "</table>\n",
       "<p>5 rows × 38 columns</p>\n",
       "</div>"
      ],
      "text/plain": [
       "    fips  fed-total  fed-fin-incent-total  fed-fin-incent-corp-deprec  \\\n",
       "0  13001         41                    24                           1   \n",
       "1  13003         41                    24                           1   \n",
       "2  13005         41                    24                           1   \n",
       "3  13007         41                    24                           1   \n",
       "4  13009         41                    24                           1   \n",
       "\n",
       "   fed-fin-incent-corp-tax-credit  fed-fin-incent-corp-tax-deduction  \\\n",
       "0                               2                                  1   \n",
       "1                               2                                  1   \n",
       "2                               2                                  1   \n",
       "3                               2                                  1   \n",
       "4                               2                                  1   \n",
       "\n",
       "   fed-fin-incent-corp-tax-exemption  fed-fin-incent-grant-prog  \\\n",
       "0                                  2                          7   \n",
       "1                                  2                          7   \n",
       "2                                  2                          7   \n",
       "3                                  2                          7   \n",
       "4                                  2                          7   \n",
       "\n",
       "   fed-fin-incent-loan-prog  fed-fin-incent-pers-tax-credit  ...  \\\n",
       "0                         8                               2  ...   \n",
       "1                         8                               2  ...   \n",
       "2                         8                               2  ...   \n",
       "3                         8                               2  ...   \n",
       "4                         8                               2  ...   \n",
       "\n",
       "   state-reg-policy  state-reg-policy-build-energy-code  \\\n",
       "0                 4                                   1   \n",
       "1                 4                                   1   \n",
       "2                 4                                   1   \n",
       "3                 4                                   1   \n",
       "4                 4                                   1   \n",
       "\n",
       "   state-reg-policy-energy-stand-build  state-reg-policy-interconn  \\\n",
       "0                                  NaN                           1   \n",
       "1                                  NaN                           1   \n",
       "2                                  NaN                           1   \n",
       "3                                  NaN                           1   \n",
       "4                                  NaN                           1   \n",
       "\n",
       "   state-reg-policy-net-metering  state-reg-policy-solar-wind-access  \\\n",
       "0                              1                                   1   \n",
       "1                              1                                   1   \n",
       "2                              1                                   1   \n",
       "3                              1                                   1   \n",
       "4                              1                                   1   \n",
       "\n",
       "   state-tech-res  state-tech-res-energy-analysis  state-tech-res-other  \\\n",
       "0               5                               4                     0   \n",
       "1               5                               4                     0   \n",
       "2               5                               4                     0   \n",
       "3               5                               4                     0   \n",
       "4               5                               4                     0   \n",
       "\n",
       "   state-tech-res-training-info  \n",
       "0                             1  \n",
       "1                             1  \n",
       "2                             1  \n",
       "3                             1  \n",
       "4                             1  \n",
       "\n",
       "[5 rows x 38 columns]"
      ]
     },
     "execution_count": 21,
     "metadata": {},
     "output_type": "execute_result"
    }
   ],
   "source": [
    "dsire = pd.read_csv('data/sea-dsire-incentives.csv', encoding='utf-8')\n",
    "dsire.head(5)"
   ]
  },
  {
   "cell_type": "markdown",
   "metadata": {},
   "source": [
    "# 2 Data Assessment\n",
    "## 2.1 Installations"
   ]
  },
  {
   "cell_type": "markdown",
   "metadata": {},
   "source": [
    "## 2.5 DSIRE Incentive Counts"
   ]
  },
  {
   "cell_type": "code",
   "execution_count": 22,
   "metadata": {},
   "outputs": [
    {
     "name": "stdout",
     "output_type": "stream",
     "text": [
      "<class 'pandas.core.frame.DataFrame'>\n",
      "RangeIndex: 159 entries, 0 to 158\n",
      "Data columns (total 38 columns):\n",
      "fips                                   159 non-null int64\n",
      "fed-total                              159 non-null int64\n",
      "fed-fin-incent-total                   159 non-null int64\n",
      "fed-fin-incent-corp-deprec             159 non-null int64\n",
      "fed-fin-incent-corp-tax-credit         159 non-null int64\n",
      "fed-fin-incent-corp-tax-deduction      159 non-null int64\n",
      "fed-fin-incent-corp-tax-exemption      159 non-null int64\n",
      "fed-fin-incent-grant-prog              159 non-null int64\n",
      "fed-fin-incent-loan-prog               159 non-null int64\n",
      "fed-fin-incent-pers-tax-credit         159 non-null int64\n",
      "fed-fin-incent-pers-tax-exemption      159 non-null int64\n",
      "fed-reg-policy                         159 non-null int64\n",
      "fed-reg-policy-appeq-eff-stand         159 non-null int64\n",
      "fed-reg-policy-energy-stand-build      159 non-null int64\n",
      "fed-reg-policy-gpp                     159 non-null int64\n",
      "fed-reg-policy-interconn               159 non-null int64\n",
      "fed-tech-res                           159 non-null int64\n",
      "fed-tech-res-energy-analysis           159 non-null int64\n",
      "fed-tech-res-training-info             159 non-null int64\n",
      "state-total                            159 non-null int64\n",
      "state-fin-incent-total                 159 non-null int64\n",
      "state-fin-incent-grant-prog            159 non-null int64\n",
      "state-fin-incent-loan-prog             159 non-null int64\n",
      "state-fin-incent-other                 159 non-null int64\n",
      "state-fin-incent-PACE-fi               159 non-null int64\n",
      "state-fin-incent-perf-based            159 non-null int64\n",
      "state-fin-incent-rebate                159 non-null int64\n",
      "state-fin-incent-sales-tax             159 non-null int64\n",
      "state-reg-policy                       159 non-null int64\n",
      "state-reg-policy-build-energy-code     159 non-null int64\n",
      "state-reg-policy-energy-stand-build    2 non-null float64\n",
      "state-reg-policy-interconn             159 non-null int64\n",
      "state-reg-policy-net-metering          159 non-null int64\n",
      "state-reg-policy-solar-wind-access     159 non-null int64\n",
      "state-tech-res                         159 non-null int64\n",
      "state-tech-res-energy-analysis         159 non-null int64\n",
      "state-tech-res-other                   159 non-null int64\n",
      "state-tech-res-training-info           159 non-null int64\n",
      "dtypes: float64(1), int64(37)\n",
      "memory usage: 47.3 KB\n"
     ]
    }
   ],
   "source": [
    "dsire.info()"
   ]
  },
  {
   "cell_type": "markdown",
   "metadata": {},
   "source": [
    "- Naming issues in columns must be taken care of (- should be replaced with _)\n",
    "- After naming, investigate float for state-reg-policy-energy-stand-build\n",
    "- fips should be string and not integer\n",
    "- state-reg-policy-energy-stand-build looks to be an incomplete column for most observations."
   ]
  },
  {
   "cell_type": "code",
   "execution_count": 23,
   "metadata": {},
   "outputs": [
    {
     "data": {
      "text/html": [
       "<div>\n",
       "<style scoped>\n",
       "    .dataframe tbody tr th:only-of-type {\n",
       "        vertical-align: middle;\n",
       "    }\n",
       "\n",
       "    .dataframe tbody tr th {\n",
       "        vertical-align: top;\n",
       "    }\n",
       "\n",
       "    .dataframe thead th {\n",
       "        text-align: right;\n",
       "    }\n",
       "</style>\n",
       "<table border=\"1\" class=\"dataframe\">\n",
       "  <thead>\n",
       "    <tr style=\"text-align: right;\">\n",
       "      <th></th>\n",
       "      <th>fips</th>\n",
       "      <th>fed-total</th>\n",
       "      <th>fed-fin-incent-total</th>\n",
       "      <th>fed-fin-incent-corp-deprec</th>\n",
       "      <th>fed-fin-incent-corp-tax-credit</th>\n",
       "      <th>fed-fin-incent-corp-tax-deduction</th>\n",
       "      <th>fed-fin-incent-corp-tax-exemption</th>\n",
       "      <th>fed-fin-incent-grant-prog</th>\n",
       "      <th>fed-fin-incent-loan-prog</th>\n",
       "      <th>fed-fin-incent-pers-tax-credit</th>\n",
       "      <th>...</th>\n",
       "      <th>state-reg-policy</th>\n",
       "      <th>state-reg-policy-build-energy-code</th>\n",
       "      <th>state-reg-policy-energy-stand-build</th>\n",
       "      <th>state-reg-policy-interconn</th>\n",
       "      <th>state-reg-policy-net-metering</th>\n",
       "      <th>state-reg-policy-solar-wind-access</th>\n",
       "      <th>state-tech-res</th>\n",
       "      <th>state-tech-res-energy-analysis</th>\n",
       "      <th>state-tech-res-other</th>\n",
       "      <th>state-tech-res-training-info</th>\n",
       "    </tr>\n",
       "  </thead>\n",
       "  <tbody>\n",
       "    <tr>\n",
       "      <th>0</th>\n",
       "      <td>13001</td>\n",
       "      <td>41</td>\n",
       "      <td>24</td>\n",
       "      <td>1</td>\n",
       "      <td>2</td>\n",
       "      <td>1</td>\n",
       "      <td>2</td>\n",
       "      <td>7</td>\n",
       "      <td>8</td>\n",
       "      <td>2</td>\n",
       "      <td>...</td>\n",
       "      <td>4</td>\n",
       "      <td>1</td>\n",
       "      <td>NaN</td>\n",
       "      <td>1</td>\n",
       "      <td>1</td>\n",
       "      <td>1</td>\n",
       "      <td>5</td>\n",
       "      <td>4</td>\n",
       "      <td>0</td>\n",
       "      <td>1</td>\n",
       "    </tr>\n",
       "    <tr>\n",
       "      <th>1</th>\n",
       "      <td>13003</td>\n",
       "      <td>41</td>\n",
       "      <td>24</td>\n",
       "      <td>1</td>\n",
       "      <td>2</td>\n",
       "      <td>1</td>\n",
       "      <td>2</td>\n",
       "      <td>7</td>\n",
       "      <td>8</td>\n",
       "      <td>2</td>\n",
       "      <td>...</td>\n",
       "      <td>4</td>\n",
       "      <td>1</td>\n",
       "      <td>NaN</td>\n",
       "      <td>1</td>\n",
       "      <td>1</td>\n",
       "      <td>1</td>\n",
       "      <td>5</td>\n",
       "      <td>4</td>\n",
       "      <td>0</td>\n",
       "      <td>1</td>\n",
       "    </tr>\n",
       "    <tr>\n",
       "      <th>2</th>\n",
       "      <td>13005</td>\n",
       "      <td>41</td>\n",
       "      <td>24</td>\n",
       "      <td>1</td>\n",
       "      <td>2</td>\n",
       "      <td>1</td>\n",
       "      <td>2</td>\n",
       "      <td>7</td>\n",
       "      <td>8</td>\n",
       "      <td>2</td>\n",
       "      <td>...</td>\n",
       "      <td>4</td>\n",
       "      <td>1</td>\n",
       "      <td>NaN</td>\n",
       "      <td>1</td>\n",
       "      <td>1</td>\n",
       "      <td>1</td>\n",
       "      <td>5</td>\n",
       "      <td>4</td>\n",
       "      <td>0</td>\n",
       "      <td>1</td>\n",
       "    </tr>\n",
       "    <tr>\n",
       "      <th>3</th>\n",
       "      <td>13007</td>\n",
       "      <td>41</td>\n",
       "      <td>24</td>\n",
       "      <td>1</td>\n",
       "      <td>2</td>\n",
       "      <td>1</td>\n",
       "      <td>2</td>\n",
       "      <td>7</td>\n",
       "      <td>8</td>\n",
       "      <td>2</td>\n",
       "      <td>...</td>\n",
       "      <td>4</td>\n",
       "      <td>1</td>\n",
       "      <td>NaN</td>\n",
       "      <td>1</td>\n",
       "      <td>1</td>\n",
       "      <td>1</td>\n",
       "      <td>5</td>\n",
       "      <td>4</td>\n",
       "      <td>0</td>\n",
       "      <td>1</td>\n",
       "    </tr>\n",
       "    <tr>\n",
       "      <th>4</th>\n",
       "      <td>13009</td>\n",
       "      <td>41</td>\n",
       "      <td>24</td>\n",
       "      <td>1</td>\n",
       "      <td>2</td>\n",
       "      <td>1</td>\n",
       "      <td>2</td>\n",
       "      <td>7</td>\n",
       "      <td>8</td>\n",
       "      <td>2</td>\n",
       "      <td>...</td>\n",
       "      <td>4</td>\n",
       "      <td>1</td>\n",
       "      <td>NaN</td>\n",
       "      <td>1</td>\n",
       "      <td>1</td>\n",
       "      <td>1</td>\n",
       "      <td>5</td>\n",
       "      <td>4</td>\n",
       "      <td>0</td>\n",
       "      <td>1</td>\n",
       "    </tr>\n",
       "  </tbody>\n",
       "</table>\n",
       "<p>5 rows × 38 columns</p>\n",
       "</div>"
      ],
      "text/plain": [
       "    fips  fed-total  fed-fin-incent-total  fed-fin-incent-corp-deprec  \\\n",
       "0  13001         41                    24                           1   \n",
       "1  13003         41                    24                           1   \n",
       "2  13005         41                    24                           1   \n",
       "3  13007         41                    24                           1   \n",
       "4  13009         41                    24                           1   \n",
       "\n",
       "   fed-fin-incent-corp-tax-credit  fed-fin-incent-corp-tax-deduction  \\\n",
       "0                               2                                  1   \n",
       "1                               2                                  1   \n",
       "2                               2                                  1   \n",
       "3                               2                                  1   \n",
       "4                               2                                  1   \n",
       "\n",
       "   fed-fin-incent-corp-tax-exemption  fed-fin-incent-grant-prog  \\\n",
       "0                                  2                          7   \n",
       "1                                  2                          7   \n",
       "2                                  2                          7   \n",
       "3                                  2                          7   \n",
       "4                                  2                          7   \n",
       "\n",
       "   fed-fin-incent-loan-prog  fed-fin-incent-pers-tax-credit  ...  \\\n",
       "0                         8                               2  ...   \n",
       "1                         8                               2  ...   \n",
       "2                         8                               2  ...   \n",
       "3                         8                               2  ...   \n",
       "4                         8                               2  ...   \n",
       "\n",
       "   state-reg-policy  state-reg-policy-build-energy-code  \\\n",
       "0                 4                                   1   \n",
       "1                 4                                   1   \n",
       "2                 4                                   1   \n",
       "3                 4                                   1   \n",
       "4                 4                                   1   \n",
       "\n",
       "   state-reg-policy-energy-stand-build  state-reg-policy-interconn  \\\n",
       "0                                  NaN                           1   \n",
       "1                                  NaN                           1   \n",
       "2                                  NaN                           1   \n",
       "3                                  NaN                           1   \n",
       "4                                  NaN                           1   \n",
       "\n",
       "   state-reg-policy-net-metering  state-reg-policy-solar-wind-access  \\\n",
       "0                              1                                   1   \n",
       "1                              1                                   1   \n",
       "2                              1                                   1   \n",
       "3                              1                                   1   \n",
       "4                              1                                   1   \n",
       "\n",
       "   state-tech-res  state-tech-res-energy-analysis  state-tech-res-other  \\\n",
       "0               5                               4                     0   \n",
       "1               5                               4                     0   \n",
       "2               5                               4                     0   \n",
       "3               5                               4                     0   \n",
       "4               5                               4                     0   \n",
       "\n",
       "   state-tech-res-training-info  \n",
       "0                             1  \n",
       "1                             1  \n",
       "2                             1  \n",
       "3                             1  \n",
       "4                             1  \n",
       "\n",
       "[5 rows x 38 columns]"
      ]
     },
     "execution_count": 23,
     "metadata": {},
     "output_type": "execute_result"
    }
   ],
   "source": [
    "dsire.head(5)"
   ]
  },
  {
   "cell_type": "code",
   "execution_count": 24,
   "metadata": {},
   "outputs": [
    {
     "data": {
      "text/plain": [
       "fips                                     0\n",
       "fed-total                                0\n",
       "fed-fin-incent-total                     0\n",
       "fed-fin-incent-corp-deprec               0\n",
       "fed-fin-incent-corp-tax-credit           0\n",
       "fed-fin-incent-corp-tax-deduction        0\n",
       "fed-fin-incent-corp-tax-exemption        0\n",
       "fed-fin-incent-grant-prog                0\n",
       "fed-fin-incent-loan-prog                 0\n",
       "fed-fin-incent-pers-tax-credit           0\n",
       "fed-fin-incent-pers-tax-exemption        0\n",
       "fed-reg-policy                           0\n",
       "fed-reg-policy-appeq-eff-stand           0\n",
       "fed-reg-policy-energy-stand-build        0\n",
       "fed-reg-policy-gpp                       0\n",
       "fed-reg-policy-interconn                 0\n",
       "fed-tech-res                             0\n",
       "fed-tech-res-energy-analysis             0\n",
       "fed-tech-res-training-info               0\n",
       "state-total                              0\n",
       "state-fin-incent-total                   0\n",
       "state-fin-incent-grant-prog              0\n",
       "state-fin-incent-loan-prog               0\n",
       "state-fin-incent-other                   0\n",
       "state-fin-incent-PACE-fi                 0\n",
       "state-fin-incent-perf-based              0\n",
       "state-fin-incent-rebate                  0\n",
       "state-fin-incent-sales-tax               0\n",
       "state-reg-policy                         0\n",
       "state-reg-policy-build-energy-code       0\n",
       "state-reg-policy-energy-stand-build    157\n",
       "state-reg-policy-interconn               0\n",
       "state-reg-policy-net-metering            0\n",
       "state-reg-policy-solar-wind-access       0\n",
       "state-tech-res                           0\n",
       "state-tech-res-energy-analysis           0\n",
       "state-tech-res-other                     0\n",
       "state-tech-res-training-info             0\n",
       "dtype: int64"
      ]
     },
     "execution_count": 24,
     "metadata": {},
     "output_type": "execute_result"
    }
   ],
   "source": [
    "dsire.isnull().sum()"
   ]
  },
  {
   "cell_type": "code",
   "execution_count": 25,
   "metadata": {},
   "outputs": [
    {
     "data": {
      "text/plain": [
       "0"
      ]
     },
     "execution_count": 25,
     "metadata": {},
     "output_type": "execute_result"
    }
   ],
   "source": [
    "dsire.duplicated().sum()"
   ]
  },
  {
   "cell_type": "markdown",
   "metadata": {},
   "source": [
    "# 3 Data Cleaning\n",
    "\n",
    "## 3.1 Copy All Dataframes\n",
    "\n",
    "### 3.1.1 Define\n",
    "Copy all dataframes for cleaning purposes.\n",
    "\n",
    "#### 3.1.1.2 Code"
   ]
  },
  {
   "cell_type": "code",
   "execution_count": 26,
   "metadata": {},
   "outputs": [],
   "source": [
    "dsire_clean = dsire.copy()"
   ]
  },
  {
   "cell_type": "markdown",
   "metadata": {},
   "source": [
    "#### 3.1.1.3 Test"
   ]
  },
  {
   "cell_type": "code",
   "execution_count": 27,
   "metadata": {},
   "outputs": [
    {
     "name": "stdout",
     "output_type": "stream",
     "text": [
      "<class 'pandas.core.frame.DataFrame'>\n",
      "RangeIndex: 159 entries, 0 to 158\n",
      "Data columns (total 38 columns):\n",
      "fips                                   159 non-null int64\n",
      "fed-total                              159 non-null int64\n",
      "fed-fin-incent-total                   159 non-null int64\n",
      "fed-fin-incent-corp-deprec             159 non-null int64\n",
      "fed-fin-incent-corp-tax-credit         159 non-null int64\n",
      "fed-fin-incent-corp-tax-deduction      159 non-null int64\n",
      "fed-fin-incent-corp-tax-exemption      159 non-null int64\n",
      "fed-fin-incent-grant-prog              159 non-null int64\n",
      "fed-fin-incent-loan-prog               159 non-null int64\n",
      "fed-fin-incent-pers-tax-credit         159 non-null int64\n",
      "fed-fin-incent-pers-tax-exemption      159 non-null int64\n",
      "fed-reg-policy                         159 non-null int64\n",
      "fed-reg-policy-appeq-eff-stand         159 non-null int64\n",
      "fed-reg-policy-energy-stand-build      159 non-null int64\n",
      "fed-reg-policy-gpp                     159 non-null int64\n",
      "fed-reg-policy-interconn               159 non-null int64\n",
      "fed-tech-res                           159 non-null int64\n",
      "fed-tech-res-energy-analysis           159 non-null int64\n",
      "fed-tech-res-training-info             159 non-null int64\n",
      "state-total                            159 non-null int64\n",
      "state-fin-incent-total                 159 non-null int64\n",
      "state-fin-incent-grant-prog            159 non-null int64\n",
      "state-fin-incent-loan-prog             159 non-null int64\n",
      "state-fin-incent-other                 159 non-null int64\n",
      "state-fin-incent-PACE-fi               159 non-null int64\n",
      "state-fin-incent-perf-based            159 non-null int64\n",
      "state-fin-incent-rebate                159 non-null int64\n",
      "state-fin-incent-sales-tax             159 non-null int64\n",
      "state-reg-policy                       159 non-null int64\n",
      "state-reg-policy-build-energy-code     159 non-null int64\n",
      "state-reg-policy-energy-stand-build    2 non-null float64\n",
      "state-reg-policy-interconn             159 non-null int64\n",
      "state-reg-policy-net-metering          159 non-null int64\n",
      "state-reg-policy-solar-wind-access     159 non-null int64\n",
      "state-tech-res                         159 non-null int64\n",
      "state-tech-res-energy-analysis         159 non-null int64\n",
      "state-tech-res-other                   159 non-null int64\n",
      "state-tech-res-training-info           159 non-null int64\n",
      "dtypes: float64(1), int64(37)\n",
      "memory usage: 47.3 KB\n"
     ]
    }
   ],
   "source": [
    "dsire_clean.info()"
   ]
  },
  {
   "cell_type": "markdown",
   "metadata": {},
   "source": [
    "## 3.2 Column Naming\n",
    "### 3.2.1 Installations\n",
    "#### 3.2.1.1 Define\n",
    "Rename all columns so that hyphens are replaced with underscores so that future codes can be run successfully, as well as correcting any spelling errors.\n",
    "\n",
    "#### 3.2.1.2 Code"
   ]
  },
  {
   "cell_type": "code",
   "execution_count": 28,
   "metadata": {},
   "outputs": [],
   "source": [
    "dsire_clean = dsire_clean.rename(columns={\"fed-total\": \"fed_total\",\n",
    "                                                \"fed-fin-incent-total\": \"fed_fin_incent_total\",\n",
    "                                                \"fed-fin-incent-corp-deprec\": \"fed_fin_incent_corp_deprec\",\n",
    "                                                \"fed-fin-incent-corp-tax-credit\": \"fed_fin_incent_corp_tax_credit\",\n",
    "                                                \"fed-fin-incent-corp-tax-deduction\": \"fed_fin_incent_corp_tax_deduction\",\n",
    "                                                \"fed-fin-incent-corp-tax-exemption\": \"fed_fin_incent_corp_tax_exemption\",\n",
    "                                                \"fed-fin-incent-grant-prog\": \"fed_fin_incent_grant_prog\",\n",
    "                                                \"fed-fin-incent-loan-prog\": \"fed_fin_incent_loan_prog\",\n",
    "                                                \"fed-fin-incent-pers-tax-credit\": \"fed_fin_incent_pers_tax_credit\",\n",
    "                                                \"fed-fin-incent-pers-tax-exemption\": \"fed_fin_incent_pers_tax_exemption\",\n",
    "                                                \"fed-reg-policy\": \"fed_reg_policy\",\n",
    "                                                \"fed-reg-policy-appeq-eff-stand\": \"fed_reg_policy_appeq_eff_stand\",\n",
    "                                                \"fed-reg-policy-energy-stand-build\": \"fed_reg_policy_energy_stand_build\",\n",
    "                                                \"fed-reg-policy-gpp\": \"fed_reg_policy_gpp\",\n",
    "                                                \"fed-reg-policy-interconn\": \"fed_reg_policy_interconn\",\n",
    "                                                \"fed-tech-res\":\"fed_tech_res\",\n",
    "                                                \"fed-tech-res-energy-analysis\":\"fed_tech_res_energy_analysis\",\n",
    "                                                \"fed-tech-res-training-info\": \"fed_tech_res_training_info\",\n",
    "                                                \"state-total\": \"state_total\",\n",
    "                                                \"state-fin-incent-total\": \"state_fin_incent_total\",\n",
    "                                                \"state-fin-incent-grant-prog\": \"state_fin_incent_grant_prog\",\n",
    "                                                \"state-fin-incent-loan-prog\": \"state_fin_incent_loan_prog\",\n",
    "                                                \"state-fin-incent-other\": \"state_fin_incent_other\",\n",
    "                                                \"state-fin-incent-PACE-fi\": \"state_fin_incent_PACE_fi\",\n",
    "                                                \"state-fin-incent-perf-based\": \"state_fin_incent_perf_based\",\n",
    "                                                \"state-fin-incent-rebate\": \"state_fin_incent_rebate\",\n",
    "                                                \"state-fin-incent-sales-tax\": \"state_fin_incent_sales_tax\",\n",
    "                                                \"state-reg-policy\": \"state_reg_policy\",\n",
    "                                                \"state-reg-policy-build-energy-code\": \"state_reg_policy_build_energy_code\",\n",
    "                                                \"state-reg-policy-energy-stand-build\": \"state_reg_policy_energy_stand_build\",\n",
    "                                                \"state-reg-policy-interconn\": \"state_reg_policy_interconn\",\n",
    "                                                \"state-reg-policy-net-metering\": \"state_reg_policy_net_metering\",\n",
    "                                                \"state-reg-policy-solar-wind-access\": \"state_reg_policy_solar_wind_access\",\n",
    "                                                \"state-tech-res\": \"state_tech_res\",\n",
    "                                                \"state-tech-res-energy-analysis\": \"state_tech_res_energy_analysis\",\n",
    "                                                \"state-tech-res-other\": \"state_tech_res_other\",\n",
    "                                                \"state-tech-res-training-info\":\"state_tech_res_training_info\"\n",
    "                                                })"
   ]
  },
  {
   "cell_type": "markdown",
   "metadata": {},
   "source": [
    "#### 3.2.1.3 Test"
   ]
  },
  {
   "cell_type": "code",
   "execution_count": 29,
   "metadata": {},
   "outputs": [
    {
     "data": {
      "text/html": [
       "<div>\n",
       "<style scoped>\n",
       "    .dataframe tbody tr th:only-of-type {\n",
       "        vertical-align: middle;\n",
       "    }\n",
       "\n",
       "    .dataframe tbody tr th {\n",
       "        vertical-align: top;\n",
       "    }\n",
       "\n",
       "    .dataframe thead th {\n",
       "        text-align: right;\n",
       "    }\n",
       "</style>\n",
       "<table border=\"1\" class=\"dataframe\">\n",
       "  <thead>\n",
       "    <tr style=\"text-align: right;\">\n",
       "      <th></th>\n",
       "      <th>fips</th>\n",
       "      <th>fed_total</th>\n",
       "      <th>fed_fin_incent_total</th>\n",
       "      <th>fed_fin_incent_corp_deprec</th>\n",
       "      <th>fed_fin_incent_corp_tax_credit</th>\n",
       "      <th>fed_fin_incent_corp_tax_deduction</th>\n",
       "      <th>fed_fin_incent_corp_tax_exemption</th>\n",
       "      <th>fed_fin_incent_grant_prog</th>\n",
       "      <th>fed_fin_incent_loan_prog</th>\n",
       "      <th>fed_fin_incent_pers_tax_credit</th>\n",
       "      <th>...</th>\n",
       "      <th>state_reg_policy</th>\n",
       "      <th>state_reg_policy_build_energy_code</th>\n",
       "      <th>state_reg_policy_energy_stand_build</th>\n",
       "      <th>state_reg_policy_interconn</th>\n",
       "      <th>state_reg_policy_net_metering</th>\n",
       "      <th>state_reg_policy_solar_wind_access</th>\n",
       "      <th>state_tech_res</th>\n",
       "      <th>state_tech_res_energy_analysis</th>\n",
       "      <th>state_tech_res_other</th>\n",
       "      <th>state_tech_res_training_info</th>\n",
       "    </tr>\n",
       "  </thead>\n",
       "  <tbody>\n",
       "    <tr>\n",
       "      <th>0</th>\n",
       "      <td>13001</td>\n",
       "      <td>41</td>\n",
       "      <td>24</td>\n",
       "      <td>1</td>\n",
       "      <td>2</td>\n",
       "      <td>1</td>\n",
       "      <td>2</td>\n",
       "      <td>7</td>\n",
       "      <td>8</td>\n",
       "      <td>2</td>\n",
       "      <td>...</td>\n",
       "      <td>4</td>\n",
       "      <td>1</td>\n",
       "      <td>NaN</td>\n",
       "      <td>1</td>\n",
       "      <td>1</td>\n",
       "      <td>1</td>\n",
       "      <td>5</td>\n",
       "      <td>4</td>\n",
       "      <td>0</td>\n",
       "      <td>1</td>\n",
       "    </tr>\n",
       "    <tr>\n",
       "      <th>1</th>\n",
       "      <td>13003</td>\n",
       "      <td>41</td>\n",
       "      <td>24</td>\n",
       "      <td>1</td>\n",
       "      <td>2</td>\n",
       "      <td>1</td>\n",
       "      <td>2</td>\n",
       "      <td>7</td>\n",
       "      <td>8</td>\n",
       "      <td>2</td>\n",
       "      <td>...</td>\n",
       "      <td>4</td>\n",
       "      <td>1</td>\n",
       "      <td>NaN</td>\n",
       "      <td>1</td>\n",
       "      <td>1</td>\n",
       "      <td>1</td>\n",
       "      <td>5</td>\n",
       "      <td>4</td>\n",
       "      <td>0</td>\n",
       "      <td>1</td>\n",
       "    </tr>\n",
       "    <tr>\n",
       "      <th>2</th>\n",
       "      <td>13005</td>\n",
       "      <td>41</td>\n",
       "      <td>24</td>\n",
       "      <td>1</td>\n",
       "      <td>2</td>\n",
       "      <td>1</td>\n",
       "      <td>2</td>\n",
       "      <td>7</td>\n",
       "      <td>8</td>\n",
       "      <td>2</td>\n",
       "      <td>...</td>\n",
       "      <td>4</td>\n",
       "      <td>1</td>\n",
       "      <td>NaN</td>\n",
       "      <td>1</td>\n",
       "      <td>1</td>\n",
       "      <td>1</td>\n",
       "      <td>5</td>\n",
       "      <td>4</td>\n",
       "      <td>0</td>\n",
       "      <td>1</td>\n",
       "    </tr>\n",
       "    <tr>\n",
       "      <th>3</th>\n",
       "      <td>13007</td>\n",
       "      <td>41</td>\n",
       "      <td>24</td>\n",
       "      <td>1</td>\n",
       "      <td>2</td>\n",
       "      <td>1</td>\n",
       "      <td>2</td>\n",
       "      <td>7</td>\n",
       "      <td>8</td>\n",
       "      <td>2</td>\n",
       "      <td>...</td>\n",
       "      <td>4</td>\n",
       "      <td>1</td>\n",
       "      <td>NaN</td>\n",
       "      <td>1</td>\n",
       "      <td>1</td>\n",
       "      <td>1</td>\n",
       "      <td>5</td>\n",
       "      <td>4</td>\n",
       "      <td>0</td>\n",
       "      <td>1</td>\n",
       "    </tr>\n",
       "    <tr>\n",
       "      <th>4</th>\n",
       "      <td>13009</td>\n",
       "      <td>41</td>\n",
       "      <td>24</td>\n",
       "      <td>1</td>\n",
       "      <td>2</td>\n",
       "      <td>1</td>\n",
       "      <td>2</td>\n",
       "      <td>7</td>\n",
       "      <td>8</td>\n",
       "      <td>2</td>\n",
       "      <td>...</td>\n",
       "      <td>4</td>\n",
       "      <td>1</td>\n",
       "      <td>NaN</td>\n",
       "      <td>1</td>\n",
       "      <td>1</td>\n",
       "      <td>1</td>\n",
       "      <td>5</td>\n",
       "      <td>4</td>\n",
       "      <td>0</td>\n",
       "      <td>1</td>\n",
       "    </tr>\n",
       "  </tbody>\n",
       "</table>\n",
       "<p>5 rows × 38 columns</p>\n",
       "</div>"
      ],
      "text/plain": [
       "    fips  fed_total  fed_fin_incent_total  fed_fin_incent_corp_deprec  \\\n",
       "0  13001         41                    24                           1   \n",
       "1  13003         41                    24                           1   \n",
       "2  13005         41                    24                           1   \n",
       "3  13007         41                    24                           1   \n",
       "4  13009         41                    24                           1   \n",
       "\n",
       "   fed_fin_incent_corp_tax_credit  fed_fin_incent_corp_tax_deduction  \\\n",
       "0                               2                                  1   \n",
       "1                               2                                  1   \n",
       "2                               2                                  1   \n",
       "3                               2                                  1   \n",
       "4                               2                                  1   \n",
       "\n",
       "   fed_fin_incent_corp_tax_exemption  fed_fin_incent_grant_prog  \\\n",
       "0                                  2                          7   \n",
       "1                                  2                          7   \n",
       "2                                  2                          7   \n",
       "3                                  2                          7   \n",
       "4                                  2                          7   \n",
       "\n",
       "   fed_fin_incent_loan_prog  fed_fin_incent_pers_tax_credit  ...  \\\n",
       "0                         8                               2  ...   \n",
       "1                         8                               2  ...   \n",
       "2                         8                               2  ...   \n",
       "3                         8                               2  ...   \n",
       "4                         8                               2  ...   \n",
       "\n",
       "   state_reg_policy  state_reg_policy_build_energy_code  \\\n",
       "0                 4                                   1   \n",
       "1                 4                                   1   \n",
       "2                 4                                   1   \n",
       "3                 4                                   1   \n",
       "4                 4                                   1   \n",
       "\n",
       "   state_reg_policy_energy_stand_build  state_reg_policy_interconn  \\\n",
       "0                                  NaN                           1   \n",
       "1                                  NaN                           1   \n",
       "2                                  NaN                           1   \n",
       "3                                  NaN                           1   \n",
       "4                                  NaN                           1   \n",
       "\n",
       "   state_reg_policy_net_metering  state_reg_policy_solar_wind_access  \\\n",
       "0                              1                                   1   \n",
       "1                              1                                   1   \n",
       "2                              1                                   1   \n",
       "3                              1                                   1   \n",
       "4                              1                                   1   \n",
       "\n",
       "   state_tech_res  state_tech_res_energy_analysis  state_tech_res_other  \\\n",
       "0               5                               4                     0   \n",
       "1               5                               4                     0   \n",
       "2               5                               4                     0   \n",
       "3               5                               4                     0   \n",
       "4               5                               4                     0   \n",
       "\n",
       "   state_tech_res_training_info  \n",
       "0                             1  \n",
       "1                             1  \n",
       "2                             1  \n",
       "3                             1  \n",
       "4                             1  \n",
       "\n",
       "[5 rows x 38 columns]"
      ]
     },
     "execution_count": 29,
     "metadata": {},
     "output_type": "execute_result"
    }
   ],
   "source": [
    "dsire_clean.head()"
   ]
  },
  {
   "cell_type": "markdown",
   "metadata": {},
   "source": [
    "### 3.2.2 Nulls\n",
    "#### 3.2.2.1 Define\n",
    "Rename all columns so that hyphens are replaced with underscores so that future codes can be run successfully.\n",
    "\n",
    "#### 3.2.2.2 Code"
   ]
  },
  {
   "cell_type": "code",
   "execution_count": 30,
   "metadata": {},
   "outputs": [
    {
     "data": {
      "text/plain": [
       "fips                                     0\n",
       "fed_total                                0\n",
       "fed_fin_incent_total                     0\n",
       "fed_fin_incent_corp_deprec               0\n",
       "fed_fin_incent_corp_tax_credit           0\n",
       "fed_fin_incent_corp_tax_deduction        0\n",
       "fed_fin_incent_corp_tax_exemption        0\n",
       "fed_fin_incent_grant_prog                0\n",
       "fed_fin_incent_loan_prog                 0\n",
       "fed_fin_incent_pers_tax_credit           0\n",
       "fed_fin_incent_pers_tax_exemption        0\n",
       "fed_reg_policy                           0\n",
       "fed_reg_policy_appeq_eff_stand           0\n",
       "fed_reg_policy_energy_stand_build        0\n",
       "fed_reg_policy_gpp                       0\n",
       "fed_reg_policy_interconn                 0\n",
       "fed_tech_res                             0\n",
       "fed_tech_res_energy_analysis             0\n",
       "fed_tech_res_training_info               0\n",
       "state_total                              0\n",
       "state_fin_incent_total                   0\n",
       "state_fin_incent_grant_prog              0\n",
       "state_fin_incent_loan_prog               0\n",
       "state_fin_incent_other                   0\n",
       "state_fin_incent_PACE_fi                 0\n",
       "state_fin_incent_perf_based              0\n",
       "state_fin_incent_rebate                  0\n",
       "state_fin_incent_sales_tax               0\n",
       "state_reg_policy                         0\n",
       "state_reg_policy_build_energy_code       0\n",
       "state_reg_policy_energy_stand_build    157\n",
       "state_reg_policy_interconn               0\n",
       "state_reg_policy_net_metering            0\n",
       "state_reg_policy_solar_wind_access       0\n",
       "state_tech_res                           0\n",
       "state_tech_res_energy_analysis           0\n",
       "state_tech_res_other                     0\n",
       "state_tech_res_training_info             0\n",
       "dtype: int64"
      ]
     },
     "execution_count": 30,
     "metadata": {},
     "output_type": "execute_result"
    }
   ],
   "source": [
    "dsire_clean.isnull().sum()"
   ]
  },
  {
   "cell_type": "code",
   "execution_count": 33,
   "metadata": {},
   "outputs": [
    {
     "data": {
      "text/plain": [
       "<bound method Series.isnull of 0     NaN\n",
       "1     NaN\n",
       "2     NaN\n",
       "3     NaN\n",
       "4     NaN\n",
       "5     NaN\n",
       "6     NaN\n",
       "7     NaN\n",
       "8     NaN\n",
       "9     NaN\n",
       "10    NaN\n",
       "11    NaN\n",
       "12    NaN\n",
       "13    NaN\n",
       "14    NaN\n",
       "15    NaN\n",
       "16    NaN\n",
       "17    NaN\n",
       "18    NaN\n",
       "19    NaN\n",
       "20    NaN\n",
       "21    NaN\n",
       "22    NaN\n",
       "23    NaN\n",
       "24    NaN\n",
       "25    NaN\n",
       "26    NaN\n",
       "27    NaN\n",
       "28    NaN\n",
       "29    NaN\n",
       "       ..\n",
       "129   NaN\n",
       "130   NaN\n",
       "131   NaN\n",
       "132   NaN\n",
       "133   NaN\n",
       "134   NaN\n",
       "135   NaN\n",
       "136   NaN\n",
       "137   NaN\n",
       "138   NaN\n",
       "139   NaN\n",
       "140   NaN\n",
       "141   NaN\n",
       "142   NaN\n",
       "143   NaN\n",
       "144   NaN\n",
       "145   NaN\n",
       "146   NaN\n",
       "147   NaN\n",
       "148   NaN\n",
       "149   NaN\n",
       "150   NaN\n",
       "151   NaN\n",
       "152   NaN\n",
       "153   NaN\n",
       "154   NaN\n",
       "155   NaN\n",
       "156   NaN\n",
       "157   NaN\n",
       "158   NaN\n",
       "Name: state_reg_policy_energy_stand_build, Length: 159, dtype: float64>"
      ]
     },
     "execution_count": 33,
     "metadata": {},
     "output_type": "execute_result"
    }
   ],
   "source": [
    "dsire_clean['state_reg_policy_energy_stand_build'].isnull"
   ]
  },
  {
   "cell_type": "code",
   "execution_count": 34,
   "metadata": {},
   "outputs": [
    {
     "ename": "SyntaxError",
     "evalue": "invalid syntax (<ipython-input-34-fca77cccc259>, line 1)",
     "output_type": "error",
     "traceback": [
      "\u001b[0;36m  File \u001b[0;32m\"<ipython-input-34-fca77cccc259>\"\u001b[0;36m, line \u001b[0;32m1\u001b[0m\n\u001b[0;31m    dsire_clean.state_reg_policy_energy_stand_build' = dsire_clean[dsire_clean['state_reg_policy_energy_stand_build'].isnull = '0']\u001b[0m\n\u001b[0m                                                                               ^\u001b[0m\n\u001b[0;31mSyntaxError\u001b[0m\u001b[0;31m:\u001b[0m invalid syntax\n"
     ]
    }
   ],
   "source": [
    "dsire_clean.state_reg_policy_energy_stand_build' = dsire_clean[dsire_clean['state_reg_policy_energy_stand_build'].isnull = '0']"
   ]
  },
  {
   "cell_type": "code",
   "execution_count": 16,
   "metadata": {},
   "outputs": [],
   "source": [
    "dsire_clean.drop([\"state_reg_policy_energy_stand_build\"], axis = 1, inplace = True) "
   ]
  },
  {
   "cell_type": "markdown",
   "metadata": {},
   "source": [
    "#### 3.2.2.3 Test"
   ]
  },
  {
   "cell_type": "code",
   "execution_count": 17,
   "metadata": {},
   "outputs": [
    {
     "name": "stdout",
     "output_type": "stream",
     "text": [
      "<class 'pandas.core.frame.DataFrame'>\n",
      "RangeIndex: 159 entries, 0 to 158\n",
      "Data columns (total 37 columns):\n",
      "fips                                  159 non-null int64\n",
      "fed_total                             159 non-null int64\n",
      "fed_fin_incent_total                  159 non-null int64\n",
      "fed_fin_incent_corp_deprec            159 non-null int64\n",
      "fed_fin_incent_corp_tax_credit        159 non-null int64\n",
      "fed_fin_incent_corp_tax_deduction     159 non-null int64\n",
      "fed_fin_incent_corp_tax_exemption     159 non-null int64\n",
      "fed_fin_incent_grant_prog             159 non-null int64\n",
      "fed_fin_incent_loan_prog              159 non-null int64\n",
      "fed_fin_incent_pers_tax_credit        159 non-null int64\n",
      "fed_fin_incent_pers_tax_exemption     159 non-null int64\n",
      "fed_reg_policy                        159 non-null int64\n",
      "fed_reg_policy_appeq_eff_stand        159 non-null int64\n",
      "fed_reg_policy_energy_stand_build     159 non-null int64\n",
      "fed_reg_policy_gpp                    159 non-null int64\n",
      "fed_reg_policy_interconn              159 non-null int64\n",
      "fed_tech_res                          159 non-null int64\n",
      "fed_tech_res_energy_analysis          159 non-null int64\n",
      "fed_tech_res_training_info            159 non-null int64\n",
      "state_total                           159 non-null int64\n",
      "state_fin_incent_total                159 non-null int64\n",
      "state_fin_incent_grant_prog           159 non-null int64\n",
      "state_fin_incent_loan_prog            159 non-null int64\n",
      "state_fin_incent_other                159 non-null int64\n",
      "state_fin_incent_PACE_fi              159 non-null int64\n",
      "state_fin_incent_perf_based           159 non-null int64\n",
      "state_fin_incent_rebate               159 non-null int64\n",
      "state_fin_incent_sales_tax            159 non-null int64\n",
      "state_reg_policy                      159 non-null int64\n",
      "state_reg_policy_build_energy_code    159 non-null int64\n",
      "state_reg_policy_interconn            159 non-null int64\n",
      "state_reg_policy_net_metering         159 non-null int64\n",
      "state_reg_policy_solar_wind_access    159 non-null int64\n",
      "state_tech_res                        159 non-null int64\n",
      "state_tech_res_energy_analysis        159 non-null int64\n",
      "state_tech_res_other                  159 non-null int64\n",
      "state_tech_res_training_info          159 non-null int64\n",
      "dtypes: int64(37)\n",
      "memory usage: 46.0 KB\n"
     ]
    }
   ],
   "source": [
    "dsire_clean.info()"
   ]
  },
  {
   "cell_type": "code",
   "execution_count": null,
   "metadata": {},
   "outputs": [],
   "source": []
  },
  {
   "cell_type": "markdown",
   "metadata": {},
   "source": [
    "### 3.2.2 Convert install_date to datetime format\n",
    "#### 3.2.2.1 Define\n",
    "The install_date column should be in datetime format. Drop any unknown dates and convert those values to datetime.\n",
    "\n",
    "#### 3.2.2.2 Code"
   ]
  },
  {
   "cell_type": "code",
   "execution_count": null,
   "metadata": {},
   "outputs": [],
   "source": [
    "installs_clean.info()"
   ]
  },
  {
   "cell_type": "code",
   "execution_count": null,
   "metadata": {},
   "outputs": [],
   "source": [
    "installs_clean['install_date'] = datetime.strptime('Jun 1 2005  1:33PM', '%b %d %Y %I:%M%p')"
   ]
  },
  {
   "cell_type": "markdown",
   "metadata": {},
   "source": [
    "#### 3.2.2.3 Test"
   ]
  },
  {
   "cell_type": "code",
   "execution_count": null,
   "metadata": {},
   "outputs": [],
   "source": [
    "installs_clean.info()"
   ]
  },
  {
   "cell_type": "markdown",
   "metadata": {},
   "source": [
    "### 3.2.3 Convert fips, zip, and congressional district columns to strings\n",
    "#### 3.2.3.1 Define\n",
    "Convert the fips, zip, fed_congressional_district, state_senate_district, and state_house_district columns to string format all columns.\n",
    "\n",
    "#### 3.2.3.2 Code"
   ]
  },
  {
   "cell_type": "code",
   "execution_count": null,
   "metadata": {},
   "outputs": [],
   "source": [
    "print(installs_clean[installs_clean['zip'].isnull()])"
   ]
  },
  {
   "cell_type": "code",
   "execution_count": null,
   "metadata": {},
   "outputs": [],
   "source": [
    "installs_clean.drop([1833], inplace=True)\n",
    "installs_clean['zip'] = installs_clean['zip'].round(0).astype(int)"
   ]
  },
  {
   "cell_type": "markdown",
   "metadata": {},
   "source": [
    "#### 3.2.3.3 Test"
   ]
  },
  {
   "cell_type": "code",
   "execution_count": null,
   "metadata": {},
   "outputs": [],
   "source": [
    "installs_clean.info()"
   ]
  },
  {
   "cell_type": "code",
   "execution_count": null,
   "metadata": {},
   "outputs": [],
   "source": [
    "installs_clean.head(5)"
   ]
  },
  {
   "cell_type": "markdown",
   "metadata": {},
   "source": [
    "### 3.2.4 Investigate town NaN values\n",
    "#### 3.2.4.1 Define\n",
    "Query the dataset and investigate NaN values for the town column to see if data can be retrieved to complete. Otherwise, remove observations from the dataset.\n",
    "\n",
    "#### 3.2.4.2 Code"
   ]
  },
  {
   "cell_type": "code",
   "execution_count": null,
   "metadata": {},
   "outputs": [],
   "source": [
    "installs_clean[installs_clean['town'].isnull()]"
   ]
  },
  {
   "cell_type": "code",
   "execution_count": null,
   "metadata": {},
   "outputs": [],
   "source": [
    "print(installs_clean['zip'][36])\n",
    "print(installs_clean['zip'][43])\n",
    "print(installs_clean['zip'][684])\n",
    "print(installs_clean['zip'][885])\n",
    "print(installs_clean['zip'][1349])"
   ]
  },
  {
   "cell_type": "code",
   "execution_count": null,
   "metadata": {},
   "outputs": [],
   "source": [
    "installs_clean.town[36] = 'Atlanta'\n",
    "installs_clean.town[43] = 'Atlanta'\n",
    "installs_clean.town[684] = 'Woodstock'\n",
    "installs_clean.town[885] = 'Columbus'\n",
    "installs_clean.town[1349] = 'Oxford'"
   ]
  },
  {
   "cell_type": "code",
   "execution_count": null,
   "metadata": {},
   "outputs": [],
   "source": [
    "print(installs_clean['zip'][1353])\n",
    "print(installs_clean['zip'][1370])\n",
    "print(installs_clean['zip'][1382])\n",
    "print(installs_clean['zip'][1415])\n",
    "print(installs_clean['zip'][1451])"
   ]
  },
  {
   "cell_type": "code",
   "execution_count": null,
   "metadata": {},
   "outputs": [],
   "source": [
    "installs_clean.town[1382] = 'Savannah'\n",
    "installs_clean.town[1451] = 'Peachtree City'\n",
    "installs_clean.town[1353] = 'Cumming'\n",
    "installs_clean.town[1370] = 'Jasper'\n",
    "installs_clean.town[1415] = 'Davisboro'"
   ]
  },
  {
   "cell_type": "code",
   "execution_count": null,
   "metadata": {},
   "outputs": [],
   "source": [
    "print(installs_clean['zip'][1472])\n",
    "print(installs_clean['zip'][1473])\n",
    "print(installs_clean['zip'][1483])\n",
    "print(installs_clean['zip'][1490])\n",
    "print(installs_clean['zip'][1493])"
   ]
  },
  {
   "cell_type": "code",
   "execution_count": null,
   "metadata": {},
   "outputs": [],
   "source": [
    "installs_clean.town[1472] = 'Metter'\n",
    "installs_clean.town[1473] = 'Butler'\n",
    "installs_clean.town[1483] = 'Savannah'\n",
    "installs_clean.town[1490] = 'Hogansville'\n",
    "installs_clean.town[1493] = 'Madison'"
   ]
  },
  {
   "cell_type": "code",
   "execution_count": null,
   "metadata": {},
   "outputs": [],
   "source": [
    "print(installs_clean['zip'][1497])\n",
    "print(installs_clean['zip'][1506])\n",
    "print(installs_clean['zip'][1507])\n",
    "print(installs_clean['zip'][1508])\n",
    "print(installs_clean['zip'][1509])"
   ]
  },
  {
   "cell_type": "code",
   "execution_count": null,
   "metadata": {},
   "outputs": [],
   "source": [
    "installs_clean.town[1497] = 'Lawrenceville'\n",
    "installs_clean.town[1506] = 'Newborn'\n",
    "installs_clean.town[1507] = 'Cartersville'\n",
    "installs_clean.town[1508] = 'Greenville'\n",
    "installs_clean.town[1509] = 'Dahlonega'"
   ]
  },
  {
   "cell_type": "code",
   "execution_count": null,
   "metadata": {},
   "outputs": [],
   "source": [
    "print(installs_clean['zip'][1517])\n",
    "print(installs_clean['zip'][1518])\n",
    "print(installs_clean['zip'][1529])\n",
    "print(installs_clean['zip'][1551])\n",
    "print(installs_clean['zip'][1552])"
   ]
  },
  {
   "cell_type": "code",
   "execution_count": null,
   "metadata": {},
   "outputs": [],
   "source": [
    "installs_clean.town[1517] = 'Augusta'\n",
    "installs_clean.town[1518] = 'Lavonia'\n",
    "installs_clean.town[1529] = 'Buckhead'\n",
    "installs_clean.town[1551] = 'Decatur'\n",
    "installs_clean.town[1552] = 'Claxton'"
   ]
  },
  {
   "cell_type": "code",
   "execution_count": null,
   "metadata": {},
   "outputs": [],
   "source": [
    "print(installs_clean['zip'][1558])\n",
    "print(installs_clean['zip'][1561])\n",
    "print(installs_clean['zip'][1562])\n",
    "print(installs_clean['zip'][1565])\n",
    "print(installs_clean['zip'][1577])"
   ]
  },
  {
   "cell_type": "code",
   "execution_count": null,
   "metadata": {},
   "outputs": [],
   "source": [
    "installs_clean.town[1558] = 'Decatur'\n",
    "installs_clean.town[1561] = 'Decatur'\n",
    "installs_clean.town[1562] = 'Brunswick'\n",
    "installs_clean.town[1565] = 'Jefferson'\n",
    "installs_clean.town[1577] = 'Cave Spring'"
   ]
  },
  {
   "cell_type": "code",
   "execution_count": null,
   "metadata": {},
   "outputs": [],
   "source": [
    "print(installs_clean['zip'][1581])\n",
    "print(installs_clean['zip'][1583])\n",
    "print(installs_clean['zip'][1584])\n",
    "print(installs_clean['zip'][1585])\n",
    "print(installs_clean['zip'][1587])"
   ]
  },
  {
   "cell_type": "code",
   "execution_count": null,
   "metadata": {},
   "outputs": [],
   "source": [
    "installs_clean.town[1581] = 'Augusta'\n",
    "installs_clean.town[1583] = 'Donalsonville'\n",
    "installs_clean.town[1584] = 'Acorn Pond'\n",
    "installs_clean.town[1585] = 'Chester'\n",
    "installs_clean.town[1587] = 'Decatur'"
   ]
  },
  {
   "cell_type": "code",
   "execution_count": null,
   "metadata": {},
   "outputs": [],
   "source": [
    "print(installs_clean['zip'][1606])\n",
    "print(installs_clean['zip'][1607])\n",
    "print(installs_clean['zip'][1611])\n",
    "print(installs_clean['zip'][1991])"
   ]
  },
  {
   "cell_type": "code",
   "execution_count": null,
   "metadata": {},
   "outputs": [],
   "source": [
    "installs_clean.town[1606] = 'Unadilla'\n",
    "installs_clean.town[1607] = 'Rome'\n",
    "installs_clean.town[1611] = 'Sandy Springs'\n",
    "installs_clean.town[1991] = 'Butler'"
   ]
  },
  {
   "cell_type": "markdown",
   "metadata": {},
   "source": [
    "#### 3.2.4.3 Test"
   ]
  },
  {
   "cell_type": "code",
   "execution_count": null,
   "metadata": {},
   "outputs": [],
   "source": [
    "print(installs_clean[installs_clean['town'].isnull()])"
   ]
  },
  {
   "cell_type": "markdown",
   "metadata": {},
   "source": [
    "### 3.2.5 Remove all observations with no latitude or longitude\n",
    "#### 3.2.5.1 Define\n",
    "Query the dataset and remove all NaN lat/long observations.\n",
    "\n",
    "#### 3.2.5.2 Code"
   ]
  },
  {
   "cell_type": "code",
   "execution_count": null,
   "metadata": {},
   "outputs": [],
   "source": [
    "installs_clean[installs_clean['lat'].isnull()]"
   ]
  },
  {
   "cell_type": "code",
   "execution_count": null,
   "metadata": {},
   "outputs": [],
   "source": [
    "installs_clean[installs_clean['lat'].isnull()].shape"
   ]
  },
  {
   "cell_type": "code",
   "execution_count": null,
   "metadata": {},
   "outputs": [],
   "source": [
    "installs_clean.drop([29,31,90,217,284,290,339,341,358,388,409,455,549,577,583,762,763,1001,1007,1260,1337,1644], inplace=True)"
   ]
  },
  {
   "cell_type": "markdown",
   "metadata": {},
   "source": [
    "#### 3.2.5.2 Test"
   ]
  },
  {
   "cell_type": "code",
   "execution_count": null,
   "metadata": {},
   "outputs": [],
   "source": [
    "installs_clean[installs_clean['lat'].isnull()]"
   ]
  },
  {
   "cell_type": "markdown",
   "metadata": {},
   "source": []
  },
  {
   "cell_type": "code",
   "execution_count": null,
   "metadata": {},
   "outputs": [],
   "source": [
    "installs_clean[installs_clean['utility'].isnull()]"
   ]
  },
  {
   "cell_type": "code",
   "execution_count": null,
   "metadata": {},
   "outputs": [],
   "source": [
    "util_rates_clean.info()"
   ]
  },
  {
   "cell_type": "code",
   "execution_count": null,
   "metadata": {},
   "outputs": [],
   "source": [
    "util_rates_clean['zip'] = util_rates_clean['zip'].round(0).astype(int)"
   ]
  },
  {
   "cell_type": "code",
   "execution_count": null,
   "metadata": {},
   "outputs": [],
   "source": [
    "util_rates_clean['zip'] = util_rates_clean['zip'].astype(str)"
   ]
  },
  {
   "cell_type": "code",
   "execution_count": null,
   "metadata": {},
   "outputs": [],
   "source": [
    "util_rates_clean.utility_id[util_rates_clean.zip =='30318']"
   ]
  },
  {
   "cell_type": "code",
   "execution_count": null,
   "metadata": {},
   "outputs": [],
   "source": []
  },
  {
   "cell_type": "markdown",
   "metadata": {},
   "source": [
    "## 3.2 Installations\n",
    "\n",
    "Installations\n",
    "\n",
    "- install-date is not in datetime format\n",
    "- fips is not a string\n",
    "- zip is an integer and not a string\n",
    "- congressional districts (federal and state) are not strings\n",
    "- NaN present in zip, town, lat, utility, federal-cong-dist, state-senate-dist, state-house-dist, lat, and long.\n",
    "- Can't check for duplicated id because of column name.\n",
    "\n",
    "\n",
    "### 3.2.1 Rename Columns\n",
    "#### 3.2.1.1 Define\n"
   ]
  }
 ],
 "metadata": {
  "kernelspec": {
   "display_name": "Python 3",
   "language": "python",
   "name": "python3"
  },
  "language_info": {
   "codemirror_mode": {
    "name": "ipython",
    "version": 3
   },
   "file_extension": ".py",
   "mimetype": "text/x-python",
   "name": "python",
   "nbconvert_exporter": "python",
   "pygments_lexer": "ipython3",
   "version": "3.7.3"
  }
 },
 "nbformat": 4,
 "nbformat_minor": 2
}
